{
 "cells": [
  {
   "cell_type": "markdown",
   "metadata": {},
   "source": [
    "# Starbucks Capstone Challenge\n",
    "\n",
    "### Introduction\n",
    "\n",
    "This data set contains simulated data that mimics customer behavior on the Starbucks rewards mobile app. Once every few days, Starbucks sends out an offer to users of the mobile app. An offer can be merely an advertisement for a drink or an actual offer such as a discount or BOGO (buy one get one free). Some users might not receive any offer during certain weeks. \n",
    "\n",
    "Not all users receive the same offer, and that is the challenge to solve with this data set.\n",
    "\n",
    "Your task is to combine transaction, demographic and offer data to determine which demographic groups respond best to which offer type. This data set is a simplified version of the real Starbucks app because the underlying simulator only has one product whereas Starbucks actually sells dozens of products.\n",
    "\n",
    "Every offer has a validity period before the offer expires. As an example, a BOGO offer might be valid for only 5 days. You'll see in the data set that informational offers have a validity period even though these ads are merely providing information about a product; for example, if an informational offer has 7 days of validity, you can assume the customer is feeling the influence of the offer for 7 days after receiving the advertisement.\n",
    "\n",
    "You'll be given transactional data showing user purchases made on the app including the timestamp of purchase and the amount of money spent on a purchase. This transactional data also has a record for each offer that a user receives as well as a record for when a user actually views the offer. There are also records for when a user completes an offer. \n",
    "\n",
    "Keep in mind as well that someone using the app might make a purchase through the app without having received an offer or seen an offer.\n",
    "\n",
    "### Example\n",
    "\n",
    "To give an example, a user could receive a discount offer buy 10 dollars get 2 off on Monday. The offer is valid for 10 days from receipt. If the customer accumulates at least 10 dollars in purchases during the validity period, the customer completes the offer.\n",
    "\n",
    "However, there are a few things to watch out for in this data set. Customers do not opt into the offers that they receive; in other words, a user can receive an offer, never actually view the offer, and still complete the offer. For example, a user might receive the \"buy 10 dollars get 2 dollars off offer\", but the user never opens the offer during the 10 day validity period. The customer spends 15 dollars during those ten days. There will be an offer completion record in the data set; however, the customer was not influenced by the offer because the customer never viewed the offer.\n",
    "\n",
    "### Cleaning\n",
    "\n",
    "This makes data cleaning especially important and tricky.\n",
    "\n",
    "You'll also want to take into account that some demographic groups will make purchases even if they don't receive an offer. From a business perspective, if a customer is going to make a 10 dollar purchase without an offer anyway, you wouldn't want to send a buy 10 dollars get 2 dollars off offer. You'll want to try to assess what a certain demographic group will buy when not receiving any offers.\n",
    "\n",
    "### Final Advice\n",
    "\n",
    "Because this is a capstone project, you are free to analyze the data any way you see fit. For example, you could build a machine learning model that predicts how much someone will spend based on demographics and offer type. Or you could build a model that predicts whether or not someone will respond to an offer. Or, you don't need to build a machine learning model at all. You could develop a set of heuristics that determine what offer you should send to each customer (i.e., 75 percent of women customers who were 35 years old responded to offer A vs 40 percent from the same demographic to offer B, so send offer A)."
   ]
  },
  {
   "cell_type": "markdown",
   "metadata": {},
   "source": [
    "# Data Sets\n",
    "\n",
    "The data is contained in three files:\n",
    "\n",
    "* portfolio.json - containing offer ids and meta data about each offer (duration, type, etc.)\n",
    "* profile.json - demographic data for each customer\n",
    "* transcript.json - records for transactions, offers received, offers viewed, and offers completed\n",
    "\n",
    "Here is the schema and explanation of each variable in the files:\n",
    "\n",
    "**portfolio.json**\n",
    "* id (string) - offer id\n",
    "* offer_type (string) - type of offer ie BOGO, discount, informational\n",
    "* difficulty (int) - minimum required spend to complete an offer\n",
    "* reward (int) - reward given for completing an offer\n",
    "* duration (int) - time for offer to be open, in days\n",
    "* channels (list of strings)\n",
    "\n",
    "**profile.json**\n",
    "* age (int) - age of the customer \n",
    "* became_member_on (int) - date when customer created an app account\n",
    "* gender (str) - gender of the customer (note some entries contain 'O' for other rather than M or F)\n",
    "* id (str) - customer id\n",
    "* income (float) - customer's income\n",
    "\n",
    "**transcript.json**\n",
    "* event (str) - record description (ie transaction, offer received, offer viewed, etc.)\n",
    "* person (str) - customer id\n",
    "* time (int) - time in hours since start of test. The data begins at time t=0\n",
    "* value - (dict of strings) - either an offer id or transaction amount depending on the record\n",
    "\n",
    "**Note:** If you are using the workspace, you will need to go to the terminal and run the command `conda update pandas` before reading in the files. This is because the version of pandas in the workspace cannot read in the transcript.json file correctly, but the newest version of pandas can. You can access the termnal from the orange icon in the top left of this notebook.  \n",
    "\n",
    "You can see how to access the terminal and how the install works using the two images below.  First you need to access the terminal:\n",
    "\n",
    "<img src=\"pic1.png\"/>\n",
    "\n",
    "Then you will want to run the above command:\n",
    "\n",
    "<img src=\"pic2.png\"/>\n",
    "\n",
    "Finally, when you enter back into the notebook (use the jupyter icon again), you should be able to run the below cell without any errors."
   ]
  },
  {
   "cell_type": "markdown",
   "metadata": {
    "toc": true
   },
   "source": [
    "<h1>Table of Contents<span class=\"tocSkip\"></span></h1>\n",
    "<div class=\"toc\"><ul class=\"toc-item\"><li><span><a href=\"#Starbucks-Capstone-Challenge\" data-toc-modified-id=\"Starbucks-Capstone-Challenge-1\"><span class=\"toc-item-num\">1&nbsp;&nbsp;</span>Starbucks Capstone Challenge</a></span><ul class=\"toc-item\"><li><ul class=\"toc-item\"><li><span><a href=\"#Introduction\" data-toc-modified-id=\"Introduction-1.0.1\"><span class=\"toc-item-num\">1.0.1&nbsp;&nbsp;</span>Introduction</a></span></li><li><span><a href=\"#Example\" data-toc-modified-id=\"Example-1.0.2\"><span class=\"toc-item-num\">1.0.2&nbsp;&nbsp;</span>Example</a></span></li><li><span><a href=\"#Cleaning\" data-toc-modified-id=\"Cleaning-1.0.3\"><span class=\"toc-item-num\">1.0.3&nbsp;&nbsp;</span>Cleaning</a></span></li><li><span><a href=\"#Final-Advice\" data-toc-modified-id=\"Final-Advice-1.0.4\"><span class=\"toc-item-num\">1.0.4&nbsp;&nbsp;</span>Final Advice</a></span></li></ul></li></ul></li><li><span><a href=\"#Data-Sets\" data-toc-modified-id=\"Data-Sets-2\"><span class=\"toc-item-num\">2&nbsp;&nbsp;</span>Data Sets</a></span></li><li><span><a href=\"#Problem-Statement\" data-toc-modified-id=\"Problem-Statement-3\"><span class=\"toc-item-num\">3&nbsp;&nbsp;</span>Problem Statement</a></span></li><li><span><a href=\"#EDA\" data-toc-modified-id=\"EDA-4\"><span class=\"toc-item-num\">4&nbsp;&nbsp;</span>EDA</a></span><ul class=\"toc-item\"><li><span><a href=\"#Portfolio-Data\" data-toc-modified-id=\"Portfolio-Data-4.1\"><span class=\"toc-item-num\">4.1&nbsp;&nbsp;</span>Portfolio Data</a></span><ul class=\"toc-item\"><li><span><a href=\"#Clean-data\" data-toc-modified-id=\"Clean-data-4.1.1\"><span class=\"toc-item-num\">4.1.1&nbsp;&nbsp;</span>Clean data</a></span></li><li><span><a href=\"#Portfolio-EDA\" data-toc-modified-id=\"Portfolio-EDA-4.1.2\"><span class=\"toc-item-num\">4.1.2&nbsp;&nbsp;</span>Portfolio EDA</a></span></li></ul></li><li><span><a href=\"#Profile-Data\" data-toc-modified-id=\"Profile-Data-4.2\"><span class=\"toc-item-num\">4.2&nbsp;&nbsp;</span>Profile Data</a></span><ul class=\"toc-item\"><li><span><a href=\"#Inspect-missing-value\" data-toc-modified-id=\"Inspect-missing-value-4.2.1\"><span class=\"toc-item-num\">4.2.1&nbsp;&nbsp;</span>Inspect missing value</a></span></li><li><span><a href=\"#Clean-Data\" data-toc-modified-id=\"Clean-Data-4.2.2\"><span class=\"toc-item-num\">4.2.2&nbsp;&nbsp;</span>Clean Data</a></span></li><li><span><a href=\"#Profile-EDA\" data-toc-modified-id=\"Profile-EDA-4.2.3\"><span class=\"toc-item-num\">4.2.3&nbsp;&nbsp;</span>Profile EDA</a></span></li></ul></li><li><span><a href=\"#Transcript\" data-toc-modified-id=\"Transcript-4.3\"><span class=\"toc-item-num\">4.3&nbsp;&nbsp;</span>Transcript</a></span><ul class=\"toc-item\"><li><span><a href=\"#Transform-Data\" data-toc-modified-id=\"Transform-Data-4.3.1\"><span class=\"toc-item-num\">4.3.1&nbsp;&nbsp;</span>Transform Data</a></span></li></ul></li><li><span><a href=\"#Combine-Data\" data-toc-modified-id=\"Combine-Data-4.4\"><span class=\"toc-item-num\">4.4&nbsp;&nbsp;</span>Combine Data</a></span><ul class=\"toc-item\"><li><span><a href=\"#Combine-data\" data-toc-modified-id=\"Combine-data-4.4.1\"><span class=\"toc-item-num\">4.4.1&nbsp;&nbsp;</span>Combine data</a></span></li><li><span><a href=\"#Feature-Engineering\" data-toc-modified-id=\"Feature-Engineering-4.4.2\"><span class=\"toc-item-num\">4.4.2&nbsp;&nbsp;</span>Feature Engineering</a></span></li><li><span><a href=\"#EDA\" data-toc-modified-id=\"EDA-4.4.3\"><span class=\"toc-item-num\">4.4.3&nbsp;&nbsp;</span>EDA</a></span><ul class=\"toc-item\"><li><span><a href=\"#correlation\" data-toc-modified-id=\"correlation-4.4.3.1\"><span class=\"toc-item-num\">4.4.3.1&nbsp;&nbsp;</span>correlation</a></span></li><li><span><a href=\"#customer-demographic\" data-toc-modified-id=\"customer-demographic-4.4.3.2\"><span class=\"toc-item-num\">4.4.3.2&nbsp;&nbsp;</span>customer demographic</a></span></li><li><span><a href=\"#offer-success-rate\" data-toc-modified-id=\"offer-success-rate-4.4.3.3\"><span class=\"toc-item-num\">4.4.3.3&nbsp;&nbsp;</span>offer success rate</a></span></li></ul></li></ul></li></ul></li><li><span><a href=\"#Build-Model\" data-toc-modified-id=\"Build-Model-5\"><span class=\"toc-item-num\">5&nbsp;&nbsp;</span>Build Model</a></span><ul class=\"toc-item\"><li><span><a href=\"#Complication:\" data-toc-modified-id=\"Complication:-5.1\"><span class=\"toc-item-num\">5.1&nbsp;&nbsp;</span>Complication:</a></span></li><li><span><a href=\"#Model-Choose:\" data-toc-modified-id=\"Model-Choose:-5.2\"><span class=\"toc-item-num\">5.2&nbsp;&nbsp;</span>Model Choose:</a></span></li><li><span><a href=\"#Prepare-Dataset\" data-toc-modified-id=\"Prepare-Dataset-5.3\"><span class=\"toc-item-num\">5.3&nbsp;&nbsp;</span>Prepare Dataset</a></span><ul class=\"toc-item\"><li><span><a href=\"#Build-model\" data-toc-modified-id=\"Build-model-5.3.1\"><span class=\"toc-item-num\">5.3.1&nbsp;&nbsp;</span>Build model</a></span><ul class=\"toc-item\"><li><span><a href=\"#Hyperparameter\" data-toc-modified-id=\"Hyperparameter-5.3.1.1\"><span class=\"toc-item-num\">5.3.1.1&nbsp;&nbsp;</span>Hyperparameter</a></span></li></ul></li></ul></li><li><span><a href=\"#Result\" data-toc-modified-id=\"Result-5.4\"><span class=\"toc-item-num\">5.4&nbsp;&nbsp;</span>Result</a></span></li><li><span><a href=\"#Possible-improvements\" data-toc-modified-id=\"Possible-improvements-5.5\"><span class=\"toc-item-num\">5.5&nbsp;&nbsp;</span>Possible improvements</a></span></li></ul></li></ul></div>"
   ]
  },
  {
   "cell_type": "markdown",
   "metadata": {},
   "source": [
    "# Problem Statement\n",
    "\n",
    "My goal of this project is to build a prediction model to find out whether a customer will respond to a certain offer based on the simulation. The strategy for this project is to analyze data, implement algorithms, and analyze the results. \n",
    "1. Analyze data: I'll clean data and apply EDA on each single dataset as while as combined dataset.\n",
    "2. Implement machine learning algorithm: I'll apply lightGBM machine learning algorithm and fine tune the prameter.\n"
   ]
  },
  {
   "cell_type": "markdown",
   "metadata": {},
   "source": [
    "# EDA\n"
   ]
  },
  {
   "cell_type": "code",
   "execution_count": 27,
   "metadata": {
    "ExecuteTime": {
     "end_time": "2020-03-07T20:11:21.263784Z",
     "start_time": "2020-03-07T20:11:21.255669Z"
    }
   },
   "outputs": [],
   "source": [
    "import pandas as pd\n",
    "import numpy as np\n",
    "import math\n",
    "import json\n",
    "%matplotlib inline\n",
    "\n",
    "import lighteda as le\n",
    "from datetime import datetime\n",
    "from sklearn.preprocessing import MultiLabelBinarizer,OneHotEncoder,MinMaxScaler\n",
    "import matplotlib.pyplot as plt\n",
    "import seaborn as sns\n",
    "import helper\n",
    "\n",
    "import lightgbm as lgb\n",
    "from sklearn.model_selection import train_test_split\n",
    "\n",
    "from sklearn import metrics\n",
    "from sklearn.metrics import mean_squared_error\n",
    "from sklearn.metrics import accuracy_score, f1_score,roc_curve, auc\n",
    "from sklearn.model_selection import GridSearchCV\n",
    "import re"
   ]
  },
  {
   "cell_type": "markdown",
   "metadata": {},
   "source": [
    "## Portfolio Data"
   ]
  },
  {
   "cell_type": "code",
   "execution_count": 2,
   "metadata": {
    "ExecuteTime": {
     "end_time": "2020-03-07T15:29:05.685351Z",
     "start_time": "2020-03-07T15:29:05.658073Z"
    },
    "scrolled": true
   },
   "outputs": [
    {
     "data": {
      "text/html": [
       "<div>\n",
       "<style scoped>\n",
       "    .dataframe tbody tr th:only-of-type {\n",
       "        vertical-align: middle;\n",
       "    }\n",
       "\n",
       "    .dataframe tbody tr th {\n",
       "        vertical-align: top;\n",
       "    }\n",
       "\n",
       "    .dataframe thead th {\n",
       "        text-align: right;\n",
       "    }\n",
       "</style>\n",
       "<table border=\"1\" class=\"dataframe\">\n",
       "  <thead>\n",
       "    <tr style=\"text-align: right;\">\n",
       "      <th></th>\n",
       "      <th>reward</th>\n",
       "      <th>channels</th>\n",
       "      <th>difficulty</th>\n",
       "      <th>duration</th>\n",
       "      <th>offer_type</th>\n",
       "      <th>id</th>\n",
       "    </tr>\n",
       "  </thead>\n",
       "  <tbody>\n",
       "    <tr>\n",
       "      <td>0</td>\n",
       "      <td>10</td>\n",
       "      <td>[email, mobile, social]</td>\n",
       "      <td>10</td>\n",
       "      <td>7</td>\n",
       "      <td>bogo</td>\n",
       "      <td>ae264e3637204a6fb9bb56bc8210ddfd</td>\n",
       "    </tr>\n",
       "    <tr>\n",
       "      <td>1</td>\n",
       "      <td>10</td>\n",
       "      <td>[web, email, mobile, social]</td>\n",
       "      <td>10</td>\n",
       "      <td>5</td>\n",
       "      <td>bogo</td>\n",
       "      <td>4d5c57ea9a6940dd891ad53e9dbe8da0</td>\n",
       "    </tr>\n",
       "    <tr>\n",
       "      <td>2</td>\n",
       "      <td>0</td>\n",
       "      <td>[web, email, mobile]</td>\n",
       "      <td>0</td>\n",
       "      <td>4</td>\n",
       "      <td>informational</td>\n",
       "      <td>3f207df678b143eea3cee63160fa8bed</td>\n",
       "    </tr>\n",
       "    <tr>\n",
       "      <td>3</td>\n",
       "      <td>5</td>\n",
       "      <td>[web, email, mobile]</td>\n",
       "      <td>5</td>\n",
       "      <td>7</td>\n",
       "      <td>bogo</td>\n",
       "      <td>9b98b8c7a33c4b65b9aebfe6a799e6d9</td>\n",
       "    </tr>\n",
       "    <tr>\n",
       "      <td>4</td>\n",
       "      <td>5</td>\n",
       "      <td>[web, email]</td>\n",
       "      <td>20</td>\n",
       "      <td>10</td>\n",
       "      <td>discount</td>\n",
       "      <td>0b1e1539f2cc45b7b9fa7c272da2e1d7</td>\n",
       "    </tr>\n",
       "  </tbody>\n",
       "</table>\n",
       "</div>"
      ],
      "text/plain": [
       "   reward                      channels  difficulty  duration     offer_type  \\\n",
       "0      10       [email, mobile, social]          10         7           bogo   \n",
       "1      10  [web, email, mobile, social]          10         5           bogo   \n",
       "2       0          [web, email, mobile]           0         4  informational   \n",
       "3       5          [web, email, mobile]           5         7           bogo   \n",
       "4       5                  [web, email]          20        10       discount   \n",
       "\n",
       "                                 id  \n",
       "0  ae264e3637204a6fb9bb56bc8210ddfd  \n",
       "1  4d5c57ea9a6940dd891ad53e9dbe8da0  \n",
       "2  3f207df678b143eea3cee63160fa8bed  \n",
       "3  9b98b8c7a33c4b65b9aebfe6a799e6d9  \n",
       "4  0b1e1539f2cc45b7b9fa7c272da2e1d7  "
      ]
     },
     "execution_count": 2,
     "metadata": {},
     "output_type": "execute_result"
    }
   ],
   "source": [
    "portfolio_raw = pd.read_json('../data/external/portfolio.json', orient='records', lines=True)\n",
    "portfolio_raw.head()"
   ]
  },
  {
   "cell_type": "markdown",
   "metadata": {
    "ExecuteTime": {
     "end_time": "2020-03-06T06:50:05.969464Z",
     "start_time": "2020-03-06T06:50:05.966171Z"
    }
   },
   "source": [
    "### Clean data"
   ]
  },
  {
   "cell_type": "code",
   "execution_count": 3,
   "metadata": {
    "ExecuteTime": {
     "end_time": "2020-03-07T15:29:07.506244Z",
     "start_time": "2020-03-07T15:29:07.480186Z"
    }
   },
   "outputs": [
    {
     "data": {
      "text/html": [
       "<div>\n",
       "<style scoped>\n",
       "    .dataframe tbody tr th:only-of-type {\n",
       "        vertical-align: middle;\n",
       "    }\n",
       "\n",
       "    .dataframe tbody tr th {\n",
       "        vertical-align: top;\n",
       "    }\n",
       "\n",
       "    .dataframe thead th {\n",
       "        text-align: right;\n",
       "    }\n",
       "</style>\n",
       "<table border=\"1\" class=\"dataframe\">\n",
       "  <thead>\n",
       "    <tr style=\"text-align: right;\">\n",
       "      <th></th>\n",
       "      <th>reward</th>\n",
       "      <th>difficulty</th>\n",
       "      <th>duration</th>\n",
       "      <th>offer_type</th>\n",
       "      <th>offer_id</th>\n",
       "      <th>email</th>\n",
       "      <th>mobile</th>\n",
       "      <th>social</th>\n",
       "      <th>web</th>\n",
       "    </tr>\n",
       "  </thead>\n",
       "  <tbody>\n",
       "    <tr>\n",
       "      <td>0</td>\n",
       "      <td>10</td>\n",
       "      <td>10</td>\n",
       "      <td>7</td>\n",
       "      <td>bogo</td>\n",
       "      <td>ae264e3637204a6fb9bb56bc8210ddfd</td>\n",
       "      <td>1</td>\n",
       "      <td>1</td>\n",
       "      <td>1</td>\n",
       "      <td>0</td>\n",
       "    </tr>\n",
       "    <tr>\n",
       "      <td>1</td>\n",
       "      <td>10</td>\n",
       "      <td>10</td>\n",
       "      <td>5</td>\n",
       "      <td>bogo</td>\n",
       "      <td>4d5c57ea9a6940dd891ad53e9dbe8da0</td>\n",
       "      <td>1</td>\n",
       "      <td>1</td>\n",
       "      <td>1</td>\n",
       "      <td>1</td>\n",
       "    </tr>\n",
       "    <tr>\n",
       "      <td>2</td>\n",
       "      <td>0</td>\n",
       "      <td>0</td>\n",
       "      <td>4</td>\n",
       "      <td>informational</td>\n",
       "      <td>3f207df678b143eea3cee63160fa8bed</td>\n",
       "      <td>1</td>\n",
       "      <td>1</td>\n",
       "      <td>0</td>\n",
       "      <td>1</td>\n",
       "    </tr>\n",
       "    <tr>\n",
       "      <td>3</td>\n",
       "      <td>5</td>\n",
       "      <td>5</td>\n",
       "      <td>7</td>\n",
       "      <td>bogo</td>\n",
       "      <td>9b98b8c7a33c4b65b9aebfe6a799e6d9</td>\n",
       "      <td>1</td>\n",
       "      <td>1</td>\n",
       "      <td>0</td>\n",
       "      <td>1</td>\n",
       "    </tr>\n",
       "    <tr>\n",
       "      <td>4</td>\n",
       "      <td>5</td>\n",
       "      <td>20</td>\n",
       "      <td>10</td>\n",
       "      <td>discount</td>\n",
       "      <td>0b1e1539f2cc45b7b9fa7c272da2e1d7</td>\n",
       "      <td>1</td>\n",
       "      <td>0</td>\n",
       "      <td>0</td>\n",
       "      <td>1</td>\n",
       "    </tr>\n",
       "  </tbody>\n",
       "</table>\n",
       "</div>"
      ],
      "text/plain": [
       "   reward  difficulty  duration     offer_type  \\\n",
       "0      10          10         7           bogo   \n",
       "1      10          10         5           bogo   \n",
       "2       0           0         4  informational   \n",
       "3       5           5         7           bogo   \n",
       "4       5          20        10       discount   \n",
       "\n",
       "                           offer_id  email  mobile  social  web  \n",
       "0  ae264e3637204a6fb9bb56bc8210ddfd      1       1       1    0  \n",
       "1  4d5c57ea9a6940dd891ad53e9dbe8da0      1       1       1    1  \n",
       "2  3f207df678b143eea3cee63160fa8bed      1       1       0    1  \n",
       "3  9b98b8c7a33c4b65b9aebfe6a799e6d9      1       1       0    1  \n",
       "4  0b1e1539f2cc45b7b9fa7c272da2e1d7      1       0       0    1  "
      ]
     },
     "execution_count": 3,
     "metadata": {},
     "output_type": "execute_result"
    }
   ],
   "source": [
    "portfolio = helper.process_portfolio('../data/external/portfolio.json')\n",
    "\n",
    "portfolio.head()"
   ]
  },
  {
   "cell_type": "code",
   "execution_count": 4,
   "metadata": {
    "ExecuteTime": {
     "end_time": "2020-03-07T15:29:08.394271Z",
     "start_time": "2020-03-07T15:29:08.374190Z"
    }
   },
   "outputs": [
    {
     "data": {
      "text/html": [
       "<div>\n",
       "<style scoped>\n",
       "    .dataframe tbody tr th:only-of-type {\n",
       "        vertical-align: middle;\n",
       "    }\n",
       "\n",
       "    .dataframe tbody tr th {\n",
       "        vertical-align: top;\n",
       "    }\n",
       "\n",
       "    .dataframe thead th {\n",
       "        text-align: right;\n",
       "    }\n",
       "</style>\n",
       "<table border=\"1\" class=\"dataframe\">\n",
       "  <thead>\n",
       "    <tr style=\"text-align: right;\">\n",
       "      <th></th>\n",
       "      <th>Columns</th>\n",
       "      <th>Unique Values</th>\n",
       "      <th>% of Missing Values</th>\n",
       "      <th>% of Values in One Category</th>\n",
       "      <th>Data Type</th>\n",
       "    </tr>\n",
       "  </thead>\n",
       "  <tbody>\n",
       "    <tr>\n",
       "      <td>0</td>\n",
       "      <td>reward</td>\n",
       "      <td>5</td>\n",
       "      <td>0.0</td>\n",
       "      <td>0.3</td>\n",
       "      <td>int64</td>\n",
       "    </tr>\n",
       "    <tr>\n",
       "      <td>1</td>\n",
       "      <td>difficulty</td>\n",
       "      <td>5</td>\n",
       "      <td>0.0</td>\n",
       "      <td>0.4</td>\n",
       "      <td>int64</td>\n",
       "    </tr>\n",
       "    <tr>\n",
       "      <td>2</td>\n",
       "      <td>duration</td>\n",
       "      <td>5</td>\n",
       "      <td>0.0</td>\n",
       "      <td>0.4</td>\n",
       "      <td>int64</td>\n",
       "    </tr>\n",
       "    <tr>\n",
       "      <td>3</td>\n",
       "      <td>offer_type</td>\n",
       "      <td>3</td>\n",
       "      <td>0.0</td>\n",
       "      <td>0.4</td>\n",
       "      <td>object</td>\n",
       "    </tr>\n",
       "    <tr>\n",
       "      <td>4</td>\n",
       "      <td>offer_id</td>\n",
       "      <td>10</td>\n",
       "      <td>0.0</td>\n",
       "      <td>0.1</td>\n",
       "      <td>object</td>\n",
       "    </tr>\n",
       "    <tr>\n",
       "      <td>5</td>\n",
       "      <td>email</td>\n",
       "      <td>1</td>\n",
       "      <td>0.0</td>\n",
       "      <td>1.0</td>\n",
       "      <td>int64</td>\n",
       "    </tr>\n",
       "    <tr>\n",
       "      <td>6</td>\n",
       "      <td>mobile</td>\n",
       "      <td>2</td>\n",
       "      <td>0.0</td>\n",
       "      <td>0.9</td>\n",
       "      <td>int64</td>\n",
       "    </tr>\n",
       "    <tr>\n",
       "      <td>7</td>\n",
       "      <td>social</td>\n",
       "      <td>2</td>\n",
       "      <td>0.0</td>\n",
       "      <td>0.6</td>\n",
       "      <td>int64</td>\n",
       "    </tr>\n",
       "    <tr>\n",
       "      <td>8</td>\n",
       "      <td>web</td>\n",
       "      <td>2</td>\n",
       "      <td>0.0</td>\n",
       "      <td>0.8</td>\n",
       "      <td>int64</td>\n",
       "    </tr>\n",
       "  </tbody>\n",
       "</table>\n",
       "</div>"
      ],
      "text/plain": [
       "      Columns  Unique Values  % of Missing Values  \\\n",
       "0      reward              5                  0.0   \n",
       "1  difficulty              5                  0.0   \n",
       "2    duration              5                  0.0   \n",
       "3  offer_type              3                  0.0   \n",
       "4    offer_id             10                  0.0   \n",
       "5       email              1                  0.0   \n",
       "6      mobile              2                  0.0   \n",
       "7      social              2                  0.0   \n",
       "8         web              2                  0.0   \n",
       "\n",
       "   % of Values in One Category Data Type  \n",
       "0                          0.3     int64  \n",
       "1                          0.4     int64  \n",
       "2                          0.4     int64  \n",
       "3                          0.4    object  \n",
       "4                          0.1    object  \n",
       "5                          1.0     int64  \n",
       "6                          0.9     int64  \n",
       "7                          0.6     int64  \n",
       "8                          0.8     int64  "
      ]
     },
     "execution_count": 4,
     "metadata": {},
     "output_type": "execute_result"
    }
   ],
   "source": [
    "le.data_stats(portfolio)"
   ]
  },
  {
   "cell_type": "markdown",
   "metadata": {
    "ExecuteTime": {
     "end_time": "2020-02-23T05:57:33.435476Z",
     "start_time": "2020-02-23T05:57:33.432445Z"
    }
   },
   "source": [
    "### Portfolio EDA"
   ]
  },
  {
   "cell_type": "code",
   "execution_count": 6,
   "metadata": {
    "ExecuteTime": {
     "end_time": "2020-03-07T15:29:16.092494Z",
     "start_time": "2020-03-07T15:29:16.078179Z"
    }
   },
   "outputs": [
    {
     "data": {
      "text/html": [
       "<div>\n",
       "<style scoped>\n",
       "    .dataframe tbody tr th:only-of-type {\n",
       "        vertical-align: middle;\n",
       "    }\n",
       "\n",
       "    .dataframe tbody tr th {\n",
       "        vertical-align: top;\n",
       "    }\n",
       "\n",
       "    .dataframe thead th {\n",
       "        text-align: right;\n",
       "    }\n",
       "</style>\n",
       "<table border=\"1\" class=\"dataframe\">\n",
       "  <thead>\n",
       "    <tr style=\"text-align: right;\">\n",
       "      <th></th>\n",
       "      <th>Total Email</th>\n",
       "      <th>Total Mobile</th>\n",
       "      <th>Total Social</th>\n",
       "      <th>Total Web</th>\n",
       "    </tr>\n",
       "  </thead>\n",
       "  <tbody>\n",
       "    <tr>\n",
       "      <td>1</td>\n",
       "      <td>10</td>\n",
       "      <td>9</td>\n",
       "      <td>6</td>\n",
       "      <td>8</td>\n",
       "    </tr>\n",
       "  </tbody>\n",
       "</table>\n",
       "</div>"
      ],
      "text/plain": [
       "   Total Email  Total Mobile  Total Social  Total Web\n",
       "1           10             9             6          8"
      ]
     },
     "metadata": {},
     "output_type": "display_data"
    }
   ],
   "source": [
    "portfolio_channal_df = helper.portfolio_channal(portfolio)\n",
    "display(portfolio_channal_df)"
   ]
  },
  {
   "cell_type": "code",
   "execution_count": 336,
   "metadata": {
    "ExecuteTime": {
     "end_time": "2020-03-06T06:50:49.396973Z",
     "start_time": "2020-03-06T06:50:49.313996Z"
    }
   },
   "outputs": [
    {
     "data": {
      "text/plain": [
       "<matplotlib.axes._subplots.AxesSubplot at 0x7f7be245e110>"
      ]
     },
     "execution_count": 336,
     "metadata": {},
     "output_type": "execute_result"
    },
    {
     "data": {
      "image/png": "[encoded data removed]",
      "text/plain": [
       "<Figure size 432x288 with 1 Axes>"
      ]
     },
     "metadata": {
      "needs_background": "light"
     },
     "output_type": "display_data"
    }
   ],
   "source": [
    "sns.countplot(x='offer_type',data=portfolio)"
   ]
  },
  {
   "cell_type": "markdown",
   "metadata": {},
   "source": [
    "## Profile Data"
   ]
  },
  {
   "cell_type": "code",
   "execution_count": 3,
   "metadata": {
    "ExecuteTime": {
     "end_time": "2020-03-07T15:39:21.522639Z",
     "start_time": "2020-03-07T15:39:21.431913Z"
    }
   },
   "outputs": [
    {
     "data": {
      "text/html": [
       "<div>\n",
       "<style scoped>\n",
       "    .dataframe tbody tr th:only-of-type {\n",
       "        vertical-align: middle;\n",
       "    }\n",
       "\n",
       "    .dataframe tbody tr th {\n",
       "        vertical-align: top;\n",
       "    }\n",
       "\n",
       "    .dataframe thead th {\n",
       "        text-align: right;\n",
       "    }\n",
       "</style>\n",
       "<table border=\"1\" class=\"dataframe\">\n",
       "  <thead>\n",
       "    <tr style=\"text-align: right;\">\n",
       "      <th></th>\n",
       "      <th>gender</th>\n",
       "      <th>age</th>\n",
       "      <th>id</th>\n",
       "      <th>became_member_on</th>\n",
       "      <th>income</th>\n",
       "    </tr>\n",
       "  </thead>\n",
       "  <tbody>\n",
       "    <tr>\n",
       "      <td>0</td>\n",
       "      <td>None</td>\n",
       "      <td>118</td>\n",
       "      <td>68be06ca386d4c31939f3a4f0e3dd783</td>\n",
       "      <td>20170212</td>\n",
       "      <td>NaN</td>\n",
       "    </tr>\n",
       "    <tr>\n",
       "      <td>1</td>\n",
       "      <td>F</td>\n",
       "      <td>55</td>\n",
       "      <td>0610b486422d4921ae7d2bf64640c50b</td>\n",
       "      <td>20170715</td>\n",
       "      <td>112000.0</td>\n",
       "    </tr>\n",
       "    <tr>\n",
       "      <td>2</td>\n",
       "      <td>None</td>\n",
       "      <td>118</td>\n",
       "      <td>38fe809add3b4fcf9315a9694bb96ff5</td>\n",
       "      <td>20180712</td>\n",
       "      <td>NaN</td>\n",
       "    </tr>\n",
       "    <tr>\n",
       "      <td>3</td>\n",
       "      <td>F</td>\n",
       "      <td>75</td>\n",
       "      <td>78afa995795e4d85b5d9ceeca43f5fef</td>\n",
       "      <td>20170509</td>\n",
       "      <td>100000.0</td>\n",
       "    </tr>\n",
       "    <tr>\n",
       "      <td>4</td>\n",
       "      <td>None</td>\n",
       "      <td>118</td>\n",
       "      <td>a03223e636434f42ac4c3df47e8bac43</td>\n",
       "      <td>20170804</td>\n",
       "      <td>NaN</td>\n",
       "    </tr>\n",
       "  </tbody>\n",
       "</table>\n",
       "</div>"
      ],
      "text/plain": [
       "  gender  age                                id  became_member_on    income\n",
       "0   None  118  68be06ca386d4c31939f3a4f0e3dd783          20170212       NaN\n",
       "1      F   55  0610b486422d4921ae7d2bf64640c50b          20170715  112000.0\n",
       "2   None  118  38fe809add3b4fcf9315a9694bb96ff5          20180712       NaN\n",
       "3      F   75  78afa995795e4d85b5d9ceeca43f5fef          20170509  100000.0\n",
       "4   None  118  a03223e636434f42ac4c3df47e8bac43          20170804       NaN"
      ]
     },
     "metadata": {},
     "output_type": "display_data"
    },
    {
     "name": "stdout",
     "output_type": "stream",
     "text": [
      "(17000, 5)\n"
     ]
    }
   ],
   "source": [
    "profile = pd.read_json('../data/external/profile.json', orient='records', lines=True)\n",
    "display(profile.head())\n",
    "print(profile.shape)"
   ]
  },
  {
   "cell_type": "code",
   "execution_count": 4,
   "metadata": {
    "ExecuteTime": {
     "end_time": "2020-03-07T15:39:22.721803Z",
     "start_time": "2020-03-07T15:39:22.687369Z"
    }
   },
   "outputs": [
    {
     "data": {
      "text/html": [
       "<div>\n",
       "<style scoped>\n",
       "    .dataframe tbody tr th:only-of-type {\n",
       "        vertical-align: middle;\n",
       "    }\n",
       "\n",
       "    .dataframe tbody tr th {\n",
       "        vertical-align: top;\n",
       "    }\n",
       "\n",
       "    .dataframe thead th {\n",
       "        text-align: right;\n",
       "    }\n",
       "</style>\n",
       "<table border=\"1\" class=\"dataframe\">\n",
       "  <thead>\n",
       "    <tr style=\"text-align: right;\">\n",
       "      <th></th>\n",
       "      <th>Columns</th>\n",
       "      <th>Unique Values</th>\n",
       "      <th>% of Missing Values</th>\n",
       "      <th>% of Values in One Category</th>\n",
       "      <th>Data Type</th>\n",
       "    </tr>\n",
       "  </thead>\n",
       "  <tbody>\n",
       "    <tr>\n",
       "      <td>0</td>\n",
       "      <td>gender</td>\n",
       "      <td>3</td>\n",
       "      <td>0.127941</td>\n",
       "      <td>0.499059</td>\n",
       "      <td>object</td>\n",
       "    </tr>\n",
       "    <tr>\n",
       "      <td>4</td>\n",
       "      <td>income</td>\n",
       "      <td>91</td>\n",
       "      <td>0.127941</td>\n",
       "      <td>0.127941</td>\n",
       "      <td>float64</td>\n",
       "    </tr>\n",
       "    <tr>\n",
       "      <td>1</td>\n",
       "      <td>age</td>\n",
       "      <td>85</td>\n",
       "      <td>0.000000</td>\n",
       "      <td>0.127941</td>\n",
       "      <td>int64</td>\n",
       "    </tr>\n",
       "    <tr>\n",
       "      <td>2</td>\n",
       "      <td>id</td>\n",
       "      <td>17000</td>\n",
       "      <td>0.000000</td>\n",
       "      <td>0.000059</td>\n",
       "      <td>object</td>\n",
       "    </tr>\n",
       "    <tr>\n",
       "      <td>3</td>\n",
       "      <td>became_member_on</td>\n",
       "      <td>1716</td>\n",
       "      <td>0.000000</td>\n",
       "      <td>0.002529</td>\n",
       "      <td>int64</td>\n",
       "    </tr>\n",
       "  </tbody>\n",
       "</table>\n",
       "</div>"
      ],
      "text/plain": [
       "            Columns  Unique Values  % of Missing Values  \\\n",
       "0            gender              3             0.127941   \n",
       "4            income             91             0.127941   \n",
       "1               age             85             0.000000   \n",
       "2                id          17000             0.000000   \n",
       "3  became_member_on           1716             0.000000   \n",
       "\n",
       "   % of Values in One Category Data Type  \n",
       "0                     0.499059    object  \n",
       "4                     0.127941   float64  \n",
       "1                     0.127941     int64  \n",
       "2                     0.000059    object  \n",
       "3                     0.002529     int64  "
      ]
     },
     "execution_count": 4,
     "metadata": {},
     "output_type": "execute_result"
    }
   ],
   "source": [
    "le.data_stats(profile)"
   ]
  },
  {
   "cell_type": "markdown",
   "metadata": {},
   "source": [
    "In `gender` and `income` columns, there are 13% data missing. we need further analysis these missing value.\n",
    "\n",
    "### Inspect missing value"
   ]
  },
  {
   "cell_type": "code",
   "execution_count": 5,
   "metadata": {
    "ExecuteTime": {
     "end_time": "2020-03-07T15:39:24.576933Z",
     "start_time": "2020-03-07T15:39:24.568437Z"
    }
   },
   "outputs": [
    {
     "name": "stdout",
     "output_type": "stream",
     "text": [
      "118    2175\n",
      "58      408\n",
      "53      372\n",
      "51      363\n",
      "54      359\n",
      "Name: age, dtype: int64\n",
      "M    8484\n",
      "F    6129\n",
      "O     212\n",
      "Name: gender, dtype: int64\n"
     ]
    }
   ],
   "source": [
    "print(profile.age.value_counts()[:5])\n",
    "print(profile.gender.value_counts())"
   ]
  },
  {
   "cell_type": "code",
   "execution_count": 6,
   "metadata": {
    "ExecuteTime": {
     "end_time": "2020-03-07T15:39:25.650516Z",
     "start_time": "2020-03-07T15:39:25.625721Z"
    }
   },
   "outputs": [
    {
     "data": {
      "text/html": [
       "<div>\n",
       "<style scoped>\n",
       "    .dataframe tbody tr th:only-of-type {\n",
       "        vertical-align: middle;\n",
       "    }\n",
       "\n",
       "    .dataframe tbody tr th {\n",
       "        vertical-align: top;\n",
       "    }\n",
       "\n",
       "    .dataframe thead th {\n",
       "        text-align: right;\n",
       "    }\n",
       "</style>\n",
       "<table border=\"1\" class=\"dataframe\">\n",
       "  <thead>\n",
       "    <tr style=\"text-align: right;\">\n",
       "      <th></th>\n",
       "      <th>Columns</th>\n",
       "      <th>Unique Values</th>\n",
       "      <th>% of Missing Values</th>\n",
       "      <th>% of Values in One Category</th>\n",
       "      <th>Data Type</th>\n",
       "    </tr>\n",
       "  </thead>\n",
       "  <tbody>\n",
       "    <tr>\n",
       "      <td>0</td>\n",
       "      <td>gender</td>\n",
       "      <td>3</td>\n",
       "      <td>0.0</td>\n",
       "      <td>0.572277</td>\n",
       "      <td>object</td>\n",
       "    </tr>\n",
       "    <tr>\n",
       "      <td>1</td>\n",
       "      <td>age</td>\n",
       "      <td>84</td>\n",
       "      <td>0.0</td>\n",
       "      <td>0.027521</td>\n",
       "      <td>int64</td>\n",
       "    </tr>\n",
       "    <tr>\n",
       "      <td>2</td>\n",
       "      <td>id</td>\n",
       "      <td>14825</td>\n",
       "      <td>0.0</td>\n",
       "      <td>0.000067</td>\n",
       "      <td>object</td>\n",
       "    </tr>\n",
       "    <tr>\n",
       "      <td>3</td>\n",
       "      <td>became_member_on</td>\n",
       "      <td>1707</td>\n",
       "      <td>0.0</td>\n",
       "      <td>0.002631</td>\n",
       "      <td>int64</td>\n",
       "    </tr>\n",
       "    <tr>\n",
       "      <td>4</td>\n",
       "      <td>income</td>\n",
       "      <td>91</td>\n",
       "      <td>0.0</td>\n",
       "      <td>0.021180</td>\n",
       "      <td>float64</td>\n",
       "    </tr>\n",
       "  </tbody>\n",
       "</table>\n",
       "</div>"
      ],
      "text/plain": [
       "            Columns  Unique Values  % of Missing Values  \\\n",
       "0            gender              3                  0.0   \n",
       "1               age             84                  0.0   \n",
       "2                id          14825                  0.0   \n",
       "3  became_member_on           1707                  0.0   \n",
       "4            income             91                  0.0   \n",
       "\n",
       "   % of Values in One Category Data Type  \n",
       "0                     0.572277    object  \n",
       "1                     0.027521     int64  \n",
       "2                     0.000067    object  \n",
       "3                     0.002631     int64  \n",
       "4                     0.021180   float64  "
      ]
     },
     "execution_count": 6,
     "metadata": {},
     "output_type": "execute_result"
    }
   ],
   "source": [
    "le.data_stats(profile[profile.age != 118])"
   ]
  },
  {
   "cell_type": "code",
   "execution_count": 7,
   "metadata": {
    "ExecuteTime": {
     "end_time": "2020-03-07T15:39:26.633128Z",
     "start_time": "2020-03-07T15:39:26.614877Z"
    }
   },
   "outputs": [
    {
     "data": {
      "text/html": [
       "<div>\n",
       "<style scoped>\n",
       "    .dataframe tbody tr th:only-of-type {\n",
       "        vertical-align: middle;\n",
       "    }\n",
       "\n",
       "    .dataframe tbody tr th {\n",
       "        vertical-align: top;\n",
       "    }\n",
       "\n",
       "    .dataframe thead th {\n",
       "        text-align: right;\n",
       "    }\n",
       "</style>\n",
       "<table border=\"1\" class=\"dataframe\">\n",
       "  <thead>\n",
       "    <tr style=\"text-align: right;\">\n",
       "      <th></th>\n",
       "      <th>Columns</th>\n",
       "      <th>Unique Values</th>\n",
       "      <th>% of Missing Values</th>\n",
       "      <th>% of Values in One Category</th>\n",
       "      <th>Data Type</th>\n",
       "    </tr>\n",
       "  </thead>\n",
       "  <tbody>\n",
       "    <tr>\n",
       "      <td>0</td>\n",
       "      <td>gender</td>\n",
       "      <td>0</td>\n",
       "      <td>1.0</td>\n",
       "      <td>1.000000</td>\n",
       "      <td>object</td>\n",
       "    </tr>\n",
       "    <tr>\n",
       "      <td>4</td>\n",
       "      <td>income</td>\n",
       "      <td>0</td>\n",
       "      <td>1.0</td>\n",
       "      <td>1.000000</td>\n",
       "      <td>float64</td>\n",
       "    </tr>\n",
       "    <tr>\n",
       "      <td>1</td>\n",
       "      <td>age</td>\n",
       "      <td>1</td>\n",
       "      <td>0.0</td>\n",
       "      <td>1.000000</td>\n",
       "      <td>int64</td>\n",
       "    </tr>\n",
       "    <tr>\n",
       "      <td>2</td>\n",
       "      <td>id</td>\n",
       "      <td>2175</td>\n",
       "      <td>0.0</td>\n",
       "      <td>0.000460</td>\n",
       "      <td>object</td>\n",
       "    </tr>\n",
       "    <tr>\n",
       "      <td>3</td>\n",
       "      <td>became_member_on</td>\n",
       "      <td>950</td>\n",
       "      <td>0.0</td>\n",
       "      <td>0.005057</td>\n",
       "      <td>int64</td>\n",
       "    </tr>\n",
       "  </tbody>\n",
       "</table>\n",
       "</div>"
      ],
      "text/plain": [
       "            Columns  Unique Values  % of Missing Values  \\\n",
       "0            gender              0                  1.0   \n",
       "4            income              0                  1.0   \n",
       "1               age              1                  0.0   \n",
       "2                id           2175                  0.0   \n",
       "3  became_member_on            950                  0.0   \n",
       "\n",
       "   % of Values in One Category Data Type  \n",
       "0                     1.000000    object  \n",
       "4                     1.000000   float64  \n",
       "1                     1.000000     int64  \n",
       "2                     0.000460    object  \n",
       "3                     0.005057     int64  "
      ]
     },
     "execution_count": 7,
     "metadata": {},
     "output_type": "execute_result"
    }
   ],
   "source": [
    "le.data_stats(profile[profile.age == 118])"
   ]
  },
  {
   "cell_type": "markdown",
   "metadata": {},
   "source": [
    "There are 12.8% All missing value have age as 118. Therefore, we can filter out missing values.\n",
    "\n"
   ]
  },
  {
   "cell_type": "markdown",
   "metadata": {
    "ExecuteTime": {
     "end_time": "2020-02-16T06:18:59.311912Z",
     "start_time": "2020-02-16T06:18:59.308568Z"
    }
   },
   "source": [
    "### Clean Data"
   ]
  },
  {
   "cell_type": "code",
   "execution_count": 8,
   "metadata": {
    "ExecuteTime": {
     "end_time": "2020-03-07T15:39:30.852404Z",
     "start_time": "2020-03-07T15:39:30.713086Z"
    }
   },
   "outputs": [],
   "source": [
    "profile = helper.process_profile('../data/external/profile.json')"
   ]
  },
  {
   "cell_type": "markdown",
   "metadata": {},
   "source": [
    "### Profile EDA"
   ]
  },
  {
   "cell_type": "code",
   "execution_count": 9,
   "metadata": {
    "ExecuteTime": {
     "end_time": "2020-03-07T15:39:33.204291Z",
     "start_time": "2020-03-07T15:39:32.424846Z"
    }
   },
   "outputs": [
    {
     "data": {
      "image/png": "[encoded data removed]",
      "text/plain": [
       "<Figure size 720x1872 with 6 Axes>"
      ]
     },
     "metadata": {
      "needs_background": "light"
     },
     "output_type": "display_data"
    }
   ],
   "source": [
    "col_names = ['age', 'gender', 'income','became_member_on_dayofweek','became_member_on_year','became_member_on_month']\n",
    "helper.plot_profile_col(col_names,profile)"
   ]
  },
  {
   "cell_type": "markdown",
   "metadata": {},
   "source": [
    "From the graph we can find:\n",
    "1. The distribution of the started week and month is even.\n",
    "1. The number of type O gender is too small. Type O gender will not provide enough information in the model."
   ]
  },
  {
   "cell_type": "code",
   "execution_count": 25,
   "metadata": {
    "ExecuteTime": {
     "end_time": "2020-03-03T05:06:15.680864Z",
     "start_time": "2020-03-03T05:06:15.318630Z"
    },
    "scrolled": true
   },
   "outputs": [
    {
     "data": {
      "image/png": "[encoded data removed]",
      "text/plain": [
       "<Figure size 1008x432 with 3 Axes>"
      ]
     },
     "metadata": {
      "needs_background": "light"
     },
     "output_type": "display_data"
    }
   ],
   "source": [
    "fig, ax = plt.subplots(1,3, figsize=(14,6))\n",
    "\n",
    "male_customers = profile[profile['gender'] == 1]\n",
    "female_customers = profile[profile['gender'] == 0]\n",
    "other_customers = profile[profile['gender'] == 2]\n",
    "\n",
    "sns.distplot(male_customers['income'], hist=True, ax=ax[0]) \n",
    "ax[0].set_xlabel('Male Customer')\n",
    "ax[0].set_ylabel('Count')\n",
    "sns.distplot(female_customers['income'], hist=True, ax=ax[1]) \n",
    "ax[1].set_xlabel('Female Customer')\n",
    "ax[1].set_ylabel('Count')\n",
    "sns.distplot(other_customers['income'], hist=True, ax=ax[2]) \n",
    "ax[2].set_xlabel('Other Customer')\n",
    "ax[2].set_ylabel('Count')\n",
    "\n",
    "plt.show()"
   ]
  },
  {
   "cell_type": "code",
   "execution_count": 26,
   "metadata": {
    "ExecuteTime": {
     "end_time": "2020-03-03T05:06:15.688753Z",
     "start_time": "2020-03-03T05:06:15.683543Z"
    }
   },
   "outputs": [
    {
     "data": {
      "text/plain": [
       "1    8484\n",
       "0    6129\n",
       "2     212\n",
       "Name: gender, dtype: int64"
      ]
     },
     "execution_count": 26,
     "metadata": {},
     "output_type": "execute_result"
    }
   ],
   "source": [
    "profile['gender'].value_counts()"
   ]
  },
  {
   "cell_type": "markdown",
   "metadata": {},
   "source": [
    "After a further analysis with the data, I decide to drop gender marked as 'O' to reduce the unbalance of data."
   ]
  },
  {
   "cell_type": "code",
   "execution_count": 27,
   "metadata": {
    "ExecuteTime": {
     "end_time": "2020-03-03T05:06:15.702317Z",
     "start_time": "2020-03-03T05:06:15.690538Z"
    }
   },
   "outputs": [],
   "source": [
    "profile = profile[profile['gender']!=2]"
   ]
  },
  {
   "cell_type": "markdown",
   "metadata": {},
   "source": [
    "## Transcript"
   ]
  },
  {
   "cell_type": "code",
   "execution_count": 28,
   "metadata": {
    "ExecuteTime": {
     "end_time": "2020-03-03T05:06:17.375458Z",
     "start_time": "2020-03-03T05:06:15.704143Z"
    }
   },
   "outputs": [],
   "source": [
    "transcript = pd.read_json('../data/external/transcript.json', orient='records', lines=True)"
   ]
  },
  {
   "cell_type": "code",
   "execution_count": 29,
   "metadata": {
    "ExecuteTime": {
     "end_time": "2020-03-03T05:06:17.384657Z",
     "start_time": "2020-03-03T05:06:17.376604Z"
    }
   },
   "outputs": [
    {
     "data": {
      "text/html": [
       "<div>\n",
       "<style scoped>\n",
       "    .dataframe tbody tr th:only-of-type {\n",
       "        vertical-align: middle;\n",
       "    }\n",
       "\n",
       "    .dataframe tbody tr th {\n",
       "        vertical-align: top;\n",
       "    }\n",
       "\n",
       "    .dataframe thead th {\n",
       "        text-align: right;\n",
       "    }\n",
       "</style>\n",
       "<table border=\"1\" class=\"dataframe\">\n",
       "  <thead>\n",
       "    <tr style=\"text-align: right;\">\n",
       "      <th></th>\n",
       "      <th>person</th>\n",
       "      <th>event</th>\n",
       "      <th>value</th>\n",
       "      <th>time</th>\n",
       "    </tr>\n",
       "  </thead>\n",
       "  <tbody>\n",
       "    <tr>\n",
       "      <td>0</td>\n",
       "      <td>78afa995795e4d85b5d9ceeca43f5fef</td>\n",
       "      <td>offer received</td>\n",
       "      <td>{'offer id': '9b98b8c7a33c4b65b9aebfe6a799e6d9'}</td>\n",
       "      <td>0</td>\n",
       "    </tr>\n",
       "    <tr>\n",
       "      <td>1</td>\n",
       "      <td>a03223e636434f42ac4c3df47e8bac43</td>\n",
       "      <td>offer received</td>\n",
       "      <td>{'offer id': '0b1e1539f2cc45b7b9fa7c272da2e1d7'}</td>\n",
       "      <td>0</td>\n",
       "    </tr>\n",
       "    <tr>\n",
       "      <td>2</td>\n",
       "      <td>e2127556f4f64592b11af22de27a7932</td>\n",
       "      <td>offer received</td>\n",
       "      <td>{'offer id': '2906b810c7d4411798c6938adc9daaa5'}</td>\n",
       "      <td>0</td>\n",
       "    </tr>\n",
       "    <tr>\n",
       "      <td>3</td>\n",
       "      <td>8ec6ce2a7e7949b1bf142def7d0e0586</td>\n",
       "      <td>offer received</td>\n",
       "      <td>{'offer id': 'fafdcd668e3743c1bb461111dcafc2a4'}</td>\n",
       "      <td>0</td>\n",
       "    </tr>\n",
       "    <tr>\n",
       "      <td>4</td>\n",
       "      <td>68617ca6246f4fbc85e91a2a49552598</td>\n",
       "      <td>offer received</td>\n",
       "      <td>{'offer id': '4d5c57ea9a6940dd891ad53e9dbe8da0'}</td>\n",
       "      <td>0</td>\n",
       "    </tr>\n",
       "  </tbody>\n",
       "</table>\n",
       "</div>"
      ],
      "text/plain": [
       "                             person           event  \\\n",
       "0  78afa995795e4d85b5d9ceeca43f5fef  offer received   \n",
       "1  a03223e636434f42ac4c3df47e8bac43  offer received   \n",
       "2  e2127556f4f64592b11af22de27a7932  offer received   \n",
       "3  8ec6ce2a7e7949b1bf142def7d0e0586  offer received   \n",
       "4  68617ca6246f4fbc85e91a2a49552598  offer received   \n",
       "\n",
       "                                              value  time  \n",
       "0  {'offer id': '9b98b8c7a33c4b65b9aebfe6a799e6d9'}     0  \n",
       "1  {'offer id': '0b1e1539f2cc45b7b9fa7c272da2e1d7'}     0  \n",
       "2  {'offer id': '2906b810c7d4411798c6938adc9daaa5'}     0  \n",
       "3  {'offer id': 'fafdcd668e3743c1bb461111dcafc2a4'}     0  \n",
       "4  {'offer id': '4d5c57ea9a6940dd891ad53e9dbe8da0'}     0  "
      ]
     },
     "metadata": {},
     "output_type": "display_data"
    },
    {
     "name": "stdout",
     "output_type": "stream",
     "text": [
      "(306534, 4)\n"
     ]
    }
   ],
   "source": [
    "display(transcript.head())\n",
    "print(transcript.shape)"
   ]
  },
  {
   "cell_type": "code",
   "execution_count": null,
   "metadata": {},
   "outputs": [],
   "source": []
  },
  {
   "cell_type": "markdown",
   "metadata": {},
   "source": [
    "### Transform Data"
   ]
  },
  {
   "cell_type": "code",
   "execution_count": 30,
   "metadata": {
    "ExecuteTime": {
     "end_time": "2020-03-03T05:06:18.287423Z",
     "start_time": "2020-03-03T05:06:17.386158Z"
    }
   },
   "outputs": [
    {
     "data": {
      "text/html": [
       "<div>\n",
       "<style scoped>\n",
       "    .dataframe tbody tr th:only-of-type {\n",
       "        vertical-align: middle;\n",
       "    }\n",
       "\n",
       "    .dataframe tbody tr th {\n",
       "        vertical-align: top;\n",
       "    }\n",
       "\n",
       "    .dataframe thead th {\n",
       "        text-align: right;\n",
       "    }\n",
       "</style>\n",
       "<table border=\"1\" class=\"dataframe\">\n",
       "  <thead>\n",
       "    <tr style=\"text-align: right;\">\n",
       "      <th></th>\n",
       "      <th>customer_id</th>\n",
       "      <th>event</th>\n",
       "      <th>time</th>\n",
       "      <th>offer_id</th>\n",
       "      <th>amount</th>\n",
       "      <th>reward</th>\n",
       "      <th>completed</th>\n",
       "      <th>received</th>\n",
       "      <th>viewed</th>\n",
       "      <th>transaction</th>\n",
       "    </tr>\n",
       "  </thead>\n",
       "  <tbody>\n",
       "    <tr>\n",
       "      <td>0</td>\n",
       "      <td>78afa995795e4d85b5d9ceeca43f5fef</td>\n",
       "      <td>offer received</td>\n",
       "      <td>0.0</td>\n",
       "      <td>9b98b8c7a33c4b65b9aebfe6a799e6d9</td>\n",
       "      <td>NaN</td>\n",
       "      <td>NaN</td>\n",
       "      <td>0</td>\n",
       "      <td>1</td>\n",
       "      <td>0</td>\n",
       "      <td>0</td>\n",
       "    </tr>\n",
       "    <tr>\n",
       "      <td>1</td>\n",
       "      <td>a03223e636434f42ac4c3df47e8bac43</td>\n",
       "      <td>offer received</td>\n",
       "      <td>0.0</td>\n",
       "      <td>0b1e1539f2cc45b7b9fa7c272da2e1d7</td>\n",
       "      <td>NaN</td>\n",
       "      <td>NaN</td>\n",
       "      <td>0</td>\n",
       "      <td>1</td>\n",
       "      <td>0</td>\n",
       "      <td>0</td>\n",
       "    </tr>\n",
       "    <tr>\n",
       "      <td>2</td>\n",
       "      <td>e2127556f4f64592b11af22de27a7932</td>\n",
       "      <td>offer received</td>\n",
       "      <td>0.0</td>\n",
       "      <td>2906b810c7d4411798c6938adc9daaa5</td>\n",
       "      <td>NaN</td>\n",
       "      <td>NaN</td>\n",
       "      <td>0</td>\n",
       "      <td>1</td>\n",
       "      <td>0</td>\n",
       "      <td>0</td>\n",
       "    </tr>\n",
       "    <tr>\n",
       "      <td>3</td>\n",
       "      <td>8ec6ce2a7e7949b1bf142def7d0e0586</td>\n",
       "      <td>offer received</td>\n",
       "      <td>0.0</td>\n",
       "      <td>fafdcd668e3743c1bb461111dcafc2a4</td>\n",
       "      <td>NaN</td>\n",
       "      <td>NaN</td>\n",
       "      <td>0</td>\n",
       "      <td>1</td>\n",
       "      <td>0</td>\n",
       "      <td>0</td>\n",
       "    </tr>\n",
       "    <tr>\n",
       "      <td>4</td>\n",
       "      <td>68617ca6246f4fbc85e91a2a49552598</td>\n",
       "      <td>offer received</td>\n",
       "      <td>0.0</td>\n",
       "      <td>4d5c57ea9a6940dd891ad53e9dbe8da0</td>\n",
       "      <td>NaN</td>\n",
       "      <td>NaN</td>\n",
       "      <td>0</td>\n",
       "      <td>1</td>\n",
       "      <td>0</td>\n",
       "      <td>0</td>\n",
       "    </tr>\n",
       "  </tbody>\n",
       "</table>\n",
       "</div>"
      ],
      "text/plain": [
       "                        customer_id           event  time  \\\n",
       "0  78afa995795e4d85b5d9ceeca43f5fef  offer received   0.0   \n",
       "1  a03223e636434f42ac4c3df47e8bac43  offer received   0.0   \n",
       "2  e2127556f4f64592b11af22de27a7932  offer received   0.0   \n",
       "3  8ec6ce2a7e7949b1bf142def7d0e0586  offer received   0.0   \n",
       "4  68617ca6246f4fbc85e91a2a49552598  offer received   0.0   \n",
       "\n",
       "                           offer_id  amount  reward  completed  received  \\\n",
       "0  9b98b8c7a33c4b65b9aebfe6a799e6d9     NaN     NaN          0         1   \n",
       "1  0b1e1539f2cc45b7b9fa7c272da2e1d7     NaN     NaN          0         1   \n",
       "2  2906b810c7d4411798c6938adc9daaa5     NaN     NaN          0         1   \n",
       "3  fafdcd668e3743c1bb461111dcafc2a4     NaN     NaN          0         1   \n",
       "4  4d5c57ea9a6940dd891ad53e9dbe8da0     NaN     NaN          0         1   \n",
       "\n",
       "   viewed  transaction  \n",
       "0       0            0  \n",
       "1       0            0  \n",
       "2       0            0  \n",
       "3       0            0  \n",
       "4       0            0  "
      ]
     },
     "execution_count": 30,
     "metadata": {},
     "output_type": "execute_result"
    }
   ],
   "source": [
    "\n",
    "# create a dataframe of the 3 individual value columns\n",
    "values_df = pd.DataFrame(transcript.value.tolist())\n",
    "values_df['offer id'].fillna(values_df['offer_id'],inplace=True)\n",
    "values_df.drop('offer_id', axis=1,inplace=True)\n",
    "values_df.rename(columns={\"offer id\": \"offer_id\"},inplace=True)\n",
    "\n",
    "# concatenate the original dataframe with the new `offer_channels` dataframe\n",
    "transcript = pd.concat([transcript, values_df], axis = 1)\n",
    "\n",
    "# drop the original channels column from `portfolio`\n",
    "transcript = transcript.drop('value',axis=1)\n",
    "\n",
    "# change person to customer_id\n",
    "transcript.rename(columns={\"person\": \"customer_id\"},inplace=True)\n",
    "\n",
    "# change hour to day\n",
    "transcript['time'] /= 24.0\n",
    "\n",
    "# One hot encoding event column\n",
    "offer_event =  pd.get_dummies(transcript['event'])\n",
    "transcript = pd.concat([transcript, offer_event], axis = 1)\n",
    "# transcript = transcript.drop('event',axis=1)\n",
    "transcript.rename(columns={\"offer received\": \"received\",\n",
    "                           \"offer viewed\":\"viewed\",\n",
    "                           \"offer completed\":\"completed\"\n",
    "                          },inplace=True)\n",
    "transcript.head()"
   ]
  },
  {
   "cell_type": "code",
   "execution_count": 31,
   "metadata": {
    "ExecuteTime": {
     "end_time": "2020-03-03T05:06:18.631848Z",
     "start_time": "2020-03-03T05:06:18.288695Z"
    }
   },
   "outputs": [
    {
     "data": {
      "text/html": [
       "<div>\n",
       "<style scoped>\n",
       "    .dataframe tbody tr th:only-of-type {\n",
       "        vertical-align: middle;\n",
       "    }\n",
       "\n",
       "    .dataframe tbody tr th {\n",
       "        vertical-align: top;\n",
       "    }\n",
       "\n",
       "    .dataframe thead th {\n",
       "        text-align: right;\n",
       "    }\n",
       "</style>\n",
       "<table border=\"1\" class=\"dataframe\">\n",
       "  <thead>\n",
       "    <tr style=\"text-align: right;\">\n",
       "      <th></th>\n",
       "      <th>Columns</th>\n",
       "      <th>Unique Values</th>\n",
       "      <th>% of Missing Values</th>\n",
       "      <th>% of Values in One Category</th>\n",
       "      <th>Data Type</th>\n",
       "    </tr>\n",
       "  </thead>\n",
       "  <tbody>\n",
       "    <tr>\n",
       "      <td>5</td>\n",
       "      <td>reward</td>\n",
       "      <td>4</td>\n",
       "      <td>0.890456</td>\n",
       "      <td>0.890456</td>\n",
       "      <td>float64</td>\n",
       "    </tr>\n",
       "    <tr>\n",
       "      <td>4</td>\n",
       "      <td>amount</td>\n",
       "      <td>5103</td>\n",
       "      <td>0.546696</td>\n",
       "      <td>0.546696</td>\n",
       "      <td>float64</td>\n",
       "    </tr>\n",
       "    <tr>\n",
       "      <td>3</td>\n",
       "      <td>offer_id</td>\n",
       "      <td>10</td>\n",
       "      <td>0.453304</td>\n",
       "      <td>0.453304</td>\n",
       "      <td>object</td>\n",
       "    </tr>\n",
       "    <tr>\n",
       "      <td>0</td>\n",
       "      <td>customer_id</td>\n",
       "      <td>17000</td>\n",
       "      <td>0.000000</td>\n",
       "      <td>0.000166</td>\n",
       "      <td>object</td>\n",
       "    </tr>\n",
       "    <tr>\n",
       "      <td>1</td>\n",
       "      <td>event</td>\n",
       "      <td>4</td>\n",
       "      <td>0.000000</td>\n",
       "      <td>0.453304</td>\n",
       "      <td>object</td>\n",
       "    </tr>\n",
       "    <tr>\n",
       "      <td>2</td>\n",
       "      <td>time</td>\n",
       "      <td>120</td>\n",
       "      <td>0.000000</td>\n",
       "      <td>0.055557</td>\n",
       "      <td>float64</td>\n",
       "    </tr>\n",
       "    <tr>\n",
       "      <td>6</td>\n",
       "      <td>completed</td>\n",
       "      <td>2</td>\n",
       "      <td>0.000000</td>\n",
       "      <td>0.890456</td>\n",
       "      <td>uint8</td>\n",
       "    </tr>\n",
       "    <tr>\n",
       "      <td>7</td>\n",
       "      <td>received</td>\n",
       "      <td>2</td>\n",
       "      <td>0.000000</td>\n",
       "      <td>0.751163</td>\n",
       "      <td>uint8</td>\n",
       "    </tr>\n",
       "    <tr>\n",
       "      <td>8</td>\n",
       "      <td>viewed</td>\n",
       "      <td>2</td>\n",
       "      <td>0.000000</td>\n",
       "      <td>0.811685</td>\n",
       "      <td>uint8</td>\n",
       "    </tr>\n",
       "    <tr>\n",
       "      <td>9</td>\n",
       "      <td>transaction</td>\n",
       "      <td>2</td>\n",
       "      <td>0.000000</td>\n",
       "      <td>0.546696</td>\n",
       "      <td>uint8</td>\n",
       "    </tr>\n",
       "  </tbody>\n",
       "</table>\n",
       "</div>"
      ],
      "text/plain": [
       "       Columns  Unique Values  % of Missing Values  \\\n",
       "5       reward              4             0.890456   \n",
       "4       amount           5103             0.546696   \n",
       "3     offer_id             10             0.453304   \n",
       "0  customer_id          17000             0.000000   \n",
       "1        event              4             0.000000   \n",
       "2         time            120             0.000000   \n",
       "6    completed              2             0.000000   \n",
       "7     received              2             0.000000   \n",
       "8       viewed              2             0.000000   \n",
       "9  transaction              2             0.000000   \n",
       "\n",
       "   % of Values in One Category Data Type  \n",
       "5                     0.890456   float64  \n",
       "4                     0.546696   float64  \n",
       "3                     0.453304    object  \n",
       "0                     0.000166    object  \n",
       "1                     0.453304    object  \n",
       "2                     0.055557   float64  \n",
       "6                     0.890456     uint8  \n",
       "7                     0.751163     uint8  \n",
       "8                     0.811685     uint8  \n",
       "9                     0.546696     uint8  "
      ]
     },
     "execution_count": 31,
     "metadata": {},
     "output_type": "execute_result"
    }
   ],
   "source": [
    "le.data_stats(transcript)"
   ]
  },
  {
   "cell_type": "markdown",
   "metadata": {},
   "source": [
    "There are more than 89% data for reward is missing and over half of the amount data is missing. It requires more analysis."
   ]
  },
  {
   "cell_type": "code",
   "execution_count": 32,
   "metadata": {
    "ExecuteTime": {
     "end_time": "2020-03-03T05:06:18.906259Z",
     "start_time": "2020-03-03T05:06:18.633149Z"
    },
    "scrolled": true
   },
   "outputs": [
    {
     "data": {
      "text/html": [
       "<div>\n",
       "<style scoped>\n",
       "    .dataframe tbody tr th:only-of-type {\n",
       "        vertical-align: middle;\n",
       "    }\n",
       "\n",
       "    .dataframe tbody tr th {\n",
       "        vertical-align: top;\n",
       "    }\n",
       "\n",
       "    .dataframe thead th {\n",
       "        text-align: right;\n",
       "    }\n",
       "</style>\n",
       "<table border=\"1\" class=\"dataframe\">\n",
       "  <thead>\n",
       "    <tr style=\"text-align: right;\">\n",
       "      <th></th>\n",
       "      <th>Columns</th>\n",
       "      <th>Unique Values</th>\n",
       "      <th>% of Missing Values</th>\n",
       "      <th>% of Values in One Category</th>\n",
       "      <th>Data Type</th>\n",
       "    </tr>\n",
       "  </thead>\n",
       "  <tbody>\n",
       "    <tr>\n",
       "      <td>4</td>\n",
       "      <td>amount</td>\n",
       "      <td>0</td>\n",
       "      <td>1.000000</td>\n",
       "      <td>1.000000</td>\n",
       "      <td>float64</td>\n",
       "    </tr>\n",
       "    <tr>\n",
       "      <td>5</td>\n",
       "      <td>reward</td>\n",
       "      <td>4</td>\n",
       "      <td>0.799625</td>\n",
       "      <td>0.799625</td>\n",
       "      <td>float64</td>\n",
       "    </tr>\n",
       "    <tr>\n",
       "      <td>0</td>\n",
       "      <td>customer_id</td>\n",
       "      <td>16994</td>\n",
       "      <td>0.000000</td>\n",
       "      <td>0.000107</td>\n",
       "      <td>object</td>\n",
       "    </tr>\n",
       "    <tr>\n",
       "      <td>1</td>\n",
       "      <td>event</td>\n",
       "      <td>3</td>\n",
       "      <td>0.000000</td>\n",
       "      <td>0.455165</td>\n",
       "      <td>object</td>\n",
       "    </tr>\n",
       "    <tr>\n",
       "      <td>2</td>\n",
       "      <td>time</td>\n",
       "      <td>120</td>\n",
       "      <td>0.000000</td>\n",
       "      <td>0.093298</td>\n",
       "      <td>float64</td>\n",
       "    </tr>\n",
       "    <tr>\n",
       "      <td>3</td>\n",
       "      <td>offer_id</td>\n",
       "      <td>10</td>\n",
       "      <td>0.000000</td>\n",
       "      <td>0.120783</td>\n",
       "      <td>object</td>\n",
       "    </tr>\n",
       "    <tr>\n",
       "      <td>6</td>\n",
       "      <td>completed</td>\n",
       "      <td>2</td>\n",
       "      <td>0.000000</td>\n",
       "      <td>0.799625</td>\n",
       "      <td>uint8</td>\n",
       "    </tr>\n",
       "    <tr>\n",
       "      <td>7</td>\n",
       "      <td>received</td>\n",
       "      <td>2</td>\n",
       "      <td>0.000000</td>\n",
       "      <td>0.544835</td>\n",
       "      <td>uint8</td>\n",
       "    </tr>\n",
       "    <tr>\n",
       "      <td>8</td>\n",
       "      <td>viewed</td>\n",
       "      <td>2</td>\n",
       "      <td>0.000000</td>\n",
       "      <td>0.655540</td>\n",
       "      <td>uint8</td>\n",
       "    </tr>\n",
       "    <tr>\n",
       "      <td>9</td>\n",
       "      <td>transaction</td>\n",
       "      <td>1</td>\n",
       "      <td>0.000000</td>\n",
       "      <td>1.000000</td>\n",
       "      <td>uint8</td>\n",
       "    </tr>\n",
       "  </tbody>\n",
       "</table>\n",
       "</div>"
      ],
      "text/plain": [
       "       Columns  Unique Values  % of Missing Values  \\\n",
       "4       amount              0             1.000000   \n",
       "5       reward              4             0.799625   \n",
       "0  customer_id          16994             0.000000   \n",
       "1        event              3             0.000000   \n",
       "2         time            120             0.000000   \n",
       "3     offer_id             10             0.000000   \n",
       "6    completed              2             0.000000   \n",
       "7     received              2             0.000000   \n",
       "8       viewed              2             0.000000   \n",
       "9  transaction              1             0.000000   \n",
       "\n",
       "   % of Values in One Category Data Type  \n",
       "4                     1.000000   float64  \n",
       "5                     0.799625   float64  \n",
       "0                     0.000107    object  \n",
       "1                     0.455165    object  \n",
       "2                     0.093298   float64  \n",
       "3                     0.120783    object  \n",
       "6                     0.799625     uint8  \n",
       "7                     0.544835     uint8  \n",
       "8                     0.655540     uint8  \n",
       "9                     1.000000     uint8  "
      ]
     },
     "execution_count": 32,
     "metadata": {},
     "output_type": "execute_result"
    }
   ],
   "source": [
    "le.data_stats(transcript[transcript.event.isin(['offer received','offer viewed','offer completed'])])"
   ]
  },
  {
   "cell_type": "code",
   "execution_count": 33,
   "metadata": {
    "ExecuteTime": {
     "end_time": "2020-03-03T05:06:18.988376Z",
     "start_time": "2020-03-03T05:06:18.908355Z"
    }
   },
   "outputs": [
    {
     "data": {
      "text/html": [
       "<div>\n",
       "<style scoped>\n",
       "    .dataframe tbody tr th:only-of-type {\n",
       "        vertical-align: middle;\n",
       "    }\n",
       "\n",
       "    .dataframe tbody tr th {\n",
       "        vertical-align: top;\n",
       "    }\n",
       "\n",
       "    .dataframe thead th {\n",
       "        text-align: right;\n",
       "    }\n",
       "</style>\n",
       "<table border=\"1\" class=\"dataframe\">\n",
       "  <thead>\n",
       "    <tr style=\"text-align: right;\">\n",
       "      <th></th>\n",
       "      <th>Columns</th>\n",
       "      <th>Unique Values</th>\n",
       "      <th>% of Missing Values</th>\n",
       "      <th>% of Values in One Category</th>\n",
       "      <th>Data Type</th>\n",
       "    </tr>\n",
       "  </thead>\n",
       "  <tbody>\n",
       "    <tr>\n",
       "      <td>4</td>\n",
       "      <td>amount</td>\n",
       "      <td>0</td>\n",
       "      <td>1.0</td>\n",
       "      <td>1.000000</td>\n",
       "      <td>float64</td>\n",
       "    </tr>\n",
       "    <tr>\n",
       "      <td>0</td>\n",
       "      <td>customer_id</td>\n",
       "      <td>12774</td>\n",
       "      <td>0.0</td>\n",
       "      <td>0.000179</td>\n",
       "      <td>object</td>\n",
       "    </tr>\n",
       "    <tr>\n",
       "      <td>1</td>\n",
       "      <td>event</td>\n",
       "      <td>1</td>\n",
       "      <td>0.0</td>\n",
       "      <td>1.000000</td>\n",
       "      <td>object</td>\n",
       "    </tr>\n",
       "    <tr>\n",
       "      <td>2</td>\n",
       "      <td>time</td>\n",
       "      <td>120</td>\n",
       "      <td>0.0</td>\n",
       "      <td>0.020549</td>\n",
       "      <td>float64</td>\n",
       "    </tr>\n",
       "    <tr>\n",
       "      <td>3</td>\n",
       "      <td>offer_id</td>\n",
       "      <td>8</td>\n",
       "      <td>0.0</td>\n",
       "      <td>0.158343</td>\n",
       "      <td>object</td>\n",
       "    </tr>\n",
       "    <tr>\n",
       "      <td>5</td>\n",
       "      <td>reward</td>\n",
       "      <td>4</td>\n",
       "      <td>0.0</td>\n",
       "      <td>0.359451</td>\n",
       "      <td>float64</td>\n",
       "    </tr>\n",
       "    <tr>\n",
       "      <td>6</td>\n",
       "      <td>completed</td>\n",
       "      <td>1</td>\n",
       "      <td>0.0</td>\n",
       "      <td>1.000000</td>\n",
       "      <td>uint8</td>\n",
       "    </tr>\n",
       "    <tr>\n",
       "      <td>7</td>\n",
       "      <td>received</td>\n",
       "      <td>1</td>\n",
       "      <td>0.0</td>\n",
       "      <td>1.000000</td>\n",
       "      <td>uint8</td>\n",
       "    </tr>\n",
       "    <tr>\n",
       "      <td>8</td>\n",
       "      <td>viewed</td>\n",
       "      <td>1</td>\n",
       "      <td>0.0</td>\n",
       "      <td>1.000000</td>\n",
       "      <td>uint8</td>\n",
       "    </tr>\n",
       "    <tr>\n",
       "      <td>9</td>\n",
       "      <td>transaction</td>\n",
       "      <td>1</td>\n",
       "      <td>0.0</td>\n",
       "      <td>1.000000</td>\n",
       "      <td>uint8</td>\n",
       "    </tr>\n",
       "  </tbody>\n",
       "</table>\n",
       "</div>"
      ],
      "text/plain": [
       "       Columns  Unique Values  % of Missing Values  \\\n",
       "4       amount              0                  1.0   \n",
       "0  customer_id          12774                  0.0   \n",
       "1        event              1                  0.0   \n",
       "2         time            120                  0.0   \n",
       "3     offer_id              8                  0.0   \n",
       "5       reward              4                  0.0   \n",
       "6    completed              1                  0.0   \n",
       "7     received              1                  0.0   \n",
       "8       viewed              1                  0.0   \n",
       "9  transaction              1                  0.0   \n",
       "\n",
       "   % of Values in One Category Data Type  \n",
       "4                     1.000000   float64  \n",
       "0                     0.000179    object  \n",
       "1                     1.000000    object  \n",
       "2                     0.020549   float64  \n",
       "3                     0.158343    object  \n",
       "5                     0.359451   float64  \n",
       "6                     1.000000     uint8  \n",
       "7                     1.000000     uint8  \n",
       "8                     1.000000     uint8  \n",
       "9                     1.000000     uint8  "
      ]
     },
     "execution_count": 33,
     "metadata": {},
     "output_type": "execute_result"
    }
   ],
   "source": [
    "le.data_stats(transcript[transcript.event =='offer completed' ])"
   ]
  },
  {
   "cell_type": "code",
   "execution_count": 34,
   "metadata": {
    "ExecuteTime": {
     "end_time": "2020-03-03T05:06:19.169762Z",
     "start_time": "2020-03-03T05:06:18.989403Z"
    },
    "scrolled": true
   },
   "outputs": [
    {
     "data": {
      "text/html": [
       "<div>\n",
       "<style scoped>\n",
       "    .dataframe tbody tr th:only-of-type {\n",
       "        vertical-align: middle;\n",
       "    }\n",
       "\n",
       "    .dataframe tbody tr th {\n",
       "        vertical-align: top;\n",
       "    }\n",
       "\n",
       "    .dataframe thead th {\n",
       "        text-align: right;\n",
       "    }\n",
       "</style>\n",
       "<table border=\"1\" class=\"dataframe\">\n",
       "  <thead>\n",
       "    <tr style=\"text-align: right;\">\n",
       "      <th></th>\n",
       "      <th>Columns</th>\n",
       "      <th>Unique Values</th>\n",
       "      <th>% of Missing Values</th>\n",
       "      <th>% of Values in One Category</th>\n",
       "      <th>Data Type</th>\n",
       "    </tr>\n",
       "  </thead>\n",
       "  <tbody>\n",
       "    <tr>\n",
       "      <td>3</td>\n",
       "      <td>offer_id</td>\n",
       "      <td>0</td>\n",
       "      <td>1.0</td>\n",
       "      <td>1.000000</td>\n",
       "      <td>object</td>\n",
       "    </tr>\n",
       "    <tr>\n",
       "      <td>5</td>\n",
       "      <td>reward</td>\n",
       "      <td>0</td>\n",
       "      <td>1.0</td>\n",
       "      <td>1.000000</td>\n",
       "      <td>float64</td>\n",
       "    </tr>\n",
       "    <tr>\n",
       "      <td>0</td>\n",
       "      <td>customer_id</td>\n",
       "      <td>16578</td>\n",
       "      <td>0.0</td>\n",
       "      <td>0.000259</td>\n",
       "      <td>object</td>\n",
       "    </tr>\n",
       "    <tr>\n",
       "      <td>1</td>\n",
       "      <td>event</td>\n",
       "      <td>1</td>\n",
       "      <td>0.0</td>\n",
       "      <td>1.000000</td>\n",
       "      <td>object</td>\n",
       "    </tr>\n",
       "    <tr>\n",
       "      <td>2</td>\n",
       "      <td>time</td>\n",
       "      <td>120</td>\n",
       "      <td>0.0</td>\n",
       "      <td>0.010997</td>\n",
       "      <td>float64</td>\n",
       "    </tr>\n",
       "    <tr>\n",
       "      <td>4</td>\n",
       "      <td>amount</td>\n",
       "      <td>5103</td>\n",
       "      <td>0.0</td>\n",
       "      <td>0.003102</td>\n",
       "      <td>float64</td>\n",
       "    </tr>\n",
       "    <tr>\n",
       "      <td>6</td>\n",
       "      <td>completed</td>\n",
       "      <td>1</td>\n",
       "      <td>0.0</td>\n",
       "      <td>1.000000</td>\n",
       "      <td>uint8</td>\n",
       "    </tr>\n",
       "    <tr>\n",
       "      <td>7</td>\n",
       "      <td>received</td>\n",
       "      <td>1</td>\n",
       "      <td>0.0</td>\n",
       "      <td>1.000000</td>\n",
       "      <td>uint8</td>\n",
       "    </tr>\n",
       "    <tr>\n",
       "      <td>8</td>\n",
       "      <td>viewed</td>\n",
       "      <td>1</td>\n",
       "      <td>0.0</td>\n",
       "      <td>1.000000</td>\n",
       "      <td>uint8</td>\n",
       "    </tr>\n",
       "    <tr>\n",
       "      <td>9</td>\n",
       "      <td>transaction</td>\n",
       "      <td>1</td>\n",
       "      <td>0.0</td>\n",
       "      <td>1.000000</td>\n",
       "      <td>uint8</td>\n",
       "    </tr>\n",
       "  </tbody>\n",
       "</table>\n",
       "</div>"
      ],
      "text/plain": [
       "       Columns  Unique Values  % of Missing Values  \\\n",
       "3     offer_id              0                  1.0   \n",
       "5       reward              0                  1.0   \n",
       "0  customer_id          16578                  0.0   \n",
       "1        event              1                  0.0   \n",
       "2         time            120                  0.0   \n",
       "4       amount           5103                  0.0   \n",
       "6    completed              1                  0.0   \n",
       "7     received              1                  0.0   \n",
       "8       viewed              1                  0.0   \n",
       "9  transaction              1                  0.0   \n",
       "\n",
       "   % of Values in One Category Data Type  \n",
       "3                     1.000000    object  \n",
       "5                     1.000000   float64  \n",
       "0                     0.000259    object  \n",
       "1                     1.000000    object  \n",
       "2                     0.010997   float64  \n",
       "4                     0.003102   float64  \n",
       "6                     1.000000     uint8  \n",
       "7                     1.000000     uint8  \n",
       "8                     1.000000     uint8  \n",
       "9                     1.000000     uint8  "
      ]
     },
     "execution_count": 34,
     "metadata": {},
     "output_type": "execute_result"
    }
   ],
   "source": [
    "le.data_stats(transcript[transcript.event =='transaction' ])"
   ]
  },
  {
   "cell_type": "markdown",
   "metadata": {},
   "source": [
    "We can find that:\n",
    "1. the reward data only appears when event is 'offer complete'.\n",
    "1. offer_id only appear when event is 'transaction'.\n",
    "\n",
    "Thus, we can split the transcript into two dataset."
   ]
  },
  {
   "cell_type": "code",
   "execution_count": 35,
   "metadata": {
    "ExecuteTime": {
     "end_time": "2020-03-03T05:06:19.255229Z",
     "start_time": "2020-03-03T05:06:19.170705Z"
    }
   },
   "outputs": [],
   "source": [
    "offer = transcript[transcript.event.isin(['offer received','offer viewed','offer completed'])][['event','offer_id','customer_id','time','received','viewed','completed']]\n",
    "transaction = transcript[transcript.event =='transaction' ][['customer_id','time','amount']]"
   ]
  },
  {
   "cell_type": "code",
   "execution_count": 36,
   "metadata": {
    "ExecuteTime": {
     "end_time": "2020-03-03T05:06:19.266470Z",
     "start_time": "2020-03-03T05:06:19.256193Z"
    }
   },
   "outputs": [
    {
     "data": {
      "text/html": [
       "<div>\n",
       "<style scoped>\n",
       "    .dataframe tbody tr th:only-of-type {\n",
       "        vertical-align: middle;\n",
       "    }\n",
       "\n",
       "    .dataframe tbody tr th {\n",
       "        vertical-align: top;\n",
       "    }\n",
       "\n",
       "    .dataframe thead th {\n",
       "        text-align: right;\n",
       "    }\n",
       "</style>\n",
       "<table border=\"1\" class=\"dataframe\">\n",
       "  <thead>\n",
       "    <tr style=\"text-align: right;\">\n",
       "      <th></th>\n",
       "      <th>event</th>\n",
       "      <th>offer_id</th>\n",
       "      <th>customer_id</th>\n",
       "      <th>time</th>\n",
       "      <th>received</th>\n",
       "      <th>viewed</th>\n",
       "      <th>completed</th>\n",
       "    </tr>\n",
       "  </thead>\n",
       "  <tbody>\n",
       "    <tr>\n",
       "      <td>0</td>\n",
       "      <td>offer received</td>\n",
       "      <td>9b98b8c7a33c4b65b9aebfe6a799e6d9</td>\n",
       "      <td>78afa995795e4d85b5d9ceeca43f5fef</td>\n",
       "      <td>0.0</td>\n",
       "      <td>1</td>\n",
       "      <td>0</td>\n",
       "      <td>0</td>\n",
       "    </tr>\n",
       "    <tr>\n",
       "      <td>1</td>\n",
       "      <td>offer received</td>\n",
       "      <td>0b1e1539f2cc45b7b9fa7c272da2e1d7</td>\n",
       "      <td>a03223e636434f42ac4c3df47e8bac43</td>\n",
       "      <td>0.0</td>\n",
       "      <td>1</td>\n",
       "      <td>0</td>\n",
       "      <td>0</td>\n",
       "    </tr>\n",
       "  </tbody>\n",
       "</table>\n",
       "</div>"
      ],
      "text/plain": [
       "            event                          offer_id  \\\n",
       "0  offer received  9b98b8c7a33c4b65b9aebfe6a799e6d9   \n",
       "1  offer received  0b1e1539f2cc45b7b9fa7c272da2e1d7   \n",
       "\n",
       "                        customer_id  time  received  viewed  completed  \n",
       "0  78afa995795e4d85b5d9ceeca43f5fef   0.0         1       0          0  \n",
       "1  a03223e636434f42ac4c3df47e8bac43   0.0         1       0          0  "
      ]
     },
     "metadata": {},
     "output_type": "display_data"
    },
    {
     "data": {
      "text/html": [
       "<div>\n",
       "<style scoped>\n",
       "    .dataframe tbody tr th:only-of-type {\n",
       "        vertical-align: middle;\n",
       "    }\n",
       "\n",
       "    .dataframe tbody tr th {\n",
       "        vertical-align: top;\n",
       "    }\n",
       "\n",
       "    .dataframe thead th {\n",
       "        text-align: right;\n",
       "    }\n",
       "</style>\n",
       "<table border=\"1\" class=\"dataframe\">\n",
       "  <thead>\n",
       "    <tr style=\"text-align: right;\">\n",
       "      <th></th>\n",
       "      <th>customer_id</th>\n",
       "      <th>time</th>\n",
       "      <th>amount</th>\n",
       "    </tr>\n",
       "  </thead>\n",
       "  <tbody>\n",
       "    <tr>\n",
       "      <td>12654</td>\n",
       "      <td>02c083884c7d45b39cc68e1314fec56c</td>\n",
       "      <td>0.0</td>\n",
       "      <td>0.83</td>\n",
       "    </tr>\n",
       "    <tr>\n",
       "      <td>12657</td>\n",
       "      <td>9fa9ae8f57894cc9a3b8a9bbe0fc1b2f</td>\n",
       "      <td>0.0</td>\n",
       "      <td>34.56</td>\n",
       "    </tr>\n",
       "  </tbody>\n",
       "</table>\n",
       "</div>"
      ],
      "text/plain": [
       "                            customer_id  time  amount\n",
       "12654  02c083884c7d45b39cc68e1314fec56c   0.0    0.83\n",
       "12657  9fa9ae8f57894cc9a3b8a9bbe0fc1b2f   0.0   34.56"
      ]
     },
     "metadata": {},
     "output_type": "display_data"
    }
   ],
   "source": [
    "display(offer.head(2))\n",
    "display(transaction.head(2))"
   ]
  },
  {
   "cell_type": "code",
   "execution_count": 56,
   "metadata": {
    "ExecuteTime": {
     "end_time": "2020-03-03T05:20:53.077289Z",
     "start_time": "2020-03-03T05:20:52.974115Z"
    }
   },
   "outputs": [
    {
     "data": {
      "text/html": [
       "<div>\n",
       "<style scoped>\n",
       "    .dataframe tbody tr th:only-of-type {\n",
       "        vertical-align: middle;\n",
       "    }\n",
       "\n",
       "    .dataframe tbody tr th {\n",
       "        vertical-align: top;\n",
       "    }\n",
       "\n",
       "    .dataframe thead th {\n",
       "        text-align: right;\n",
       "    }\n",
       "</style>\n",
       "<table border=\"1\" class=\"dataframe\">\n",
       "  <thead>\n",
       "    <tr style=\"text-align: right;\">\n",
       "      <th></th>\n",
       "      <th></th>\n",
       "      <th>time</th>\n",
       "      <th>received</th>\n",
       "      <th>viewed</th>\n",
       "      <th>completed</th>\n",
       "    </tr>\n",
       "    <tr>\n",
       "      <th>customer_id</th>\n",
       "      <th>offer_id</th>\n",
       "      <th></th>\n",
       "      <th></th>\n",
       "      <th></th>\n",
       "      <th></th>\n",
       "    </tr>\n",
       "  </thead>\n",
       "  <tbody>\n",
       "    <tr>\n",
       "      <td rowspan=\"5\" valign=\"top\">0009655768c64bdeb2e877511632db8f</td>\n",
       "      <td>2906b810c7d4411798c6938adc9daaa5</td>\n",
       "      <td>24.00</td>\n",
       "      <td>1</td>\n",
       "      <td>0</td>\n",
       "      <td>1</td>\n",
       "    </tr>\n",
       "    <tr>\n",
       "      <td>3f207df678b143eea3cee63160fa8bed</td>\n",
       "      <td>15.50</td>\n",
       "      <td>1</td>\n",
       "      <td>1</td>\n",
       "      <td>0</td>\n",
       "    </tr>\n",
       "    <tr>\n",
       "      <td>5a8bc65990b245e5a138643cd4eb9837</td>\n",
       "      <td>8.00</td>\n",
       "      <td>1</td>\n",
       "      <td>1</td>\n",
       "      <td>0</td>\n",
       "    </tr>\n",
       "    <tr>\n",
       "      <td>f19421c1d4aa40978ebb69ca19b0e20d</td>\n",
       "      <td>19.00</td>\n",
       "      <td>1</td>\n",
       "      <td>1</td>\n",
       "      <td>1</td>\n",
       "    </tr>\n",
       "    <tr>\n",
       "      <td>fafdcd668e3743c1bb461111dcafc2a4</td>\n",
       "      <td>22.50</td>\n",
       "      <td>1</td>\n",
       "      <td>1</td>\n",
       "      <td>1</td>\n",
       "    </tr>\n",
       "    <tr>\n",
       "      <td>...</td>\n",
       "      <td>...</td>\n",
       "      <td>...</td>\n",
       "      <td>...</td>\n",
       "      <td>...</td>\n",
       "      <td>...</td>\n",
       "    </tr>\n",
       "    <tr>\n",
       "      <td>fffad4f4828548d1b5583907f2e9906b</td>\n",
       "      <td>f19421c1d4aa40978ebb69ca19b0e20d</td>\n",
       "      <td>21.50</td>\n",
       "      <td>2</td>\n",
       "      <td>2</td>\n",
       "      <td>2</td>\n",
       "    </tr>\n",
       "    <tr>\n",
       "      <td rowspan=\"4\" valign=\"top\">ffff82501cea40309d5fdd7edcca4a07</td>\n",
       "      <td>0b1e1539f2cc45b7b9fa7c272da2e1d7</td>\n",
       "      <td>8.25</td>\n",
       "      <td>1</td>\n",
       "      <td>1</td>\n",
       "      <td>1</td>\n",
       "    </tr>\n",
       "    <tr>\n",
       "      <td>2906b810c7d4411798c6938adc9daaa5</td>\n",
       "      <td>24.25</td>\n",
       "      <td>3</td>\n",
       "      <td>3</td>\n",
       "      <td>3</td>\n",
       "    </tr>\n",
       "    <tr>\n",
       "      <td>9b98b8c7a33c4b65b9aebfe6a799e6d9</td>\n",
       "      <td>22.25</td>\n",
       "      <td>1</td>\n",
       "      <td>1</td>\n",
       "      <td>1</td>\n",
       "    </tr>\n",
       "    <tr>\n",
       "      <td>fafdcd668e3743c1bb461111dcafc2a4</td>\n",
       "      <td>2.50</td>\n",
       "      <td>1</td>\n",
       "      <td>1</td>\n",
       "      <td>1</td>\n",
       "    </tr>\n",
       "  </tbody>\n",
       "</table>\n",
       "<p>63288 rows × 4 columns</p>\n",
       "</div>"
      ],
      "text/plain": [
       "                                                                    time  \\\n",
       "customer_id                      offer_id                                  \n",
       "0009655768c64bdeb2e877511632db8f 2906b810c7d4411798c6938adc9daaa5  24.00   \n",
       "                                 3f207df678b143eea3cee63160fa8bed  15.50   \n",
       "                                 5a8bc65990b245e5a138643cd4eb9837   8.00   \n",
       "                                 f19421c1d4aa40978ebb69ca19b0e20d  19.00   \n",
       "                                 fafdcd668e3743c1bb461111dcafc2a4  22.50   \n",
       "...                                                                  ...   \n",
       "fffad4f4828548d1b5583907f2e9906b f19421c1d4aa40978ebb69ca19b0e20d  21.50   \n",
       "ffff82501cea40309d5fdd7edcca4a07 0b1e1539f2cc45b7b9fa7c272da2e1d7   8.25   \n",
       "                                 2906b810c7d4411798c6938adc9daaa5  24.25   \n",
       "                                 9b98b8c7a33c4b65b9aebfe6a799e6d9  22.25   \n",
       "                                 fafdcd668e3743c1bb461111dcafc2a4   2.50   \n",
       "\n",
       "                                                                   received  \\\n",
       "customer_id                      offer_id                                     \n",
       "0009655768c64bdeb2e877511632db8f 2906b810c7d4411798c6938adc9daaa5         1   \n",
       "                                 3f207df678b143eea3cee63160fa8bed         1   \n",
       "                                 5a8bc65990b245e5a138643cd4eb9837         1   \n",
       "                                 f19421c1d4aa40978ebb69ca19b0e20d         1   \n",
       "                                 fafdcd668e3743c1bb461111dcafc2a4         1   \n",
       "...                                                                     ...   \n",
       "fffad4f4828548d1b5583907f2e9906b f19421c1d4aa40978ebb69ca19b0e20d         2   \n",
       "ffff82501cea40309d5fdd7edcca4a07 0b1e1539f2cc45b7b9fa7c272da2e1d7         1   \n",
       "                                 2906b810c7d4411798c6938adc9daaa5         3   \n",
       "                                 9b98b8c7a33c4b65b9aebfe6a799e6d9         1   \n",
       "                                 fafdcd668e3743c1bb461111dcafc2a4         1   \n",
       "\n",
       "                                                                   viewed  \\\n",
       "customer_id                      offer_id                                   \n",
       "0009655768c64bdeb2e877511632db8f 2906b810c7d4411798c6938adc9daaa5       0   \n",
       "                                 3f207df678b143eea3cee63160fa8bed       1   \n",
       "                                 5a8bc65990b245e5a138643cd4eb9837       1   \n",
       "                                 f19421c1d4aa40978ebb69ca19b0e20d       1   \n",
       "                                 fafdcd668e3743c1bb461111dcafc2a4       1   \n",
       "...                                                                   ...   \n",
       "fffad4f4828548d1b5583907f2e9906b f19421c1d4aa40978ebb69ca19b0e20d       2   \n",
       "ffff82501cea40309d5fdd7edcca4a07 0b1e1539f2cc45b7b9fa7c272da2e1d7       1   \n",
       "                                 2906b810c7d4411798c6938adc9daaa5       3   \n",
       "                                 9b98b8c7a33c4b65b9aebfe6a799e6d9       1   \n",
       "                                 fafdcd668e3743c1bb461111dcafc2a4       1   \n",
       "\n",
       "                                                                   completed  \n",
       "customer_id                      offer_id                                     \n",
       "0009655768c64bdeb2e877511632db8f 2906b810c7d4411798c6938adc9daaa5          1  \n",
       "                                 3f207df678b143eea3cee63160fa8bed          0  \n",
       "                                 5a8bc65990b245e5a138643cd4eb9837          0  \n",
       "                                 f19421c1d4aa40978ebb69ca19b0e20d          1  \n",
       "                                 fafdcd668e3743c1bb461111dcafc2a4          1  \n",
       "...                                                                      ...  \n",
       "fffad4f4828548d1b5583907f2e9906b f19421c1d4aa40978ebb69ca19b0e20d          2  \n",
       "ffff82501cea40309d5fdd7edcca4a07 0b1e1539f2cc45b7b9fa7c272da2e1d7          1  \n",
       "                                 2906b810c7d4411798c6938adc9daaa5          3  \n",
       "                                 9b98b8c7a33c4b65b9aebfe6a799e6d9          1  \n",
       "                                 fafdcd668e3743c1bb461111dcafc2a4          1  \n",
       "\n",
       "[63288 rows x 4 columns]"
      ]
     },
     "execution_count": 56,
     "metadata": {},
     "output_type": "execute_result"
    }
   ],
   "source": [
    "transcript.groupby(['customer_id','offer_id']).agg({\n",
    "                                                 'time':'last',\n",
    "                                                  'received':'sum',\n",
    "                                                  'viewed':'sum',\n",
    "                                                  'completed':'sum'\n",
    "                                                 })"
   ]
  },
  {
   "cell_type": "markdown",
   "metadata": {},
   "source": [
    "## Combine Data"
   ]
  },
  {
   "cell_type": "markdown",
   "metadata": {
    "ExecuteTime": {
     "end_time": "2020-03-06T21:29:10.126883Z",
     "start_time": "2020-03-06T21:29:10.124028Z"
    }
   },
   "source": [
    "### Combine data"
   ]
  },
  {
   "cell_type": "code",
   "execution_count": 8,
   "metadata": {
    "ExecuteTime": {
     "end_time": "2020-03-07T16:01:16.451213Z",
     "start_time": "2020-03-07T16:01:13.754768Z"
    }
   },
   "outputs": [],
   "source": [
    "# Read and process data\n",
    "portfolio = helper.process_portfolio('../data/external/portfolio.json')\n",
    "profile = helper.process_profile('../data/external/profile.json')\n",
    "offer,transaction = helper.process_transcript('../data/external/transcript.json')"
   ]
  },
  {
   "cell_type": "code",
   "execution_count": 9,
   "metadata": {
    "ExecuteTime": {
     "end_time": "2020-03-07T16:01:16.617394Z",
     "start_time": "2020-03-07T16:01:16.595782Z"
    }
   },
   "outputs": [
    {
     "data": {
      "text/html": [
       "<div>\n",
       "<style scoped>\n",
       "    .dataframe tbody tr th:only-of-type {\n",
       "        vertical-align: middle;\n",
       "    }\n",
       "\n",
       "    .dataframe tbody tr th {\n",
       "        vertical-align: top;\n",
       "    }\n",
       "\n",
       "    .dataframe thead th {\n",
       "        text-align: right;\n",
       "    }\n",
       "</style>\n",
       "<table border=\"1\" class=\"dataframe\">\n",
       "  <thead>\n",
       "    <tr style=\"text-align: right;\">\n",
       "      <th></th>\n",
       "      <th>reward</th>\n",
       "      <th>difficulty</th>\n",
       "      <th>duration</th>\n",
       "      <th>offer_type</th>\n",
       "      <th>offer_id</th>\n",
       "      <th>email</th>\n",
       "      <th>mobile</th>\n",
       "      <th>social</th>\n",
       "      <th>web</th>\n",
       "    </tr>\n",
       "  </thead>\n",
       "  <tbody>\n",
       "    <tr>\n",
       "      <td>0</td>\n",
       "      <td>10</td>\n",
       "      <td>10</td>\n",
       "      <td>7</td>\n",
       "      <td>bogo</td>\n",
       "      <td>ae264e3637204a6fb9bb56bc8210ddfd</td>\n",
       "      <td>1</td>\n",
       "      <td>1</td>\n",
       "      <td>1</td>\n",
       "      <td>0</td>\n",
       "    </tr>\n",
       "  </tbody>\n",
       "</table>\n",
       "</div>"
      ],
      "text/plain": [
       "   reward  difficulty  duration offer_type                          offer_id  \\\n",
       "0      10          10         7       bogo  ae264e3637204a6fb9bb56bc8210ddfd   \n",
       "\n",
       "   email  mobile  social  web  \n",
       "0      1       1       1    0  "
      ]
     },
     "metadata": {},
     "output_type": "display_data"
    },
    {
     "data": {
      "text/html": [
       "<div>\n",
       "<style scoped>\n",
       "    .dataframe tbody tr th:only-of-type {\n",
       "        vertical-align: middle;\n",
       "    }\n",
       "\n",
       "    .dataframe tbody tr th {\n",
       "        vertical-align: top;\n",
       "    }\n",
       "\n",
       "    .dataframe thead th {\n",
       "        text-align: right;\n",
       "    }\n",
       "</style>\n",
       "<table border=\"1\" class=\"dataframe\">\n",
       "  <thead>\n",
       "    <tr style=\"text-align: right;\">\n",
       "      <th></th>\n",
       "      <th>gender</th>\n",
       "      <th>age</th>\n",
       "      <th>customer_id</th>\n",
       "      <th>became_member_on</th>\n",
       "      <th>income</th>\n",
       "      <th>became_member_on_dayofweek</th>\n",
       "      <th>became_member_on_year</th>\n",
       "      <th>became_member_on_month</th>\n",
       "      <th>10's</th>\n",
       "      <th>20's</th>\n",
       "      <th>30's</th>\n",
       "      <th>40's</th>\n",
       "      <th>50's</th>\n",
       "      <th>60's</th>\n",
       "      <th>70's</th>\n",
       "      <th>80's</th>\n",
       "      <th>90's</th>\n",
       "      <th>100's</th>\n",
       "    </tr>\n",
       "  </thead>\n",
       "  <tbody>\n",
       "    <tr>\n",
       "      <td>1</td>\n",
       "      <td>0</td>\n",
       "      <td>55</td>\n",
       "      <td>0610b486422d4921ae7d2bf64640c50b</td>\n",
       "      <td>2017-07-15</td>\n",
       "      <td>112000.0</td>\n",
       "      <td>5</td>\n",
       "      <td>2017</td>\n",
       "      <td>7</td>\n",
       "      <td>0</td>\n",
       "      <td>0</td>\n",
       "      <td>0</td>\n",
       "      <td>0</td>\n",
       "      <td>1</td>\n",
       "      <td>0</td>\n",
       "      <td>0</td>\n",
       "      <td>0</td>\n",
       "      <td>0</td>\n",
       "      <td>0</td>\n",
       "    </tr>\n",
       "  </tbody>\n",
       "</table>\n",
       "</div>"
      ],
      "text/plain": [
       "   gender  age                       customer_id became_member_on    income  \\\n",
       "1       0   55  0610b486422d4921ae7d2bf64640c50b       2017-07-15  112000.0   \n",
       "\n",
       "   became_member_on_dayofweek  became_member_on_year  became_member_on_month  \\\n",
       "1                           5                   2017                       7   \n",
       "\n",
       "   10's  20's  30's  40's  50's  60's  70's  80's  90's  100's  \n",
       "1     0     0     0     0     1     0     0     0     0      0  "
      ]
     },
     "metadata": {},
     "output_type": "display_data"
    },
    {
     "data": {
      "text/html": [
       "<div>\n",
       "<style scoped>\n",
       "    .dataframe tbody tr th:only-of-type {\n",
       "        vertical-align: middle;\n",
       "    }\n",
       "\n",
       "    .dataframe tbody tr th {\n",
       "        vertical-align: top;\n",
       "    }\n",
       "\n",
       "    .dataframe thead th {\n",
       "        text-align: right;\n",
       "    }\n",
       "</style>\n",
       "<table border=\"1\" class=\"dataframe\">\n",
       "  <thead>\n",
       "    <tr style=\"text-align: right;\">\n",
       "      <th></th>\n",
       "      <th>event</th>\n",
       "      <th>offer_id</th>\n",
       "      <th>customer_id</th>\n",
       "      <th>time</th>\n",
       "      <th>received</th>\n",
       "      <th>viewed</th>\n",
       "      <th>completed</th>\n",
       "    </tr>\n",
       "  </thead>\n",
       "  <tbody>\n",
       "    <tr>\n",
       "      <td>0</td>\n",
       "      <td>offer received</td>\n",
       "      <td>9b98b8c7a33c4b65b9aebfe6a799e6d9</td>\n",
       "      <td>78afa995795e4d85b5d9ceeca43f5fef</td>\n",
       "      <td>0.0</td>\n",
       "      <td>1</td>\n",
       "      <td>0</td>\n",
       "      <td>0</td>\n",
       "    </tr>\n",
       "  </tbody>\n",
       "</table>\n",
       "</div>"
      ],
      "text/plain": [
       "            event                          offer_id  \\\n",
       "0  offer received  9b98b8c7a33c4b65b9aebfe6a799e6d9   \n",
       "\n",
       "                        customer_id  time  received  viewed  completed  \n",
       "0  78afa995795e4d85b5d9ceeca43f5fef   0.0         1       0          0  "
      ]
     },
     "metadata": {},
     "output_type": "display_data"
    },
    {
     "data": {
      "text/html": [
       "<div>\n",
       "<style scoped>\n",
       "    .dataframe tbody tr th:only-of-type {\n",
       "        vertical-align: middle;\n",
       "    }\n",
       "\n",
       "    .dataframe tbody tr th {\n",
       "        vertical-align: top;\n",
       "    }\n",
       "\n",
       "    .dataframe thead th {\n",
       "        text-align: right;\n",
       "    }\n",
       "</style>\n",
       "<table border=\"1\" class=\"dataframe\">\n",
       "  <thead>\n",
       "    <tr style=\"text-align: right;\">\n",
       "      <th></th>\n",
       "      <th>customer_id</th>\n",
       "      <th>time</th>\n",
       "      <th>amount</th>\n",
       "    </tr>\n",
       "  </thead>\n",
       "  <tbody>\n",
       "    <tr>\n",
       "      <td>12654</td>\n",
       "      <td>02c083884c7d45b39cc68e1314fec56c</td>\n",
       "      <td>0.0</td>\n",
       "      <td>0.83</td>\n",
       "    </tr>\n",
       "  </tbody>\n",
       "</table>\n",
       "</div>"
      ],
      "text/plain": [
       "                            customer_id  time  amount\n",
       "12654  02c083884c7d45b39cc68e1314fec56c   0.0    0.83"
      ]
     },
     "metadata": {},
     "output_type": "display_data"
    }
   ],
   "source": [
    "# Check dataset\n",
    "display(portfolio.head(1))\n",
    "display(profile.head(1))\n",
    "display(offer.head(1))\n",
    "display(transaction.head(1))"
   ]
  },
  {
   "cell_type": "markdown",
   "metadata": {},
   "source": [
    "We care more about whether the offer was successful. Therefore we only combin offer, portfolio, and profile data."
   ]
  },
  {
   "cell_type": "code",
   "execution_count": 10,
   "metadata": {
    "ExecuteTime": {
     "end_time": "2020-03-07T16:01:17.224299Z",
     "start_time": "2020-03-07T16:01:17.101333Z"
    }
   },
   "outputs": [],
   "source": [
    "merge_df_1 = pd.merge(offer,portfolio,how='inner',on = 'offer_id')\n",
    "merge_df = pd.merge(merge_df_1,profile,how='inner',on = 'customer_id')"
   ]
  },
  {
   "cell_type": "code",
   "execution_count": 11,
   "metadata": {
    "ExecuteTime": {
     "end_time": "2020-03-07T16:01:19.227568Z",
     "start_time": "2020-03-07T16:01:19.224406Z"
    }
   },
   "outputs": [
    {
     "data": {
      "text/plain": [
       "(146615, 32)"
      ]
     },
     "execution_count": 11,
     "metadata": {},
     "output_type": "execute_result"
    }
   ],
   "source": [
    "merge_df.shape"
   ]
  },
  {
   "cell_type": "code",
   "execution_count": 12,
   "metadata": {
    "ExecuteTime": {
     "end_time": "2020-03-07T16:01:21.258854Z",
     "start_time": "2020-03-07T16:01:21.244827Z"
    }
   },
   "outputs": [
    {
     "data": {
      "text/html": [
       "<div>\n",
       "<style scoped>\n",
       "    .dataframe tbody tr th:only-of-type {\n",
       "        vertical-align: middle;\n",
       "    }\n",
       "\n",
       "    .dataframe tbody tr th {\n",
       "        vertical-align: top;\n",
       "    }\n",
       "\n",
       "    .dataframe thead th {\n",
       "        text-align: right;\n",
       "    }\n",
       "</style>\n",
       "<table border=\"1\" class=\"dataframe\">\n",
       "  <thead>\n",
       "    <tr style=\"text-align: right;\">\n",
       "      <th></th>\n",
       "      <th>event</th>\n",
       "      <th>offer_id</th>\n",
       "      <th>customer_id</th>\n",
       "      <th>time</th>\n",
       "      <th>received</th>\n",
       "      <th>viewed</th>\n",
       "      <th>completed</th>\n",
       "      <th>reward</th>\n",
       "      <th>difficulty</th>\n",
       "      <th>duration</th>\n",
       "      <th>...</th>\n",
       "      <th>10's</th>\n",
       "      <th>20's</th>\n",
       "      <th>30's</th>\n",
       "      <th>40's</th>\n",
       "      <th>50's</th>\n",
       "      <th>60's</th>\n",
       "      <th>70's</th>\n",
       "      <th>80's</th>\n",
       "      <th>90's</th>\n",
       "      <th>100's</th>\n",
       "    </tr>\n",
       "  </thead>\n",
       "  <tbody>\n",
       "    <tr>\n",
       "      <td>0</td>\n",
       "      <td>offer received</td>\n",
       "      <td>9b98b8c7a33c4b65b9aebfe6a799e6d9</td>\n",
       "      <td>78afa995795e4d85b5d9ceeca43f5fef</td>\n",
       "      <td>0.00</td>\n",
       "      <td>1</td>\n",
       "      <td>0</td>\n",
       "      <td>0</td>\n",
       "      <td>5</td>\n",
       "      <td>5</td>\n",
       "      <td>7</td>\n",
       "      <td>...</td>\n",
       "      <td>0</td>\n",
       "      <td>0</td>\n",
       "      <td>0</td>\n",
       "      <td>0</td>\n",
       "      <td>0</td>\n",
       "      <td>0</td>\n",
       "      <td>1</td>\n",
       "      <td>0</td>\n",
       "      <td>0</td>\n",
       "      <td>0</td>\n",
       "    </tr>\n",
       "    <tr>\n",
       "      <td>1</td>\n",
       "      <td>offer viewed</td>\n",
       "      <td>9b98b8c7a33c4b65b9aebfe6a799e6d9</td>\n",
       "      <td>78afa995795e4d85b5d9ceeca43f5fef</td>\n",
       "      <td>0.25</td>\n",
       "      <td>0</td>\n",
       "      <td>1</td>\n",
       "      <td>0</td>\n",
       "      <td>5</td>\n",
       "      <td>5</td>\n",
       "      <td>7</td>\n",
       "      <td>...</td>\n",
       "      <td>0</td>\n",
       "      <td>0</td>\n",
       "      <td>0</td>\n",
       "      <td>0</td>\n",
       "      <td>0</td>\n",
       "      <td>0</td>\n",
       "      <td>1</td>\n",
       "      <td>0</td>\n",
       "      <td>0</td>\n",
       "      <td>0</td>\n",
       "    </tr>\n",
       "    <tr>\n",
       "      <td>2</td>\n",
       "      <td>offer completed</td>\n",
       "      <td>9b98b8c7a33c4b65b9aebfe6a799e6d9</td>\n",
       "      <td>78afa995795e4d85b5d9ceeca43f5fef</td>\n",
       "      <td>5.50</td>\n",
       "      <td>0</td>\n",
       "      <td>0</td>\n",
       "      <td>1</td>\n",
       "      <td>5</td>\n",
       "      <td>5</td>\n",
       "      <td>7</td>\n",
       "      <td>...</td>\n",
       "      <td>0</td>\n",
       "      <td>0</td>\n",
       "      <td>0</td>\n",
       "      <td>0</td>\n",
       "      <td>0</td>\n",
       "      <td>0</td>\n",
       "      <td>1</td>\n",
       "      <td>0</td>\n",
       "      <td>0</td>\n",
       "      <td>0</td>\n",
       "    </tr>\n",
       "    <tr>\n",
       "      <td>3</td>\n",
       "      <td>offer received</td>\n",
       "      <td>f19421c1d4aa40978ebb69ca19b0e20d</td>\n",
       "      <td>78afa995795e4d85b5d9ceeca43f5fef</td>\n",
       "      <td>21.00</td>\n",
       "      <td>1</td>\n",
       "      <td>0</td>\n",
       "      <td>0</td>\n",
       "      <td>5</td>\n",
       "      <td>5</td>\n",
       "      <td>5</td>\n",
       "      <td>...</td>\n",
       "      <td>0</td>\n",
       "      <td>0</td>\n",
       "      <td>0</td>\n",
       "      <td>0</td>\n",
       "      <td>0</td>\n",
       "      <td>0</td>\n",
       "      <td>1</td>\n",
       "      <td>0</td>\n",
       "      <td>0</td>\n",
       "      <td>0</td>\n",
       "    </tr>\n",
       "    <tr>\n",
       "      <td>4</td>\n",
       "      <td>offer completed</td>\n",
       "      <td>f19421c1d4aa40978ebb69ca19b0e20d</td>\n",
       "      <td>78afa995795e4d85b5d9ceeca43f5fef</td>\n",
       "      <td>21.25</td>\n",
       "      <td>0</td>\n",
       "      <td>0</td>\n",
       "      <td>1</td>\n",
       "      <td>5</td>\n",
       "      <td>5</td>\n",
       "      <td>5</td>\n",
       "      <td>...</td>\n",
       "      <td>0</td>\n",
       "      <td>0</td>\n",
       "      <td>0</td>\n",
       "      <td>0</td>\n",
       "      <td>0</td>\n",
       "      <td>0</td>\n",
       "      <td>1</td>\n",
       "      <td>0</td>\n",
       "      <td>0</td>\n",
       "      <td>0</td>\n",
       "    </tr>\n",
       "  </tbody>\n",
       "</table>\n",
       "<p>5 rows × 32 columns</p>\n",
       "</div>"
      ],
      "text/plain": [
       "             event                          offer_id  \\\n",
       "0   offer received  9b98b8c7a33c4b65b9aebfe6a799e6d9   \n",
       "1     offer viewed  9b98b8c7a33c4b65b9aebfe6a799e6d9   \n",
       "2  offer completed  9b98b8c7a33c4b65b9aebfe6a799e6d9   \n",
       "3   offer received  f19421c1d4aa40978ebb69ca19b0e20d   \n",
       "4  offer completed  f19421c1d4aa40978ebb69ca19b0e20d   \n",
       "\n",
       "                        customer_id   time  received  viewed  completed  \\\n",
       "0  78afa995795e4d85b5d9ceeca43f5fef   0.00         1       0          0   \n",
       "1  78afa995795e4d85b5d9ceeca43f5fef   0.25         0       1          0   \n",
       "2  78afa995795e4d85b5d9ceeca43f5fef   5.50         0       0          1   \n",
       "3  78afa995795e4d85b5d9ceeca43f5fef  21.00         1       0          0   \n",
       "4  78afa995795e4d85b5d9ceeca43f5fef  21.25         0       0          1   \n",
       "\n",
       "   reward  difficulty  duration  ... 10's  20's  30's  40's  50's  60's  70's  \\\n",
       "0       5           5         7  ...    0     0     0     0     0     0     1   \n",
       "1       5           5         7  ...    0     0     0     0     0     0     1   \n",
       "2       5           5         7  ...    0     0     0     0     0     0     1   \n",
       "3       5           5         5  ...    0     0     0     0     0     0     1   \n",
       "4       5           5         5  ...    0     0     0     0     0     0     1   \n",
       "\n",
       "  80's  90's  100's  \n",
       "0    0     0      0  \n",
       "1    0     0      0  \n",
       "2    0     0      0  \n",
       "3    0     0      0  \n",
       "4    0     0      0  \n",
       "\n",
       "[5 rows x 32 columns]"
      ]
     },
     "execution_count": 12,
     "metadata": {},
     "output_type": "execute_result"
    }
   ],
   "source": [
    "merge_df.head()"
   ]
  },
  {
   "cell_type": "code",
   "execution_count": 13,
   "metadata": {
    "ExecuteTime": {
     "end_time": "2020-03-07T16:01:21.483353Z",
     "start_time": "2020-03-07T16:01:21.260193Z"
    }
   },
   "outputs": [],
   "source": [
    "received = merge_df[merge_df.event == 'offer received']\n",
    "viewed = merge_df[merge_df.event == 'offer viewed']\n",
    "completed = merge_df[merge_df.event == 'offer completed']"
   ]
  },
  {
   "cell_type": "markdown",
   "metadata": {},
   "source": [
    "### Feature Engineering"
   ]
  },
  {
   "cell_type": "code",
   "execution_count": null,
   "metadata": {
    "ExecuteTime": {
     "end_time": "2020-03-07T16:01:41.883161Z",
     "start_time": "2020-03-07T16:01:31.349109Z"
    }
   },
   "outputs": [],
   "source": [
    "received_processed = helper.fe_combined(received,viewed,completed)\n"
   ]
  },
  {
   "cell_type": "code",
   "execution_count": 18,
   "metadata": {
    "ExecuteTime": {
     "end_time": "2020-03-07T16:02:04.866865Z",
     "start_time": "2020-03-07T16:02:04.850132Z"
    }
   },
   "outputs": [
    {
     "data": {
      "text/html": [
       "<div>\n",
       "<style scoped>\n",
       "    .dataframe tbody tr th:only-of-type {\n",
       "        vertical-align: middle;\n",
       "    }\n",
       "\n",
       "    .dataframe tbody tr th {\n",
       "        vertical-align: top;\n",
       "    }\n",
       "\n",
       "    .dataframe thead th {\n",
       "        text-align: right;\n",
       "    }\n",
       "</style>\n",
       "<table border=\"1\" class=\"dataframe\">\n",
       "  <thead>\n",
       "    <tr style=\"text-align: right;\">\n",
       "      <th></th>\n",
       "      <th>Unnamed: 0</th>\n",
       "      <th>Unnamed: 0.1</th>\n",
       "      <th>event</th>\n",
       "      <th>offer_id</th>\n",
       "      <th>customer_id</th>\n",
       "      <th>time</th>\n",
       "      <th>received</th>\n",
       "      <th>viewed</th>\n",
       "      <th>completed</th>\n",
       "      <th>reward</th>\n",
       "      <th>...</th>\n",
       "      <th>70's</th>\n",
       "      <th>80's</th>\n",
       "      <th>90's</th>\n",
       "      <th>100's</th>\n",
       "      <th>expected_finish</th>\n",
       "      <th>offer_completed</th>\n",
       "      <th>finish_time</th>\n",
       "      <th>offer_viewed</th>\n",
       "      <th>view_time</th>\n",
       "      <th>success</th>\n",
       "    </tr>\n",
       "  </thead>\n",
       "  <tbody>\n",
       "    <tr>\n",
       "      <td>0</td>\n",
       "      <td>0</td>\n",
       "      <td>0</td>\n",
       "      <td>offer received</td>\n",
       "      <td>9b98b8c7a33c4b65b9aebfe6a799e6d9</td>\n",
       "      <td>78afa995795e4d85b5d9ceeca43f5fef</td>\n",
       "      <td>0.0</td>\n",
       "      <td>1</td>\n",
       "      <td>0</td>\n",
       "      <td>0</td>\n",
       "      <td>5</td>\n",
       "      <td>...</td>\n",
       "      <td>1</td>\n",
       "      <td>0</td>\n",
       "      <td>0</td>\n",
       "      <td>0</td>\n",
       "      <td>7.0</td>\n",
       "      <td>1</td>\n",
       "      <td>5.50</td>\n",
       "      <td>1</td>\n",
       "      <td>0.25</td>\n",
       "      <td>1</td>\n",
       "    </tr>\n",
       "    <tr>\n",
       "      <td>1</td>\n",
       "      <td>1</td>\n",
       "      <td>1</td>\n",
       "      <td>offer received</td>\n",
       "      <td>f19421c1d4aa40978ebb69ca19b0e20d</td>\n",
       "      <td>78afa995795e4d85b5d9ceeca43f5fef</td>\n",
       "      <td>21.0</td>\n",
       "      <td>1</td>\n",
       "      <td>0</td>\n",
       "      <td>0</td>\n",
       "      <td>5</td>\n",
       "      <td>...</td>\n",
       "      <td>1</td>\n",
       "      <td>0</td>\n",
       "      <td>0</td>\n",
       "      <td>0</td>\n",
       "      <td>26.0</td>\n",
       "      <td>1</td>\n",
       "      <td>21.25</td>\n",
       "      <td>1</td>\n",
       "      <td>24.25</td>\n",
       "      <td>1</td>\n",
       "    </tr>\n",
       "    <tr>\n",
       "      <td>2</td>\n",
       "      <td>2</td>\n",
       "      <td>2</td>\n",
       "      <td>offer received</td>\n",
       "      <td>ae264e3637204a6fb9bb56bc8210ddfd</td>\n",
       "      <td>78afa995795e4d85b5d9ceeca43f5fef</td>\n",
       "      <td>17.0</td>\n",
       "      <td>1</td>\n",
       "      <td>0</td>\n",
       "      <td>0</td>\n",
       "      <td>10</td>\n",
       "      <td>...</td>\n",
       "      <td>1</td>\n",
       "      <td>0</td>\n",
       "      <td>0</td>\n",
       "      <td>0</td>\n",
       "      <td>24.0</td>\n",
       "      <td>1</td>\n",
       "      <td>21.25</td>\n",
       "      <td>1</td>\n",
       "      <td>17.00</td>\n",
       "      <td>1</td>\n",
       "    </tr>\n",
       "    <tr>\n",
       "      <td>3</td>\n",
       "      <td>3</td>\n",
       "      <td>3</td>\n",
       "      <td>offer received</td>\n",
       "      <td>5a8bc65990b245e5a138643cd4eb9837</td>\n",
       "      <td>78afa995795e4d85b5d9ceeca43f5fef</td>\n",
       "      <td>7.0</td>\n",
       "      <td>1</td>\n",
       "      <td>0</td>\n",
       "      <td>0</td>\n",
       "      <td>0</td>\n",
       "      <td>...</td>\n",
       "      <td>1</td>\n",
       "      <td>0</td>\n",
       "      <td>0</td>\n",
       "      <td>0</td>\n",
       "      <td>10.0</td>\n",
       "      <td>0</td>\n",
       "      <td>10.00</td>\n",
       "      <td>1</td>\n",
       "      <td>9.00</td>\n",
       "      <td>0</td>\n",
       "    </tr>\n",
       "    <tr>\n",
       "      <td>4</td>\n",
       "      <td>4</td>\n",
       "      <td>4</td>\n",
       "      <td>offer received</td>\n",
       "      <td>9b98b8c7a33c4b65b9aebfe6a799e6d9</td>\n",
       "      <td>ebe7ef46ea6f4963a7dd49f501b26779</td>\n",
       "      <td>0.0</td>\n",
       "      <td>1</td>\n",
       "      <td>0</td>\n",
       "      <td>0</td>\n",
       "      <td>5</td>\n",
       "      <td>...</td>\n",
       "      <td>0</td>\n",
       "      <td>0</td>\n",
       "      <td>0</td>\n",
       "      <td>0</td>\n",
       "      <td>7.0</td>\n",
       "      <td>0</td>\n",
       "      <td>7.00</td>\n",
       "      <td>0</td>\n",
       "      <td>NaN</td>\n",
       "      <td>0</td>\n",
       "    </tr>\n",
       "  </tbody>\n",
       "</table>\n",
       "<p>5 rows × 40 columns</p>\n",
       "</div>"
      ],
      "text/plain": [
       "   Unnamed: 0  Unnamed: 0.1           event                          offer_id  \\\n",
       "0           0             0  offer received  9b98b8c7a33c4b65b9aebfe6a799e6d9   \n",
       "1           1             1  offer received  f19421c1d4aa40978ebb69ca19b0e20d   \n",
       "2           2             2  offer received  ae264e3637204a6fb9bb56bc8210ddfd   \n",
       "3           3             3  offer received  5a8bc65990b245e5a138643cd4eb9837   \n",
       "4           4             4  offer received  9b98b8c7a33c4b65b9aebfe6a799e6d9   \n",
       "\n",
       "                        customer_id  time  received  viewed  completed  \\\n",
       "0  78afa995795e4d85b5d9ceeca43f5fef   0.0         1       0          0   \n",
       "1  78afa995795e4d85b5d9ceeca43f5fef  21.0         1       0          0   \n",
       "2  78afa995795e4d85b5d9ceeca43f5fef  17.0         1       0          0   \n",
       "3  78afa995795e4d85b5d9ceeca43f5fef   7.0         1       0          0   \n",
       "4  ebe7ef46ea6f4963a7dd49f501b26779   0.0         1       0          0   \n",
       "\n",
       "   reward  ...  70's  80's 90's  100's  expected_finish  offer_completed  \\\n",
       "0       5  ...     1     0    0      0              7.0                1   \n",
       "1       5  ...     1     0    0      0             26.0                1   \n",
       "2      10  ...     1     0    0      0             24.0                1   \n",
       "3       0  ...     1     0    0      0             10.0                0   \n",
       "4       5  ...     0     0    0      0              7.0                0   \n",
       "\n",
       "   finish_time  offer_viewed  view_time success  \n",
       "0         5.50             1       0.25       1  \n",
       "1        21.25             1      24.25       1  \n",
       "2        21.25             1      17.00       1  \n",
       "3        10.00             1       9.00       0  \n",
       "4         7.00             0        NaN       0  \n",
       "\n",
       "[5 rows x 40 columns]"
      ]
     },
     "execution_count": 18,
     "metadata": {},
     "output_type": "execute_result"
    }
   ],
   "source": [
    "received_processed.head()"
   ]
  },
  {
   "cell_type": "code",
   "execution_count": 19,
   "metadata": {
    "ExecuteTime": {
     "end_time": "2020-03-07T16:02:10.080580Z",
     "start_time": "2020-03-07T16:02:08.160302Z"
    }
   },
   "outputs": [],
   "source": [
    "received_processed.to_csv('../data/processed/received_processed.csv')"
   ]
  },
  {
   "cell_type": "markdown",
   "metadata": {},
   "source": [
    "### EDA\n",
    "#### correlation"
   ]
  },
  {
   "cell_type": "code",
   "execution_count": 20,
   "metadata": {
    "ExecuteTime": {
     "end_time": "2020-03-07T16:02:13.671795Z",
     "start_time": "2020-03-07T16:02:13.409489Z"
    }
   },
   "outputs": [],
   "source": [
    "received_processed = pd.read_csv('../data/processed/received_processed.csv')"
   ]
  },
  {
   "cell_type": "code",
   "execution_count": 21,
   "metadata": {
    "ExecuteTime": {
     "end_time": "2020-03-07T16:02:17.140506Z",
     "start_time": "2020-03-07T16:02:16.997953Z"
    }
   },
   "outputs": [],
   "source": [
    "corr = received_processed.corr()"
   ]
  },
  {
   "cell_type": "code",
   "execution_count": 22,
   "metadata": {
    "ExecuteTime": {
     "end_time": "2020-03-07T16:02:20.923330Z",
     "start_time": "2020-03-07T16:02:20.475517Z"
    }
   },
   "outputs": [
    {
     "data": {
      "text/plain": [
       "<matplotlib.axes._subplots.AxesSubplot at 0x7fcfa1d3ca10>"
      ]
     },
     "execution_count": 22,
     "metadata": {},
     "output_type": "execute_result"
    },
    {
     "data": {
      "image/png": "[encoded data removed]",
      "text/plain": [
       "<Figure size 792x648 with 2 Axes>"
      ]
     },
     "metadata": {
      "needs_background": "light"
     },
     "output_type": "display_data"
    }
   ],
   "source": [
    "f, ax = plt.subplots(figsize=(11, 9))\n",
    "cmap = sns.diverging_palette(220, 10, as_cmap=True)\n",
    "sns.heatmap(corr, cmap=cmap, vmax=.3, center=0,\n",
    "            square=True, linewidths=.5, cbar_kws={\"shrink\": .5})"
   ]
  },
  {
   "cell_type": "markdown",
   "metadata": {},
   "source": [
    "#### customer demographic"
   ]
  },
  {
   "cell_type": "code",
   "execution_count": 23,
   "metadata": {
    "ExecuteTime": {
     "end_time": "2020-03-07T16:02:24.980431Z",
     "start_time": "2020-03-07T16:02:24.224790Z"
    }
   },
   "outputs": [
    {
     "data": {
      "text/plain": [
       "(array([0, 1, 2, 3, 4, 5, 6, 7, 8, 9]), <a list of 10 Text xticklabel objects>)"
      ]
     },
     "execution_count": 23,
     "metadata": {},
     "output_type": "execute_result"
    },
    {
     "data": {
      "image/png": "[encoded data removed]",
      "text/plain": [
       "<Figure size 432x288 with 1 Axes>"
      ]
     },
     "metadata": {
      "needs_background": "light"
     },
     "output_type": "display_data"
    }
   ],
   "source": [
    "sns.violinplot(x='offer_id',y='income',data = merge_df[merge_df['gender'] != 2],split=True,hue=\"gender\",inner=\"quartile\")\n",
    "plt.xticks(rotation=90)"
   ]
  },
  {
   "cell_type": "markdown",
   "metadata": {},
   "source": [
    "#### offer success rate"
   ]
  },
  {
   "cell_type": "code",
   "execution_count": 26,
   "metadata": {
    "ExecuteTime": {
     "end_time": "2020-03-07T16:02:35.553283Z",
     "start_time": "2020-03-07T16:02:35.295210Z"
    }
   },
   "outputs": [
    {
     "data": {
      "image/png": "[encoded data removed]",
      "text/plain": [
       "<Figure size 720x288 with 2 Axes>"
      ]
     },
     "metadata": {
      "needs_background": "light"
     },
     "output_type": "display_data"
    }
   ],
   "source": [
    "helper.success_plot(received_processed,portfolio)"
   ]
  },
  {
   "cell_type": "markdown",
   "metadata": {},
   "source": [
    "# Build Model"
   ]
  },
  {
   "cell_type": "markdown",
   "metadata": {},
   "source": [
    "## Complication:\n",
    "\n",
    "There are many complications in this project to build models for those data sets. The datasets have a few categorical features with high cardinality, which tradition one hot encoding method will create a wide and imbalanced dataset. Moreover, there are a few numerical features. For a traditional tree model, it could be very slow to find the split.\n",
    "\n",
    "## Model Choose:\n",
    "\n",
    "LightGBM is a fast, distributed, high-performance gradient boosting framework based on decision tree algorithms. There are several reasons to choose LightGBM as the model to predict the offer success.\n",
    "LightGBM is a gradient boosting framework based on tree algorithms.\n",
    "It has a faster training speed.\n",
    "It works great for the dataset contains many categorical data.\n",
    "Implementation\n",
    "To properly apply train lightGBM, we need to tell which feature is categorical data. We also need to drop off some data to represent how real the situation is. For example, we need to drop complete and view flags. Also, we need fine-tune the parameter to optimize the result.\n",
    "\n",
    "\n",
    "## Prepare Dataset"
   ]
  },
  {
   "cell_type": "code",
   "execution_count": 10,
   "metadata": {
    "ExecuteTime": {
     "end_time": "2020-03-07T20:08:50.952339Z",
     "start_time": "2020-03-07T20:08:50.663220Z"
    }
   },
   "outputs": [],
   "source": [
    "received_processed = pd.read_csv('../data/processed/received_processed.csv')"
   ]
  },
  {
   "cell_type": "code",
   "execution_count": 11,
   "metadata": {
    "ExecuteTime": {
     "end_time": "2020-03-07T20:08:51.003746Z",
     "start_time": "2020-03-07T20:08:50.999309Z"
    }
   },
   "outputs": [],
   "source": [
    "received_processed['diff_time'] = received_processed['finish_time'] - received_processed['time']"
   ]
  },
  {
   "cell_type": "code",
   "execution_count": 12,
   "metadata": {
    "ExecuteTime": {
     "end_time": "2020-03-07T20:08:51.363553Z",
     "start_time": "2020-03-07T20:08:51.327865Z"
    }
   },
   "outputs": [
    {
     "data": {
      "text/html": [
       "<div>\n",
       "<style scoped>\n",
       "    .dataframe tbody tr th:only-of-type {\n",
       "        vertical-align: middle;\n",
       "    }\n",
       "\n",
       "    .dataframe tbody tr th {\n",
       "        vertical-align: top;\n",
       "    }\n",
       "\n",
       "    .dataframe thead th {\n",
       "        text-align: right;\n",
       "    }\n",
       "</style>\n",
       "<table border=\"1\" class=\"dataframe\">\n",
       "  <thead>\n",
       "    <tr style=\"text-align: right;\">\n",
       "      <th></th>\n",
       "      <th>Unnamed: 0</th>\n",
       "      <th>Unnamed: 0.1</th>\n",
       "      <th>Unnamed: 0.1.1</th>\n",
       "      <th>event</th>\n",
       "      <th>offer_id</th>\n",
       "      <th>customer_id</th>\n",
       "      <th>time</th>\n",
       "      <th>received</th>\n",
       "      <th>viewed</th>\n",
       "      <th>completed</th>\n",
       "      <th>...</th>\n",
       "      <th>80's</th>\n",
       "      <th>90's</th>\n",
       "      <th>100's</th>\n",
       "      <th>expected_finish</th>\n",
       "      <th>offer_completed</th>\n",
       "      <th>finish_time</th>\n",
       "      <th>offer_viewed</th>\n",
       "      <th>view_time</th>\n",
       "      <th>success</th>\n",
       "      <th>diff_time</th>\n",
       "    </tr>\n",
       "  </thead>\n",
       "  <tbody>\n",
       "    <tr>\n",
       "      <td>0</td>\n",
       "      <td>0</td>\n",
       "      <td>0</td>\n",
       "      <td>0</td>\n",
       "      <td>offer received</td>\n",
       "      <td>9b98b8c7a33c4b65b9aebfe6a799e6d9</td>\n",
       "      <td>78afa995795e4d85b5d9ceeca43f5fef</td>\n",
       "      <td>0.0</td>\n",
       "      <td>1</td>\n",
       "      <td>0</td>\n",
       "      <td>0</td>\n",
       "      <td>...</td>\n",
       "      <td>0</td>\n",
       "      <td>0</td>\n",
       "      <td>0</td>\n",
       "      <td>7.0</td>\n",
       "      <td>1</td>\n",
       "      <td>5.50</td>\n",
       "      <td>1</td>\n",
       "      <td>0.25</td>\n",
       "      <td>1</td>\n",
       "      <td>5.50</td>\n",
       "    </tr>\n",
       "    <tr>\n",
       "      <td>1</td>\n",
       "      <td>1</td>\n",
       "      <td>1</td>\n",
       "      <td>1</td>\n",
       "      <td>offer received</td>\n",
       "      <td>f19421c1d4aa40978ebb69ca19b0e20d</td>\n",
       "      <td>78afa995795e4d85b5d9ceeca43f5fef</td>\n",
       "      <td>21.0</td>\n",
       "      <td>1</td>\n",
       "      <td>0</td>\n",
       "      <td>0</td>\n",
       "      <td>...</td>\n",
       "      <td>0</td>\n",
       "      <td>0</td>\n",
       "      <td>0</td>\n",
       "      <td>26.0</td>\n",
       "      <td>1</td>\n",
       "      <td>21.25</td>\n",
       "      <td>1</td>\n",
       "      <td>24.25</td>\n",
       "      <td>1</td>\n",
       "      <td>0.25</td>\n",
       "    </tr>\n",
       "    <tr>\n",
       "      <td>2</td>\n",
       "      <td>2</td>\n",
       "      <td>2</td>\n",
       "      <td>2</td>\n",
       "      <td>offer received</td>\n",
       "      <td>ae264e3637204a6fb9bb56bc8210ddfd</td>\n",
       "      <td>78afa995795e4d85b5d9ceeca43f5fef</td>\n",
       "      <td>17.0</td>\n",
       "      <td>1</td>\n",
       "      <td>0</td>\n",
       "      <td>0</td>\n",
       "      <td>...</td>\n",
       "      <td>0</td>\n",
       "      <td>0</td>\n",
       "      <td>0</td>\n",
       "      <td>24.0</td>\n",
       "      <td>1</td>\n",
       "      <td>21.25</td>\n",
       "      <td>1</td>\n",
       "      <td>17.00</td>\n",
       "      <td>1</td>\n",
       "      <td>4.25</td>\n",
       "    </tr>\n",
       "    <tr>\n",
       "      <td>3</td>\n",
       "      <td>3</td>\n",
       "      <td>3</td>\n",
       "      <td>3</td>\n",
       "      <td>offer received</td>\n",
       "      <td>5a8bc65990b245e5a138643cd4eb9837</td>\n",
       "      <td>78afa995795e4d85b5d9ceeca43f5fef</td>\n",
       "      <td>7.0</td>\n",
       "      <td>1</td>\n",
       "      <td>0</td>\n",
       "      <td>0</td>\n",
       "      <td>...</td>\n",
       "      <td>0</td>\n",
       "      <td>0</td>\n",
       "      <td>0</td>\n",
       "      <td>10.0</td>\n",
       "      <td>0</td>\n",
       "      <td>10.00</td>\n",
       "      <td>1</td>\n",
       "      <td>9.00</td>\n",
       "      <td>0</td>\n",
       "      <td>3.00</td>\n",
       "    </tr>\n",
       "    <tr>\n",
       "      <td>4</td>\n",
       "      <td>4</td>\n",
       "      <td>4</td>\n",
       "      <td>4</td>\n",
       "      <td>offer received</td>\n",
       "      <td>9b98b8c7a33c4b65b9aebfe6a799e6d9</td>\n",
       "      <td>ebe7ef46ea6f4963a7dd49f501b26779</td>\n",
       "      <td>0.0</td>\n",
       "      <td>1</td>\n",
       "      <td>0</td>\n",
       "      <td>0</td>\n",
       "      <td>...</td>\n",
       "      <td>0</td>\n",
       "      <td>0</td>\n",
       "      <td>0</td>\n",
       "      <td>7.0</td>\n",
       "      <td>0</td>\n",
       "      <td>7.00</td>\n",
       "      <td>0</td>\n",
       "      <td>NaN</td>\n",
       "      <td>0</td>\n",
       "      <td>7.00</td>\n",
       "    </tr>\n",
       "    <tr>\n",
       "      <td>...</td>\n",
       "      <td>...</td>\n",
       "      <td>...</td>\n",
       "      <td>...</td>\n",
       "      <td>...</td>\n",
       "      <td>...</td>\n",
       "      <td>...</td>\n",
       "      <td>...</td>\n",
       "      <td>...</td>\n",
       "      <td>...</td>\n",
       "      <td>...</td>\n",
       "      <td>...</td>\n",
       "      <td>...</td>\n",
       "      <td>...</td>\n",
       "      <td>...</td>\n",
       "      <td>...</td>\n",
       "      <td>...</td>\n",
       "      <td>...</td>\n",
       "      <td>...</td>\n",
       "      <td>...</td>\n",
       "      <td>...</td>\n",
       "      <td>...</td>\n",
       "    </tr>\n",
       "    <tr>\n",
       "      <td>65580</td>\n",
       "      <td>65580</td>\n",
       "      <td>65580</td>\n",
       "      <td>65580</td>\n",
       "      <td>offer received</td>\n",
       "      <td>5a8bc65990b245e5a138643cd4eb9837</td>\n",
       "      <td>838772a672304524a86cf9b465b9bd5d</td>\n",
       "      <td>14.0</td>\n",
       "      <td>1</td>\n",
       "      <td>0</td>\n",
       "      <td>0</td>\n",
       "      <td>...</td>\n",
       "      <td>0</td>\n",
       "      <td>0</td>\n",
       "      <td>0</td>\n",
       "      <td>17.0</td>\n",
       "      <td>0</td>\n",
       "      <td>17.00</td>\n",
       "      <td>1</td>\n",
       "      <td>14.75</td>\n",
       "      <td>0</td>\n",
       "      <td>3.00</td>\n",
       "    </tr>\n",
       "    <tr>\n",
       "      <td>65581</td>\n",
       "      <td>65581</td>\n",
       "      <td>65581</td>\n",
       "      <td>65581</td>\n",
       "      <td>offer received</td>\n",
       "      <td>5a8bc65990b245e5a138643cd4eb9837</td>\n",
       "      <td>838772a672304524a86cf9b465b9bd5d</td>\n",
       "      <td>17.0</td>\n",
       "      <td>1</td>\n",
       "      <td>0</td>\n",
       "      <td>0</td>\n",
       "      <td>...</td>\n",
       "      <td>0</td>\n",
       "      <td>0</td>\n",
       "      <td>0</td>\n",
       "      <td>20.0</td>\n",
       "      <td>0</td>\n",
       "      <td>20.00</td>\n",
       "      <td>1</td>\n",
       "      <td>17.00</td>\n",
       "      <td>0</td>\n",
       "      <td>3.00</td>\n",
       "    </tr>\n",
       "    <tr>\n",
       "      <td>65582</td>\n",
       "      <td>65582</td>\n",
       "      <td>65582</td>\n",
       "      <td>65582</td>\n",
       "      <td>offer received</td>\n",
       "      <td>5a8bc65990b245e5a138643cd4eb9837</td>\n",
       "      <td>d1f3cc62def540c8951561f6da22e88a</td>\n",
       "      <td>17.0</td>\n",
       "      <td>1</td>\n",
       "      <td>0</td>\n",
       "      <td>0</td>\n",
       "      <td>...</td>\n",
       "      <td>0</td>\n",
       "      <td>0</td>\n",
       "      <td>0</td>\n",
       "      <td>20.0</td>\n",
       "      <td>0</td>\n",
       "      <td>20.00</td>\n",
       "      <td>1</td>\n",
       "      <td>19.25</td>\n",
       "      <td>0</td>\n",
       "      <td>3.00</td>\n",
       "    </tr>\n",
       "    <tr>\n",
       "      <td>65583</td>\n",
       "      <td>65583</td>\n",
       "      <td>65583</td>\n",
       "      <td>65583</td>\n",
       "      <td>offer received</td>\n",
       "      <td>5a8bc65990b245e5a138643cd4eb9837</td>\n",
       "      <td>d1f3cc62def540c8951561f6da22e88a</td>\n",
       "      <td>21.0</td>\n",
       "      <td>1</td>\n",
       "      <td>0</td>\n",
       "      <td>0</td>\n",
       "      <td>...</td>\n",
       "      <td>0</td>\n",
       "      <td>0</td>\n",
       "      <td>0</td>\n",
       "      <td>24.0</td>\n",
       "      <td>0</td>\n",
       "      <td>24.00</td>\n",
       "      <td>1</td>\n",
       "      <td>23.25</td>\n",
       "      <td>0</td>\n",
       "      <td>3.00</td>\n",
       "    </tr>\n",
       "    <tr>\n",
       "      <td>65584</td>\n",
       "      <td>65584</td>\n",
       "      <td>65584</td>\n",
       "      <td>65584</td>\n",
       "      <td>offer received</td>\n",
       "      <td>5a8bc65990b245e5a138643cd4eb9837</td>\n",
       "      <td>01fe5ec668f241608eb2f7ec374cb1b7</td>\n",
       "      <td>24.0</td>\n",
       "      <td>1</td>\n",
       "      <td>0</td>\n",
       "      <td>0</td>\n",
       "      <td>...</td>\n",
       "      <td>0</td>\n",
       "      <td>0</td>\n",
       "      <td>0</td>\n",
       "      <td>27.0</td>\n",
       "      <td>0</td>\n",
       "      <td>27.00</td>\n",
       "      <td>1</td>\n",
       "      <td>24.75</td>\n",
       "      <td>0</td>\n",
       "      <td>3.00</td>\n",
       "    </tr>\n",
       "  </tbody>\n",
       "</table>\n",
       "<p>65585 rows × 42 columns</p>\n",
       "</div>"
      ],
      "text/plain": [
       "       Unnamed: 0  Unnamed: 0.1  Unnamed: 0.1.1           event  \\\n",
       "0               0             0               0  offer received   \n",
       "1               1             1               1  offer received   \n",
       "2               2             2               2  offer received   \n",
       "3               3             3               3  offer received   \n",
       "4               4             4               4  offer received   \n",
       "...           ...           ...             ...             ...   \n",
       "65580       65580         65580           65580  offer received   \n",
       "65581       65581         65581           65581  offer received   \n",
       "65582       65582         65582           65582  offer received   \n",
       "65583       65583         65583           65583  offer received   \n",
       "65584       65584         65584           65584  offer received   \n",
       "\n",
       "                               offer_id                       customer_id  \\\n",
       "0      9b98b8c7a33c4b65b9aebfe6a799e6d9  78afa995795e4d85b5d9ceeca43f5fef   \n",
       "1      f19421c1d4aa40978ebb69ca19b0e20d  78afa995795e4d85b5d9ceeca43f5fef   \n",
       "2      ae264e3637204a6fb9bb56bc8210ddfd  78afa995795e4d85b5d9ceeca43f5fef   \n",
       "3      5a8bc65990b245e5a138643cd4eb9837  78afa995795e4d85b5d9ceeca43f5fef   \n",
       "4      9b98b8c7a33c4b65b9aebfe6a799e6d9  ebe7ef46ea6f4963a7dd49f501b26779   \n",
       "...                                 ...                               ...   \n",
       "65580  5a8bc65990b245e5a138643cd4eb9837  838772a672304524a86cf9b465b9bd5d   \n",
       "65581  5a8bc65990b245e5a138643cd4eb9837  838772a672304524a86cf9b465b9bd5d   \n",
       "65582  5a8bc65990b245e5a138643cd4eb9837  d1f3cc62def540c8951561f6da22e88a   \n",
       "65583  5a8bc65990b245e5a138643cd4eb9837  d1f3cc62def540c8951561f6da22e88a   \n",
       "65584  5a8bc65990b245e5a138643cd4eb9837  01fe5ec668f241608eb2f7ec374cb1b7   \n",
       "\n",
       "       time  received  viewed  completed  ...  80's  90's  100's  \\\n",
       "0       0.0         1       0          0  ...     0     0      0   \n",
       "1      21.0         1       0          0  ...     0     0      0   \n",
       "2      17.0         1       0          0  ...     0     0      0   \n",
       "3       7.0         1       0          0  ...     0     0      0   \n",
       "4       0.0         1       0          0  ...     0     0      0   \n",
       "...     ...       ...     ...        ...  ...   ...   ...    ...   \n",
       "65580  14.0         1       0          0  ...     0     0      0   \n",
       "65581  17.0         1       0          0  ...     0     0      0   \n",
       "65582  17.0         1       0          0  ...     0     0      0   \n",
       "65583  21.0         1       0          0  ...     0     0      0   \n",
       "65584  24.0         1       0          0  ...     0     0      0   \n",
       "\n",
       "      expected_finish  offer_completed  finish_time  offer_viewed  view_time  \\\n",
       "0                 7.0                1         5.50             1       0.25   \n",
       "1                26.0                1        21.25             1      24.25   \n",
       "2                24.0                1        21.25             1      17.00   \n",
       "3                10.0                0        10.00             1       9.00   \n",
       "4                 7.0                0         7.00             0        NaN   \n",
       "...               ...              ...          ...           ...        ...   \n",
       "65580            17.0                0        17.00             1      14.75   \n",
       "65581            20.0                0        20.00             1      17.00   \n",
       "65582            20.0                0        20.00             1      19.25   \n",
       "65583            24.0                0        24.00             1      23.25   \n",
       "65584            27.0                0        27.00             1      24.75   \n",
       "\n",
       "       success  diff_time  \n",
       "0            1       5.50  \n",
       "1            1       0.25  \n",
       "2            1       4.25  \n",
       "3            0       3.00  \n",
       "4            0       7.00  \n",
       "...        ...        ...  \n",
       "65580        0       3.00  \n",
       "65581        0       3.00  \n",
       "65582        0       3.00  \n",
       "65583        0       3.00  \n",
       "65584        0       3.00  \n",
       "\n",
       "[65585 rows x 42 columns]"
      ]
     },
     "execution_count": 12,
     "metadata": {},
     "output_type": "execute_result"
    }
   ],
   "source": [
    "received_processed"
   ]
  },
  {
   "cell_type": "code",
   "execution_count": 13,
   "metadata": {
    "ExecuteTime": {
     "end_time": "2020-03-07T20:08:52.676055Z",
     "start_time": "2020-03-07T20:08:52.671641Z"
    }
   },
   "outputs": [],
   "source": [
    "feature_col = ['event', 'offer_id', 'time', 'reward', 'difficulty', \n",
    "                             'duration', 'offer_type', 'email',\n",
    "                               'mobile', 'social', 'web', 'gender', 'age',\n",
    "                               'income', 'became_member_on_dayofweek', 'became_member_on_year',\n",
    "                               'became_member_on_month', 'expected_finish', 'view_time']"
   ]
  },
  {
   "cell_type": "code",
   "execution_count": 14,
   "metadata": {
    "ExecuteTime": {
     "end_time": "2020-03-07T20:08:53.423596Z",
     "start_time": "2020-03-07T20:08:53.414745Z"
    }
   },
   "outputs": [],
   "source": [
    "target = received_processed['success']\n",
    "feature = received_processed[feature_col]"
   ]
  },
  {
   "cell_type": "code",
   "execution_count": 15,
   "metadata": {
    "ExecuteTime": {
     "end_time": "2020-03-07T20:08:54.213222Z",
     "start_time": "2020-03-07T20:08:54.208409Z"
    }
   },
   "outputs": [],
   "source": [
    "dtype={'event':'category',\n",
    "       'offer_id':'category',\n",
    "       'time':'float64',\n",
    "       'reward':'category',\n",
    "       'difficulty':'category',\n",
    "       'duration':'float64',\n",
    "       'offer_type':'category',\n",
    "       'email':'category',\n",
    "       'mobile':'category',\n",
    "       'social':'category',\n",
    "       'web':'category',\n",
    "       'gender':'category',\n",
    "       'age':'int64',\n",
    "       'income':'float64',\n",
    "       'became_member_on_dayofweek':'category',\n",
    "       'became_member_on_year':'category',\n",
    "       'became_member_on_month':'category',\n",
    "       'expected_finish':'float64',\n",
    "       'view_time':'float64'\n",
    "      }"
   ]
  },
  {
   "cell_type": "code",
   "execution_count": 20,
   "metadata": {
    "ExecuteTime": {
     "end_time": "2020-03-07T20:10:35.964097Z",
     "start_time": "2020-03-07T20:10:35.955845Z"
    }
   },
   "outputs": [],
   "source": [
    "feature = feature.astype(dtype)\n",
    "target = target.astype('bool')\n",
    "categorical_features = [key  for (key, value) in dtype.items() if value == 'category']\n",
    "numrical_col = ['time','duration','age','income','expected_finish','view_time']"
   ]
  },
  {
   "cell_type": "code",
   "execution_count": 21,
   "metadata": {
    "ExecuteTime": {
     "end_time": "2020-03-07T20:10:36.497939Z",
     "start_time": "2020-03-07T20:10:36.459799Z"
    }
   },
   "outputs": [],
   "source": [
    "mm_scaler = MinMaxScaler()\n",
    "feature[numrical_col] = mm_scaler.fit_transform(feature[numrical_col])"
   ]
  },
  {
   "cell_type": "code",
   "execution_count": 22,
   "metadata": {
    "ExecuteTime": {
     "end_time": "2020-03-07T20:10:37.417315Z",
     "start_time": "2020-03-07T20:10:37.362779Z"
    }
   },
   "outputs": [],
   "source": [
    "X_train, X_test, y_train, y_test = train_test_split(feature, target, test_size=0.2, random_state=42, stratify=target)\n",
    "X_train, X_val, y_train, y_val = train_test_split(X_train, y_train, test_size=0.2, random_state=42,stratify=y_train)\n"
   ]
  },
  {
   "cell_type": "markdown",
   "metadata": {},
   "source": [
    "### Build model"
   ]
  },
  {
   "cell_type": "code",
   "execution_count": 23,
   "metadata": {
    "ExecuteTime": {
     "end_time": "2020-03-07T20:10:38.262258Z",
     "start_time": "2020-03-07T20:10:38.258163Z"
    }
   },
   "outputs": [],
   "source": [
    "train_data = lgb.Dataset(X_train, label=y_train, categorical_feature=categorical_features)\n",
    "val_data = lgb.Dataset(X_val, label=y_val)"
   ]
  },
  {
   "cell_type": "markdown",
   "metadata": {},
   "source": [
    "To tune the parameters, I first lower the learning_rate to improve the accuracy of the model and also set up evaluation metrics. I choose Gradient Boosting Decision Tree (gbdt) as boosting method. I also set feature_fraction to 0.9 to ask LightGBM randomly select 90% of features before training to reduce overfitting. "
   ]
  },
  {
   "cell_type": "markdown",
   "metadata": {},
   "source": [
    "#### Hyperparameter"
   ]
  },
  {
   "cell_type": "code",
   "execution_count": 24,
   "metadata": {
    "ExecuteTime": {
     "end_time": "2020-03-07T20:10:40.440066Z",
     "start_time": "2020-03-07T20:10:40.435609Z"
    }
   },
   "outputs": [],
   "source": [
    "param = {'objective':'regression',\n",
    "         \"boosting\": \"gbdt\",\n",
    "         \"metric\": ['auc'],\n",
    "         \"random_state\": 42}"
   ]
  },
  {
   "cell_type": "code",
   "execution_count": 31,
   "metadata": {
    "ExecuteTime": {
     "end_time": "2020-03-07T20:11:49.752134Z",
     "start_time": "2020-03-07T20:11:49.747764Z"
    }
   },
   "outputs": [],
   "source": [
    "gridParams = {\n",
    "    \"learning_rate\": [0.01,0.1],\n",
    "    \"feature_fraction\":[0.9],\n",
    "    \"bagging_fraction\": [0.9], \n",
    "    \"bagging_seed\": [11],\n",
    "    }"
   ]
  },
  {
   "cell_type": "code",
   "execution_count": 32,
   "metadata": {
    "ExecuteTime": {
     "end_time": "2020-03-07T20:11:50.188429Z",
     "start_time": "2020-03-07T20:11:50.185313Z"
    }
   },
   "outputs": [],
   "source": [
    "mdl = lgb.LGBMClassifier(\n",
    "          boosting_type= param['boosting'],\n",
    "          objective = param['objective'],\n",
    "          metric = param['metric'],\n",
    "          )"
   ]
  },
  {
   "cell_type": "code",
   "execution_count": 33,
   "metadata": {
    "ExecuteTime": {
     "end_time": "2020-03-07T20:11:50.564769Z",
     "start_time": "2020-03-07T20:11:50.560767Z"
    }
   },
   "outputs": [],
   "source": [
    "scoring = {'AUC': 'roc_auc'}\n",
    "grid = GridSearchCV(mdl, gridParams, verbose=2, cv=5, scoring=scoring, n_jobs=-1, refit='AUC')"
   ]
  },
  {
   "cell_type": "code",
   "execution_count": 34,
   "metadata": {
    "ExecuteTime": {
     "end_time": "2020-03-07T20:15:49.412577Z",
     "start_time": "2020-03-07T20:15:47.176552Z"
    }
   },
   "outputs": [
    {
     "name": "stdout",
     "output_type": "stream",
     "text": [
      "Fitting 5 folds for each of 2 candidates, totalling 10 fits\n"
     ]
    },
    {
     "name": "stderr",
     "output_type": "stream",
     "text": [
      "[Parallel(n_jobs=-1)]: Using backend LokyBackend with 8 concurrent workers.\n",
      "[Parallel(n_jobs=-1)]: Done   7 out of  10 | elapsed:    1.6s remaining:    0.7s\n",
      "[Parallel(n_jobs=-1)]: Done  10 out of  10 | elapsed:    2.0s finished\n"
     ]
    },
    {
     "data": {
      "text/plain": [
       "GridSearchCV(cv=5, error_score='raise-deprecating',\n",
       "             estimator=LGBMClassifier(boosting_type='gbdt', class_weight=None,\n",
       "                                      colsample_bytree=1.0,\n",
       "                                      importance_type='split',\n",
       "                                      learning_rate=0.1, max_depth=-1,\n",
       "                                      metric=['auc'], min_child_samples=20,\n",
       "                                      min_child_weight=0.001,\n",
       "                                      min_split_gain=0.0, n_estimators=100,\n",
       "                                      n_jobs=-1, num_leaves=31,\n",
       "                                      objective='regression', random_state=None,\n",
       "                                      reg_alpha=0.0, reg_lambda=0.0,\n",
       "                                      silent=True, subsample=1.0,\n",
       "                                      subsample_for_bin=200000,\n",
       "                                      subsample_freq=0),\n",
       "             iid='warn', n_jobs=-1,\n",
       "             param_grid={'bagging_fraction': [0.9], 'bagging_seed': [11],\n",
       "                         'feature_fraction': [0.9],\n",
       "                         'learning_rate': [0.01, 0.1]},\n",
       "             pre_dispatch='2*n_jobs', refit='AUC', return_train_score=False,\n",
       "             scoring={'AUC': 'roc_auc'}, verbose=2)"
      ]
     },
     "execution_count": 34,
     "metadata": {},
     "output_type": "execute_result"
    }
   ],
   "source": [
    "grid.fit(X_train, y_train)"
   ]
  },
  {
   "cell_type": "code",
   "execution_count": 35,
   "metadata": {
    "ExecuteTime": {
     "end_time": "2020-03-07T20:16:03.451185Z",
     "start_time": "2020-03-07T20:16:03.446815Z"
    }
   },
   "outputs": [
    {
     "name": "stdout",
     "output_type": "stream",
     "text": [
      "{'bagging_fraction': 0.9, 'bagging_seed': 11, 'feature_fraction': 0.9, 'learning_rate': 0.1}\n",
      "0.9331271894602463\n"
     ]
    }
   ],
   "source": [
    "print(grid.best_params_)\n",
    "print(grid.best_score_)"
   ]
  },
  {
   "cell_type": "markdown",
   "metadata": {},
   "source": [
    "We find the best combination of the parameter via grid search. We can use it for the final model."
   ]
  },
  {
   "cell_type": "code",
   "execution_count": null,
   "metadata": {},
   "outputs": [],
   "source": [
    "param = {'objective':'regression',\n",
    "         'learning_rate': 0.01,\n",
    "         \"boosting\": \"gbdt\",\n",
    "         \"feature_fraction\": 0.9,\n",
    "         \"bagging_fraction\": 0.9 ,\n",
    "         \"bagging_seed\": 11,\n",
    "         \"metric\": ['auc'],\n",
    "         \"random_state\": 42}"
   ]
  },
  {
   "cell_type": "code",
   "execution_count": 498,
   "metadata": {
    "ExecuteTime": {
     "end_time": "2020-03-07T08:34:13.774100Z",
     "start_time": "2020-03-07T08:34:02.494343Z"
    }
   },
   "outputs": [
    {
     "name": "stdout",
     "output_type": "stream",
     "text": [
      "Training until validation scores don't improve for 1000 rounds\n"
     ]
    },
    {
     "name": "stderr",
     "output_type": "stream",
     "text": [
      "/home/johnny/anaconda3/lib/python3.7/site-packages/sklearn/metrics/classification.py:1437: UndefinedMetricWarning: F-score is ill-defined and being set to 0.0 due to no predicted samples.\n",
      "  'precision', 'predicted', average, warn_for)\n"
     ]
    },
    {
     "name": "stdout",
     "output_type": "stream",
     "text": [
      "[100]\tvalid_0's auc: 0.930014\tvalid_0's f1: 0.799763\n",
      "[200]\tvalid_0's auc: 0.931224\tvalid_0's f1: 0.809697\n",
      "[300]\tvalid_0's auc: 0.931848\tvalid_0's f1: 0.813521\n",
      "[400]\tvalid_0's auc: 0.932203\tvalid_0's f1: 0.816331\n",
      "[500]\tvalid_0's auc: 0.93234\tvalid_0's f1: 0.816101\n",
      "[600]\tvalid_0's auc: 0.932307\tvalid_0's f1: 0.816809\n",
      "[700]\tvalid_0's auc: 0.932315\tvalid_0's f1: 0.815532\n",
      "[800]\tvalid_0's auc: 0.932343\tvalid_0's f1: 0.815941\n",
      "[900]\tvalid_0's auc: 0.932383\tvalid_0's f1: 0.816175\n",
      "[1000]\tvalid_0's auc: 0.932375\tvalid_0's f1: 0.815374\n",
      "[1100]\tvalid_0's auc: 0.93243\tvalid_0's f1: 0.815508\n",
      "[1200]\tvalid_0's auc: 0.932469\tvalid_0's f1: 0.815558\n",
      "[1300]\tvalid_0's auc: 0.932444\tvalid_0's f1: 0.816\n",
      "[1400]\tvalid_0's auc: 0.932448\tvalid_0's f1: 0.815899\n",
      "[1500]\tvalid_0's auc: 0.932516\tvalid_0's f1: 0.816483\n",
      "[1600]\tvalid_0's auc: 0.93249\tvalid_0's f1: 0.815099\n",
      "[1700]\tvalid_0's auc: 0.93247\tvalid_0's f1: 0.815048\n",
      "[1800]\tvalid_0's auc: 0.93253\tvalid_0's f1: 0.814423\n",
      "Early stopping, best iteration is:\n",
      "[844]\tvalid_0's auc: 0.932382\tvalid_0's f1: 0.817241\n"
     ]
    }
   ],
   "source": [
    "model = lgb.train(param,\n",
    "                 train_data,\n",
    "                 valid_sets=val_data,\n",
    "                 num_boost_round=5000,\n",
    "                 early_stopping_rounds=1000,\n",
    "                 verbose_eval=100,\n",
    "                 feval=lgb_f1_score, \n",
    "                evals_result=evals_result\n",
    "                 )"
   ]
  },
  {
   "cell_type": "code",
   "execution_count": 505,
   "metadata": {
    "ExecuteTime": {
     "end_time": "2020-03-07T08:40:45.094762Z",
     "start_time": "2020-03-07T08:40:44.828698Z"
    }
   },
   "outputs": [
    {
     "name": "stdout",
     "output_type": "stream",
     "text": [
      "No Skill: ROC AUC=0.500\n",
      "Logistic: ROC AUC=0.935\n"
     ]
    },
    {
     "data": {
      "image/png": "[encoded data removed]",
      "text/plain": [
       "<Figure size 432x288 with 1 Axes>"
      ]
     },
     "metadata": {
      "needs_background": "light"
     },
     "output_type": "display_data"
    }
   ],
   "source": [
    "n_probs = [0 for _ in range(len(y_test))]\n",
    "predsTest = model.predict(X_test, num_iteration=model.best_iteration)\n",
    "ns_auc = roc_auc_score(y_test, n_probs)\n",
    "lr_auc = roc_auc_score(y_test, predsTest)\n",
    "# summarize scores\n",
    "print('No Skill: ROC AUC=%.3f' % (ns_auc))\n",
    "print('Logistic: ROC AUC=%.3f' % (lr_auc))\n",
    "\n",
    "# calculate roc curves\n",
    "ns_fpr, ns_tpr, _ = roc_curve(y_test, n_probs)\n",
    "lr_fpr, lr_tpr, _ = roc_curve(y_test, predsTest)\n",
    "# plot the roc curve for the model\n",
    "plt.plot(ns_fpr, ns_tpr, linestyle='--', label='No Skill')\n",
    "plt.plot(lr_fpr, lr_tpr, marker='.', label='Logistic')\n",
    "# axis labels\n",
    "plt.xlabel('False Positive Rate')\n",
    "plt.ylabel('True Positive Rate')\n",
    "# show the legend\n",
    "plt.legend()\n",
    "# show the plot\n",
    "plt.show()"
   ]
  },
  {
   "cell_type": "code",
   "execution_count": 499,
   "metadata": {
    "ExecuteTime": {
     "end_time": "2020-03-07T08:34:25.031720Z",
     "start_time": "2020-03-07T08:34:24.443696Z"
    }
   },
   "outputs": [],
   "source": [
    "predsValid = model.predict(X_val, num_iteration=model.best_iteration)\n",
    "predsTrain = model.predict(X_train, num_iteration=model.best_iteration)\n",
    "predsTest = model.predict(X_test, num_iteration=model.best_iteration)"
   ]
  },
  {
   "cell_type": "code",
   "execution_count": 510,
   "metadata": {
    "ExecuteTime": {
     "end_time": "2020-03-07T08:47:08.572021Z",
     "start_time": "2020-03-07T08:47:08.544681Z"
    }
   },
   "outputs": [
    {
     "name": "stdout",
     "output_type": "stream",
     "text": [
      "The f1 score for valdation prediction is: 0.8172406031960388\n",
      "The f1 score for train prediction is: 0.8423620457604306\n",
      "The f1 score for test prediction is: 0.8175287356321839\n"
     ]
    }
   ],
   "source": [
    "print('The f1 score for valdation prediction is:', f1_score( y_val, np.round(predsValid)))\n",
    "print('The f1 score for train prediction is:', f1_score(y_train, np.round(predsTrain) ))\n",
    "print('The f1 score for test prediction is:', f1_score(y_test, np.round(predsTest)))"
   ]
  },
  {
   "cell_type": "code",
   "execution_count": 511,
   "metadata": {
    "ExecuteTime": {
     "end_time": "2020-03-07T08:47:15.022290Z",
     "start_time": "2020-03-07T08:47:14.758082Z"
    }
   },
   "outputs": [
    {
     "data": {
      "image/png": "[encoded data removed]",
      "text/plain": [
       "<Figure size 432x288 with 1 Axes>"
      ]
     },
     "metadata": {
      "needs_background": "light"
     },
     "output_type": "display_data"
    },
    {
     "data": {
      "image/png": "[encoded data removed]",
      "text/plain": [
       "<Figure size 432x288 with 1 Axes>"
      ]
     },
     "metadata": {
      "needs_background": "light"
     },
     "output_type": "display_data"
    },
    {
     "name": "stdout",
     "output_type": "stream",
     "text": [
      "[   0 2251  304  187   38  880  429    0   35  185  139 1187 4046 4748\n",
      " 1211 1846 2629 1183 4022]\n",
      "[0.00000000e+00 2.39490310e+04 3.26976012e+02 2.01999270e+03\n",
      " 1.11370475e+03 8.39525904e+04 6.82383869e+03 0.00000000e+00\n",
      " 4.09465741e+01 4.99279404e+02 1.55737853e+02 4.92242182e+03\n",
      " 4.80207326e+03 1.55440029e+04 1.38744572e+03 3.43244719e+04\n",
      " 1.05315503e+04 2.00074318e+03 1.21484639e+05]\n"
     ]
    }
   ],
   "source": [
    "# Plot importance\n",
    "lgb.plot_importance(model, importance_type=\"split\", title=\"split\")\n",
    "plt.show()\n",
    "\n",
    "lgb.plot_importance(model, importance_type=\"gain\", title='gain')\n",
    "plt.show()\n",
    "\n",
    "# Importance values are also available in:\n",
    "print(model.feature_importance(\"split\"))\n",
    "print(model.feature_importance(\"gain\"))"
   ]
  },
  {
   "cell_type": "markdown",
   "metadata": {
    "ExecuteTime": {
     "end_time": "2020-03-06T20:31:02.487595Z",
     "start_time": "2020-03-06T20:31:02.482254Z"
    }
   },
   "source": [
    "## Result\n",
    "\n",
    "My goal of this project is to build a predict model to find out whether a customer will respond to an certain offer based on the simulated. The model I choose is LighGBM and the result is great. After several round of tunning the result of RMSE for test data reaches 0.000556 and the log_loss is lower than 0.000166.\n",
    "From the model we can tell that the top 5 important features for split are:\n",
    "1. Customers' income\n",
    "2. Age\n",
    "3. Offer view time\n",
    "\n",
    "the top 3 important features for gain are:\n",
    "1. Offer view time\n",
    "2. Duration\n",
    "3. The year become a member"
   ]
  },
  {
   "cell_type": "markdown",
   "metadata": {},
   "source": [
    "## Possible improvements\n",
    "To further improve the model performance, Starbucks can think about enriching the raw data by collecting more customer demographics data, including customer education level, location of Starbucks they purchased, and frequency of purchase. Additional info would allow the company to have better insights into different customer sections, and also provide offers which are most attractive to the customer."
   ]
  },
  {
   "cell_type": "markdown",
   "metadata": {},
   "source": [
    "# Conclusion\n",
    "From the model and prediction result, we can learn that view_time, duration and year when they become member are key influencing factors for customers’ purchase decision. Once a customer viewed his offer, he/she will have a higher probability of making the transaction.\n"
   ]
  }
 ],
 "metadata": {
  "kernelspec": {
   "display_name": "Python 3",
   "language": "python",
   "name": "python3"
  },
  "language_info": {
   "codemirror_mode": {
    "name": "ipython",
    "version": 3
   },
   "file_extension": ".py",
   "mimetype": "text/x-python",
   "name": "python",
   "nbconvert_exporter": "python",
   "pygments_lexer": "ipython3",
   "version": "3.7.4"
  },
  "toc": {
   "base_numbering": "1",
   "nav_menu": {},
   "number_sections": true,
   "sideBar": true,
   "skip_h1_title": false,
   "title_cell": "Table of Contents",
   "title_sidebar": "Contents",
   "toc_cell": true,
   "toc_position": {},
   "toc_section_display": true,
   "toc_window_display": false
  },
  "varInspector": {
   "cols": {
    "lenName": 16,
    "lenType": 16,
    "lenVar": 40
   },
   "kernels_config": {
    "python": {
     "delete_cmd_postfix": "",
     "delete_cmd_prefix": "del ",
     "library": "var_list.py",
     "varRefreshCmd": "print(var_dic_list())"
    },
    "r": {
     "delete_cmd_postfix": ") ",
     "delete_cmd_prefix": "rm(",
     "library": "var_list.r",
     "varRefreshCmd": "cat(var_dic_list()) "
    }
   },
   "types_to_exclude": [
    "module",
    "function",
    "builtin_function_or_method",
    "instance",
    "_Feature"
   ],
   "window_display": false
  }
 },
 "nbformat": 4,
 "nbformat_minor": 2
}
