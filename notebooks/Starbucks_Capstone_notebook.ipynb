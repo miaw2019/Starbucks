{
 "cells": [
  {
   "cell_type": "markdown",
   "metadata": {},
   "source": [
    "# Starbucks Capstone Challenge\n",
    "\n",
    "### Introduction\n",
    "\n",
    "This data set contains simulated data that mimics customer behavior on the Starbucks rewards mobile app. Once every few days, Starbucks sends out an offer to users of the mobile app. An offer can be merely an advertisement for a drink or an actual offer such as a discount or BOGO (buy one get one free). Some users might not receive any offer during certain weeks. \n",
    "\n",
    "Not all users receive the same offer, and that is the challenge to solve with this data set.\n",
    "\n",
    "Your task is to combine transaction, demographic and offer data to determine which demographic groups respond best to which offer type. This data set is a simplified version of the real Starbucks app because the underlying simulator only has one product whereas Starbucks actually sells dozens of products.\n",
    "\n",
    "Every offer has a validity period before the offer expires. As an example, a BOGO offer might be valid for only 5 days. You'll see in the data set that informational offers have a validity period even though these ads are merely providing information about a product; for example, if an informational offer has 7 days of validity, you can assume the customer is feeling the influence of the offer for 7 days after receiving the advertisement.\n",
    "\n",
    "You'll be given transactional data showing user purchases made on the app including the timestamp of purchase and the amount of money spent on a purchase. This transactional data also has a record for each offer that a user receives as well as a record for when a user actually views the offer. There are also records for when a user completes an offer. \n",
    "\n",
    "Keep in mind as well that someone using the app might make a purchase through the app without having received an offer or seen an offer.\n",
    "\n",
    "### Example\n",
    "\n",
    "To give an example, a user could receive a discount offer buy 10 dollars get 2 off on Monday. The offer is valid for 10 days from receipt. If the customer accumulates at least 10 dollars in purchases during the validity period, the customer completes the offer.\n",
    "\n",
    "However, there are a few things to watch out for in this data set. Customers do not opt into the offers that they receive; in other words, a user can receive an offer, never actually view the offer, and still complete the offer. For example, a user might receive the \"buy 10 dollars get 2 dollars off offer\", but the user never opens the offer during the 10 day validity period. The customer spends 15 dollars during those ten days. There will be an offer completion record in the data set; however, the customer was not influenced by the offer because the customer never viewed the offer.\n",
    "\n",
    "### Cleaning\n",
    "\n",
    "This makes data cleaning especially important and tricky.\n",
    "\n",
    "You'll also want to take into account that some demographic groups will make purchases even if they don't receive an offer. From a business perspective, if a customer is going to make a 10 dollar purchase without an offer anyway, you wouldn't want to send a buy 10 dollars get 2 dollars off offer. You'll want to try to assess what a certain demographic group will buy when not receiving any offers.\n",
    "\n",
    "### Final Advice\n",
    "\n",
    "Because this is a capstone project, you are free to analyze the data any way you see fit. For example, you could build a machine learning model that predicts how much someone will spend based on demographics and offer type. Or you could build a model that predicts whether or not someone will respond to an offer. Or, you don't need to build a machine learning model at all. You could develop a set of heuristics that determine what offer you should send to each customer (i.e., 75 percent of women customers who were 35 years old responded to offer A vs 40 percent from the same demographic to offer B, so send offer A)."
   ]
  },
  {
   "cell_type": "markdown",
   "metadata": {},
   "source": [
    "# Data Sets\n",
    "\n",
    "The data is contained in three files:\n",
    "\n",
    "* portfolio.json - containing offer ids and meta data about each offer (duration, type, etc.)\n",
    "* profile.json - demographic data for each customer\n",
    "* transcript.json - records for transactions, offers received, offers viewed, and offers completed\n",
    "\n",
    "Here is the schema and explanation of each variable in the files:\n",
    "\n",
    "**portfolio.json**\n",
    "* id (string) - offer id\n",
    "* offer_type (string) - type of offer ie BOGO, discount, informational\n",
    "* difficulty (int) - minimum required spend to complete an offer\n",
    "* reward (int) - reward given for completing an offer\n",
    "* duration (int) - time for offer to be open, in days\n",
    "* channels (list of strings)\n",
    "\n",
    "**profile.json**\n",
    "* age (int) - age of the customer \n",
    "* became_member_on (int) - date when customer created an app account\n",
    "* gender (str) - gender of the customer (note some entries contain 'O' for other rather than M or F)\n",
    "* id (str) - customer id\n",
    "* income (float) - customer's income\n",
    "\n",
    "**transcript.json**\n",
    "* event (str) - record description (ie transaction, offer received, offer viewed, etc.)\n",
    "* person (str) - customer id\n",
    "* time (int) - time in hours since start of test. The data begins at time t=0\n",
    "* value - (dict of strings) - either an offer id or transaction amount depending on the record\n",
    "\n",
    "**Note:** If you are using the workspace, you will need to go to the terminal and run the command `conda update pandas` before reading in the files. This is because the version of pandas in the workspace cannot read in the transcript.json file correctly, but the newest version of pandas can. You can access the termnal from the orange icon in the top left of this notebook.  \n",
    "\n",
    "You can see how to access the terminal and how the install works using the two images below.  First you need to access the terminal:\n",
    "\n",
    "<img src=\"pic1.png\"/>\n",
    "\n",
    "Then you will want to run the above command:\n",
    "\n",
    "<img src=\"pic2.png\"/>\n",
    "\n",
    "Finally, when you enter back into the notebook (use the jupyter icon again), you should be able to run the below cell without any errors."
   ]
  },
  {
   "cell_type": "markdown",
   "metadata": {
    "toc": true
   },
   "source": [
    "<h1>Table of Contents<span class=\"tocSkip\"></span></h1>\n",
    "<div class=\"toc\"><ul class=\"toc-item\"><li><span><a href=\"#Starbucks-Capstone-Challenge\" data-toc-modified-id=\"Starbucks-Capstone-Challenge-1\"><span class=\"toc-item-num\">1&nbsp;&nbsp;</span>Starbucks Capstone Challenge</a></span><ul class=\"toc-item\"><li><ul class=\"toc-item\"><li><span><a href=\"#Introduction\" data-toc-modified-id=\"Introduction-1.0.1\"><span class=\"toc-item-num\">1.0.1&nbsp;&nbsp;</span>Introduction</a></span></li><li><span><a href=\"#Example\" data-toc-modified-id=\"Example-1.0.2\"><span class=\"toc-item-num\">1.0.2&nbsp;&nbsp;</span>Example</a></span></li><li><span><a href=\"#Cleaning\" data-toc-modified-id=\"Cleaning-1.0.3\"><span class=\"toc-item-num\">1.0.3&nbsp;&nbsp;</span>Cleaning</a></span></li><li><span><a href=\"#Final-Advice\" data-toc-modified-id=\"Final-Advice-1.0.4\"><span class=\"toc-item-num\">1.0.4&nbsp;&nbsp;</span>Final Advice</a></span></li></ul></li></ul></li><li><span><a href=\"#Data-Sets\" data-toc-modified-id=\"Data-Sets-2\"><span class=\"toc-item-num\">2&nbsp;&nbsp;</span>Data Sets</a></span></li><li><span><a href=\"#Problem-Statement\" data-toc-modified-id=\"Problem-Statement-3\"><span class=\"toc-item-num\">3&nbsp;&nbsp;</span>Problem Statement</a></span></li><li><span><a href=\"#EDA\" data-toc-modified-id=\"EDA-4\"><span class=\"toc-item-num\">4&nbsp;&nbsp;</span>EDA</a></span><ul class=\"toc-item\"><li><span><a href=\"#Portfolio-Data\" data-toc-modified-id=\"Portfolio-Data-4.1\"><span class=\"toc-item-num\">4.1&nbsp;&nbsp;</span>Portfolio Data</a></span><ul class=\"toc-item\"><li><span><a href=\"#Clean-data\" data-toc-modified-id=\"Clean-data-4.1.1\"><span class=\"toc-item-num\">4.1.1&nbsp;&nbsp;</span>Clean data</a></span></li><li><span><a href=\"#Portfolio-EDA\" data-toc-modified-id=\"Portfolio-EDA-4.1.2\"><span class=\"toc-item-num\">4.1.2&nbsp;&nbsp;</span>Portfolio EDA</a></span></li></ul></li><li><span><a href=\"#Profile-Data\" data-toc-modified-id=\"Profile-Data-4.2\"><span class=\"toc-item-num\">4.2&nbsp;&nbsp;</span>Profile Data</a></span><ul class=\"toc-item\"><li><span><a href=\"#Inspect-missing-value\" data-toc-modified-id=\"Inspect-missing-value-4.2.1\"><span class=\"toc-item-num\">4.2.1&nbsp;&nbsp;</span>Inspect missing value</a></span></li><li><span><a href=\"#Clean-Data\" data-toc-modified-id=\"Clean-Data-4.2.2\"><span class=\"toc-item-num\">4.2.2&nbsp;&nbsp;</span>Clean Data</a></span></li><li><span><a href=\"#Profile-EDA\" data-toc-modified-id=\"Profile-EDA-4.2.3\"><span class=\"toc-item-num\">4.2.3&nbsp;&nbsp;</span>Profile EDA</a></span></li></ul></li><li><span><a href=\"#Transcript\" data-toc-modified-id=\"Transcript-4.3\"><span class=\"toc-item-num\">4.3&nbsp;&nbsp;</span>Transcript</a></span><ul class=\"toc-item\"><li><span><a href=\"#Clearn-Data\" data-toc-modified-id=\"Clearn-Data-4.3.1\"><span class=\"toc-item-num\">4.3.1&nbsp;&nbsp;</span>Clearn Data</a></span></li></ul></li><li><span><a href=\"#Combined-Data\" data-toc-modified-id=\"Combined-Data-4.4\"><span class=\"toc-item-num\">4.4&nbsp;&nbsp;</span>Combined Data</a></span><ul class=\"toc-item\"><li><span><a href=\"#Combine-data\" data-toc-modified-id=\"Combine-data-4.4.1\"><span class=\"toc-item-num\">4.4.1&nbsp;&nbsp;</span>Combine data</a></span></li><li><span><a href=\"#Feather-Engineering\" data-toc-modified-id=\"Feather-Engineering-4.4.2\"><span class=\"toc-item-num\">4.4.2&nbsp;&nbsp;</span>Feather Engineering</a></span></li><li><span><a href=\"#EDA\" data-toc-modified-id=\"EDA-4.4.3\"><span class=\"toc-item-num\">4.4.3&nbsp;&nbsp;</span>EDA</a></span><ul class=\"toc-item\"><li><span><a href=\"#correlation\" data-toc-modified-id=\"correlation-4.4.3.1\"><span class=\"toc-item-num\">4.4.3.1&nbsp;&nbsp;</span>correlation</a></span></li><li><span><a href=\"#customer-demographic\" data-toc-modified-id=\"customer-demographic-4.4.3.2\"><span class=\"toc-item-num\">4.4.3.2&nbsp;&nbsp;</span>customer demographic</a></span></li><li><span><a href=\"#offer-success-rate\" data-toc-modified-id=\"offer-success-rate-4.4.3.3\"><span class=\"toc-item-num\">4.4.3.3&nbsp;&nbsp;</span>offer success rate</a></span></li></ul></li></ul></li></ul></li><li><span><a href=\"#Build-Model\" data-toc-modified-id=\"Build-Model-5\"><span class=\"toc-item-num\">5&nbsp;&nbsp;</span>Build Model</a></span><ul class=\"toc-item\"><li><span><a href=\"#Model-Chose\" data-toc-modified-id=\"Model-Chose-5.1\"><span class=\"toc-item-num\">5.1&nbsp;&nbsp;</span>Model Chose</a></span></li><li><span><a href=\"#Prepare-Dataset\" data-toc-modified-id=\"Prepare-Dataset-5.2\"><span class=\"toc-item-num\">5.2&nbsp;&nbsp;</span>Prepare Dataset</a></span></li><li><span><a href=\"#Build-model\" data-toc-modified-id=\"Build-model-5.3\"><span class=\"toc-item-num\">5.3&nbsp;&nbsp;</span>Build model</a></span></li></ul></li><li><span><a href=\"#Conclusion\" data-toc-modified-id=\"Conclusion-6\"><span class=\"toc-item-num\">6&nbsp;&nbsp;</span>Conclusion</a></span></li></ul></div>"
   ]
  },
  {
   "cell_type": "markdown",
   "metadata": {},
   "source": [
    "# Problem Statement\n",
    "\n",
    "My goal of this project is to build a prediction model to find out whether a customer will respond to a certain offer based on the simulation. The strategy for this project is to analyze data, implement algorithms, and analyze the results. \n",
    "1. Analyze data: I'll clean data and apply EDA on each single dataset as while as combined dataset.\n",
    "2. Implement machine learning algorithm: I'll apply lightGBM machine learning algorithm and fine tune the prameter.\n"
   ]
  },
  {
   "cell_type": "markdown",
   "metadata": {},
   "source": [
    "# EDA\n"
   ]
  },
  {
   "cell_type": "code",
   "execution_count": 298,
   "metadata": {
    "ExecuteTime": {
     "end_time": "2020-03-06T06:43:25.171691Z",
     "start_time": "2020-03-06T06:43:25.163564Z"
    }
   },
   "outputs": [],
   "source": [
    "import pandas as pd\n",
    "import numpy as np\n",
    "import math\n",
    "import json\n",
    "%matplotlib inline\n",
    "\n",
    "import lighteda as le\n",
    "from datetime import datetime\n",
    "from sklearn.preprocessing import MultiLabelBinarizer,OneHotEncoder,MinMaxScaler\n",
    "import matplotlib.pyplot as plt\n",
    "import seaborn as sns\n",
    "import helper\n",
    "\n",
    "import lightgbm as lgb\n",
    "from sklearn.model_selection import train_test_split\n",
    "\n",
    "from sklearn import metrics\n",
    "from sklearn.metrics import mean_squared_error\n",
    "from sklearn.metrics import accuracy_score, f1_score,roc_curve, auc\n",
    "import re"
   ]
  },
  {
   "cell_type": "markdown",
   "metadata": {},
   "source": [
    "## Portfolio Data"
   ]
  },
  {
   "cell_type": "code",
   "execution_count": 332,
   "metadata": {
    "ExecuteTime": {
     "end_time": "2020-03-06T06:50:38.835291Z",
     "start_time": "2020-03-06T06:50:38.805578Z"
    },
    "scrolled": true
   },
   "outputs": [
    {
     "data": {
      "text/html": [
       "<div>\n",
       "<style scoped>\n",
       "    .dataframe tbody tr th:only-of-type {\n",
       "        vertical-align: middle;\n",
       "    }\n",
       "\n",
       "    .dataframe tbody tr th {\n",
       "        vertical-align: top;\n",
       "    }\n",
       "\n",
       "    .dataframe thead th {\n",
       "        text-align: right;\n",
       "    }\n",
       "</style>\n",
       "<table border=\"1\" class=\"dataframe\">\n",
       "  <thead>\n",
       "    <tr style=\"text-align: right;\">\n",
       "      <th></th>\n",
       "      <th>reward</th>\n",
       "      <th>channels</th>\n",
       "      <th>difficulty</th>\n",
       "      <th>duration</th>\n",
       "      <th>offer_type</th>\n",
       "      <th>id</th>\n",
       "    </tr>\n",
       "  </thead>\n",
       "  <tbody>\n",
       "    <tr>\n",
       "      <td>0</td>\n",
       "      <td>10</td>\n",
       "      <td>[email, mobile, social]</td>\n",
       "      <td>10</td>\n",
       "      <td>7</td>\n",
       "      <td>bogo</td>\n",
       "      <td>ae264e3637204a6fb9bb56bc8210ddfd</td>\n",
       "    </tr>\n",
       "    <tr>\n",
       "      <td>1</td>\n",
       "      <td>10</td>\n",
       "      <td>[web, email, mobile, social]</td>\n",
       "      <td>10</td>\n",
       "      <td>5</td>\n",
       "      <td>bogo</td>\n",
       "      <td>4d5c57ea9a6940dd891ad53e9dbe8da0</td>\n",
       "    </tr>\n",
       "    <tr>\n",
       "      <td>2</td>\n",
       "      <td>0</td>\n",
       "      <td>[web, email, mobile]</td>\n",
       "      <td>0</td>\n",
       "      <td>4</td>\n",
       "      <td>informational</td>\n",
       "      <td>3f207df678b143eea3cee63160fa8bed</td>\n",
       "    </tr>\n",
       "    <tr>\n",
       "      <td>3</td>\n",
       "      <td>5</td>\n",
       "      <td>[web, email, mobile]</td>\n",
       "      <td>5</td>\n",
       "      <td>7</td>\n",
       "      <td>bogo</td>\n",
       "      <td>9b98b8c7a33c4b65b9aebfe6a799e6d9</td>\n",
       "    </tr>\n",
       "    <tr>\n",
       "      <td>4</td>\n",
       "      <td>5</td>\n",
       "      <td>[web, email]</td>\n",
       "      <td>20</td>\n",
       "      <td>10</td>\n",
       "      <td>discount</td>\n",
       "      <td>0b1e1539f2cc45b7b9fa7c272da2e1d7</td>\n",
       "    </tr>\n",
       "  </tbody>\n",
       "</table>\n",
       "</div>"
      ],
      "text/plain": [
       "   reward                      channels  difficulty  duration     offer_type  \\\n",
       "0      10       [email, mobile, social]          10         7           bogo   \n",
       "1      10  [web, email, mobile, social]          10         5           bogo   \n",
       "2       0          [web, email, mobile]           0         4  informational   \n",
       "3       5          [web, email, mobile]           5         7           bogo   \n",
       "4       5                  [web, email]          20        10       discount   \n",
       "\n",
       "                                 id  \n",
       "0  ae264e3637204a6fb9bb56bc8210ddfd  \n",
       "1  4d5c57ea9a6940dd891ad53e9dbe8da0  \n",
       "2  3f207df678b143eea3cee63160fa8bed  \n",
       "3  9b98b8c7a33c4b65b9aebfe6a799e6d9  \n",
       "4  0b1e1539f2cc45b7b9fa7c272da2e1d7  "
      ]
     },
     "execution_count": 332,
     "metadata": {},
     "output_type": "execute_result"
    }
   ],
   "source": [
    "portfolio_raw = pd.read_json('../data/external/portfolio.json', orient='records', lines=True)\n",
    "portfolio_raw.head()"
   ]
  },
  {
   "cell_type": "markdown",
   "metadata": {
    "ExecuteTime": {
     "end_time": "2020-03-06T06:50:05.969464Z",
     "start_time": "2020-03-06T06:50:05.966171Z"
    }
   },
   "source": [
    "### Clean data"
   ]
  },
  {
   "cell_type": "code",
   "execution_count": 333,
   "metadata": {
    "ExecuteTime": {
     "end_time": "2020-03-06T06:50:42.398599Z",
     "start_time": "2020-03-06T06:50:42.386639Z"
    }
   },
   "outputs": [
    {
     "data": {
      "text/html": [
       "<div>\n",
       "<style scoped>\n",
       "    .dataframe tbody tr th:only-of-type {\n",
       "        vertical-align: middle;\n",
       "    }\n",
       "\n",
       "    .dataframe tbody tr th {\n",
       "        vertical-align: top;\n",
       "    }\n",
       "\n",
       "    .dataframe thead th {\n",
       "        text-align: right;\n",
       "    }\n",
       "</style>\n",
       "<table border=\"1\" class=\"dataframe\">\n",
       "  <thead>\n",
       "    <tr style=\"text-align: right;\">\n",
       "      <th></th>\n",
       "      <th>reward</th>\n",
       "      <th>difficulty</th>\n",
       "      <th>duration</th>\n",
       "      <th>offer_type</th>\n",
       "      <th>offer_id</th>\n",
       "      <th>email</th>\n",
       "      <th>mobile</th>\n",
       "      <th>social</th>\n",
       "      <th>web</th>\n",
       "    </tr>\n",
       "  </thead>\n",
       "  <tbody>\n",
       "    <tr>\n",
       "      <td>0</td>\n",
       "      <td>10</td>\n",
       "      <td>10</td>\n",
       "      <td>7</td>\n",
       "      <td>bogo</td>\n",
       "      <td>ae264e3637204a6fb9bb56bc8210ddfd</td>\n",
       "      <td>1</td>\n",
       "      <td>1</td>\n",
       "      <td>1</td>\n",
       "      <td>0</td>\n",
       "    </tr>\n",
       "    <tr>\n",
       "      <td>1</td>\n",
       "      <td>10</td>\n",
       "      <td>10</td>\n",
       "      <td>5</td>\n",
       "      <td>bogo</td>\n",
       "      <td>4d5c57ea9a6940dd891ad53e9dbe8da0</td>\n",
       "      <td>1</td>\n",
       "      <td>1</td>\n",
       "      <td>1</td>\n",
       "      <td>1</td>\n",
       "    </tr>\n",
       "    <tr>\n",
       "      <td>2</td>\n",
       "      <td>0</td>\n",
       "      <td>0</td>\n",
       "      <td>4</td>\n",
       "      <td>informational</td>\n",
       "      <td>3f207df678b143eea3cee63160fa8bed</td>\n",
       "      <td>1</td>\n",
       "      <td>1</td>\n",
       "      <td>0</td>\n",
       "      <td>1</td>\n",
       "    </tr>\n",
       "    <tr>\n",
       "      <td>3</td>\n",
       "      <td>5</td>\n",
       "      <td>5</td>\n",
       "      <td>7</td>\n",
       "      <td>bogo</td>\n",
       "      <td>9b98b8c7a33c4b65b9aebfe6a799e6d9</td>\n",
       "      <td>1</td>\n",
       "      <td>1</td>\n",
       "      <td>0</td>\n",
       "      <td>1</td>\n",
       "    </tr>\n",
       "    <tr>\n",
       "      <td>4</td>\n",
       "      <td>5</td>\n",
       "      <td>20</td>\n",
       "      <td>10</td>\n",
       "      <td>discount</td>\n",
       "      <td>0b1e1539f2cc45b7b9fa7c272da2e1d7</td>\n",
       "      <td>1</td>\n",
       "      <td>0</td>\n",
       "      <td>0</td>\n",
       "      <td>1</td>\n",
       "    </tr>\n",
       "  </tbody>\n",
       "</table>\n",
       "</div>"
      ],
      "text/plain": [
       "   reward  difficulty  duration     offer_type  \\\n",
       "0      10          10         7           bogo   \n",
       "1      10          10         5           bogo   \n",
       "2       0           0         4  informational   \n",
       "3       5           5         7           bogo   \n",
       "4       5          20        10       discount   \n",
       "\n",
       "                           offer_id  email  mobile  social  web  \n",
       "0  ae264e3637204a6fb9bb56bc8210ddfd      1       1       1    0  \n",
       "1  4d5c57ea9a6940dd891ad53e9dbe8da0      1       1       1    1  \n",
       "2  3f207df678b143eea3cee63160fa8bed      1       1       0    1  \n",
       "3  9b98b8c7a33c4b65b9aebfe6a799e6d9      1       1       0    1  \n",
       "4  0b1e1539f2cc45b7b9fa7c272da2e1d7      1       0       0    1  "
      ]
     },
     "execution_count": 333,
     "metadata": {},
     "output_type": "execute_result"
    }
   ],
   "source": [
    "# Fix Column name\n",
    "portfolio_raw.rename(columns={\"id\": \"offer_id\"},inplace=True)\n",
    "\n",
    "# create a dataframe of the 4 individual channel columns\n",
    "mlb = MultiLabelBinarizer()\n",
    "mlb.fit(portfolio_raw['channels'])\n",
    "offer_channels = pd.DataFrame(mlb.transform(portfolio_raw['channels']),\n",
    "    columns=mlb.classes_)\n",
    "\n",
    "# drop the original channels column from `portfolio_raw`\n",
    "portfolio = portfolio_raw.drop('channels',axis=1)\n",
    "\n",
    "# concatenate the original dataframe with the new `offer_channels` dataframe\n",
    "portfolio = pd.concat([portfolio, offer_channels], axis = 1)\n",
    "\n",
    "portfolio.head()"
   ]
  },
  {
   "cell_type": "code",
   "execution_count": 334,
   "metadata": {
    "ExecuteTime": {
     "end_time": "2020-03-06T06:50:43.157936Z",
     "start_time": "2020-03-06T06:50:43.137850Z"
    }
   },
   "outputs": [
    {
     "data": {
      "text/html": [
       "<div>\n",
       "<style scoped>\n",
       "    .dataframe tbody tr th:only-of-type {\n",
       "        vertical-align: middle;\n",
       "    }\n",
       "\n",
       "    .dataframe tbody tr th {\n",
       "        vertical-align: top;\n",
       "    }\n",
       "\n",
       "    .dataframe thead th {\n",
       "        text-align: right;\n",
       "    }\n",
       "</style>\n",
       "<table border=\"1\" class=\"dataframe\">\n",
       "  <thead>\n",
       "    <tr style=\"text-align: right;\">\n",
       "      <th></th>\n",
       "      <th>Columns</th>\n",
       "      <th>Unique Values</th>\n",
       "      <th>% of Missing Values</th>\n",
       "      <th>% of Values in One Category</th>\n",
       "      <th>Data Type</th>\n",
       "    </tr>\n",
       "  </thead>\n",
       "  <tbody>\n",
       "    <tr>\n",
       "      <td>0</td>\n",
       "      <td>reward</td>\n",
       "      <td>5</td>\n",
       "      <td>0.0</td>\n",
       "      <td>0.3</td>\n",
       "      <td>int64</td>\n",
       "    </tr>\n",
       "    <tr>\n",
       "      <td>1</td>\n",
       "      <td>difficulty</td>\n",
       "      <td>5</td>\n",
       "      <td>0.0</td>\n",
       "      <td>0.4</td>\n",
       "      <td>int64</td>\n",
       "    </tr>\n",
       "    <tr>\n",
       "      <td>2</td>\n",
       "      <td>duration</td>\n",
       "      <td>5</td>\n",
       "      <td>0.0</td>\n",
       "      <td>0.4</td>\n",
       "      <td>int64</td>\n",
       "    </tr>\n",
       "    <tr>\n",
       "      <td>3</td>\n",
       "      <td>offer_type</td>\n",
       "      <td>3</td>\n",
       "      <td>0.0</td>\n",
       "      <td>0.4</td>\n",
       "      <td>object</td>\n",
       "    </tr>\n",
       "    <tr>\n",
       "      <td>4</td>\n",
       "      <td>offer_id</td>\n",
       "      <td>10</td>\n",
       "      <td>0.0</td>\n",
       "      <td>0.1</td>\n",
       "      <td>object</td>\n",
       "    </tr>\n",
       "    <tr>\n",
       "      <td>5</td>\n",
       "      <td>email</td>\n",
       "      <td>1</td>\n",
       "      <td>0.0</td>\n",
       "      <td>1.0</td>\n",
       "      <td>int64</td>\n",
       "    </tr>\n",
       "    <tr>\n",
       "      <td>6</td>\n",
       "      <td>mobile</td>\n",
       "      <td>2</td>\n",
       "      <td>0.0</td>\n",
       "      <td>0.9</td>\n",
       "      <td>int64</td>\n",
       "    </tr>\n",
       "    <tr>\n",
       "      <td>7</td>\n",
       "      <td>social</td>\n",
       "      <td>2</td>\n",
       "      <td>0.0</td>\n",
       "      <td>0.6</td>\n",
       "      <td>int64</td>\n",
       "    </tr>\n",
       "    <tr>\n",
       "      <td>8</td>\n",
       "      <td>web</td>\n",
       "      <td>2</td>\n",
       "      <td>0.0</td>\n",
       "      <td>0.8</td>\n",
       "      <td>int64</td>\n",
       "    </tr>\n",
       "  </tbody>\n",
       "</table>\n",
       "</div>"
      ],
      "text/plain": [
       "      Columns  Unique Values  % of Missing Values  \\\n",
       "0      reward              5                  0.0   \n",
       "1  difficulty              5                  0.0   \n",
       "2    duration              5                  0.0   \n",
       "3  offer_type              3                  0.0   \n",
       "4    offer_id             10                  0.0   \n",
       "5       email              1                  0.0   \n",
       "6      mobile              2                  0.0   \n",
       "7      social              2                  0.0   \n",
       "8         web              2                  0.0   \n",
       "\n",
       "   % of Values in One Category Data Type  \n",
       "0                          0.3     int64  \n",
       "1                          0.4     int64  \n",
       "2                          0.4     int64  \n",
       "3                          0.4    object  \n",
       "4                          0.1    object  \n",
       "5                          1.0     int64  \n",
       "6                          0.9     int64  \n",
       "7                          0.6     int64  \n",
       "8                          0.8     int64  "
      ]
     },
     "execution_count": 334,
     "metadata": {},
     "output_type": "execute_result"
    }
   ],
   "source": [
    "le.data_stats(portfolio)"
   ]
  },
  {
   "cell_type": "markdown",
   "metadata": {
    "ExecuteTime": {
     "end_time": "2020-02-23T05:57:33.435476Z",
     "start_time": "2020-02-23T05:57:33.432445Z"
    }
   },
   "source": [
    "### Portfolio EDA"
   ]
  },
  {
   "cell_type": "code",
   "execution_count": 335,
   "metadata": {
    "ExecuteTime": {
     "end_time": "2020-03-06T06:50:47.610320Z",
     "start_time": "2020-03-06T06:50:47.594115Z"
    }
   },
   "outputs": [
    {
     "data": {
      "text/html": [
       "<div>\n",
       "<style scoped>\n",
       "    .dataframe tbody tr th:only-of-type {\n",
       "        vertical-align: middle;\n",
       "    }\n",
       "\n",
       "    .dataframe tbody tr th {\n",
       "        vertical-align: top;\n",
       "    }\n",
       "\n",
       "    .dataframe thead th {\n",
       "        text-align: right;\n",
       "    }\n",
       "</style>\n",
       "<table border=\"1\" class=\"dataframe\">\n",
       "  <thead>\n",
       "    <tr style=\"text-align: right;\">\n",
       "      <th></th>\n",
       "      <th>Total Email</th>\n",
       "      <th>Total Mobile</th>\n",
       "      <th>Total Social</th>\n",
       "      <th>Total Web</th>\n",
       "    </tr>\n",
       "  </thead>\n",
       "  <tbody>\n",
       "    <tr>\n",
       "      <td>1</td>\n",
       "      <td>10</td>\n",
       "      <td>9</td>\n",
       "      <td>6</td>\n",
       "      <td>8</td>\n",
       "    </tr>\n",
       "  </tbody>\n",
       "</table>\n",
       "</div>"
      ],
      "text/plain": [
       "   Total Email  Total Mobile  Total Social  Total Web\n",
       "1           10             9             6          8"
      ]
     },
     "execution_count": 335,
     "metadata": {},
     "output_type": "execute_result"
    }
   ],
   "source": [
    "# portfolio_plot_df = portfolio_raw[['offer_id','email','mobile','social','web']]\n",
    "portfolio_plot_df = pd.DataFrame()\n",
    "portfolio_plot_df['Total Email'] = portfolio[portfolio['email'] == 1]['email'].value_counts()\n",
    "portfolio_plot_df['Total Mobile'] = portfolio[portfolio['mobile'] == 1]['mobile'].value_counts()\n",
    "portfolio_plot_df['Total Social'] = portfolio[portfolio['social'] == 1]['social'].value_counts()\n",
    "portfolio_plot_df['Total Web'] = portfolio[portfolio['web'] == 1]['web'].value_counts()\n",
    "portfolio_plot_df"
   ]
  },
  {
   "cell_type": "code",
   "execution_count": 336,
   "metadata": {
    "ExecuteTime": {
     "end_time": "2020-03-06T06:50:49.396973Z",
     "start_time": "2020-03-06T06:50:49.313996Z"
    }
   },
   "outputs": [
    {
     "data": {
      "text/plain": [
       "<matplotlib.axes._subplots.AxesSubplot at 0x7f7be245e110>"
      ]
     },
     "execution_count": 336,
     "metadata": {},
     "output_type": "execute_result"
    },
    {
     "data": {
      "image/png": "[encoded data removed]",
      "text/plain": [
       "<Figure size 432x288 with 1 Axes>"
      ]
     },
     "metadata": {
      "needs_background": "light"
     },
     "output_type": "display_data"
    }
   ],
   "source": [
    "sns.countplot(x='offer_type',data=portfolio)"
   ]
  },
  {
   "cell_type": "markdown",
   "metadata": {},
   "source": [
    "## Profile Data"
   ]
  },
  {
   "cell_type": "code",
   "execution_count": 355,
   "metadata": {
    "ExecuteTime": {
     "end_time": "2020-03-06T07:09:12.092267Z",
     "start_time": "2020-03-06T07:09:12.011414Z"
    }
   },
   "outputs": [
    {
     "data": {
      "text/html": [
       "<div>\n",
       "<style scoped>\n",
       "    .dataframe tbody tr th:only-of-type {\n",
       "        vertical-align: middle;\n",
       "    }\n",
       "\n",
       "    .dataframe tbody tr th {\n",
       "        vertical-align: top;\n",
       "    }\n",
       "\n",
       "    .dataframe thead th {\n",
       "        text-align: right;\n",
       "    }\n",
       "</style>\n",
       "<table border=\"1\" class=\"dataframe\">\n",
       "  <thead>\n",
       "    <tr style=\"text-align: right;\">\n",
       "      <th></th>\n",
       "      <th>gender</th>\n",
       "      <th>age</th>\n",
       "      <th>id</th>\n",
       "      <th>became_member_on</th>\n",
       "      <th>income</th>\n",
       "    </tr>\n",
       "  </thead>\n",
       "  <tbody>\n",
       "    <tr>\n",
       "      <td>0</td>\n",
       "      <td>None</td>\n",
       "      <td>118</td>\n",
       "      <td>68be06ca386d4c31939f3a4f0e3dd783</td>\n",
       "      <td>20170212</td>\n",
       "      <td>NaN</td>\n",
       "    </tr>\n",
       "    <tr>\n",
       "      <td>1</td>\n",
       "      <td>F</td>\n",
       "      <td>55</td>\n",
       "      <td>0610b486422d4921ae7d2bf64640c50b</td>\n",
       "      <td>20170715</td>\n",
       "      <td>112000.0</td>\n",
       "    </tr>\n",
       "    <tr>\n",
       "      <td>2</td>\n",
       "      <td>None</td>\n",
       "      <td>118</td>\n",
       "      <td>38fe809add3b4fcf9315a9694bb96ff5</td>\n",
       "      <td>20180712</td>\n",
       "      <td>NaN</td>\n",
       "    </tr>\n",
       "    <tr>\n",
       "      <td>3</td>\n",
       "      <td>F</td>\n",
       "      <td>75</td>\n",
       "      <td>78afa995795e4d85b5d9ceeca43f5fef</td>\n",
       "      <td>20170509</td>\n",
       "      <td>100000.0</td>\n",
       "    </tr>\n",
       "    <tr>\n",
       "      <td>4</td>\n",
       "      <td>None</td>\n",
       "      <td>118</td>\n",
       "      <td>a03223e636434f42ac4c3df47e8bac43</td>\n",
       "      <td>20170804</td>\n",
       "      <td>NaN</td>\n",
       "    </tr>\n",
       "  </tbody>\n",
       "</table>\n",
       "</div>"
      ],
      "text/plain": [
       "  gender  age                                id  became_member_on    income\n",
       "0   None  118  68be06ca386d4c31939f3a4f0e3dd783          20170212       NaN\n",
       "1      F   55  0610b486422d4921ae7d2bf64640c50b          20170715  112000.0\n",
       "2   None  118  38fe809add3b4fcf9315a9694bb96ff5          20180712       NaN\n",
       "3      F   75  78afa995795e4d85b5d9ceeca43f5fef          20170509  100000.0\n",
       "4   None  118  a03223e636434f42ac4c3df47e8bac43          20170804       NaN"
      ]
     },
     "metadata": {},
     "output_type": "display_data"
    },
    {
     "name": "stdout",
     "output_type": "stream",
     "text": [
      "(17000, 5)\n"
     ]
    }
   ],
   "source": [
    "profile = pd.read_json('../data/external/profile.json', orient='records', lines=True)\n",
    "display(profile.head())\n",
    "print(profile.shape)"
   ]
  },
  {
   "cell_type": "code",
   "execution_count": 356,
   "metadata": {
    "ExecuteTime": {
     "end_time": "2020-03-06T07:09:12.485899Z",
     "start_time": "2020-03-06T07:09:12.460823Z"
    }
   },
   "outputs": [
    {
     "data": {
      "text/html": [
       "<div>\n",
       "<style scoped>\n",
       "    .dataframe tbody tr th:only-of-type {\n",
       "        vertical-align: middle;\n",
       "    }\n",
       "\n",
       "    .dataframe tbody tr th {\n",
       "        vertical-align: top;\n",
       "    }\n",
       "\n",
       "    .dataframe thead th {\n",
       "        text-align: right;\n",
       "    }\n",
       "</style>\n",
       "<table border=\"1\" class=\"dataframe\">\n",
       "  <thead>\n",
       "    <tr style=\"text-align: right;\">\n",
       "      <th></th>\n",
       "      <th>Columns</th>\n",
       "      <th>Unique Values</th>\n",
       "      <th>% of Missing Values</th>\n",
       "      <th>% of Values in One Category</th>\n",
       "      <th>Data Type</th>\n",
       "    </tr>\n",
       "  </thead>\n",
       "  <tbody>\n",
       "    <tr>\n",
       "      <td>0</td>\n",
       "      <td>gender</td>\n",
       "      <td>3</td>\n",
       "      <td>0.127941</td>\n",
       "      <td>0.499059</td>\n",
       "      <td>object</td>\n",
       "    </tr>\n",
       "    <tr>\n",
       "      <td>4</td>\n",
       "      <td>income</td>\n",
       "      <td>91</td>\n",
       "      <td>0.127941</td>\n",
       "      <td>0.127941</td>\n",
       "      <td>float64</td>\n",
       "    </tr>\n",
       "    <tr>\n",
       "      <td>1</td>\n",
       "      <td>age</td>\n",
       "      <td>85</td>\n",
       "      <td>0.000000</td>\n",
       "      <td>0.127941</td>\n",
       "      <td>int64</td>\n",
       "    </tr>\n",
       "    <tr>\n",
       "      <td>2</td>\n",
       "      <td>id</td>\n",
       "      <td>17000</td>\n",
       "      <td>0.000000</td>\n",
       "      <td>0.000059</td>\n",
       "      <td>object</td>\n",
       "    </tr>\n",
       "    <tr>\n",
       "      <td>3</td>\n",
       "      <td>became_member_on</td>\n",
       "      <td>1716</td>\n",
       "      <td>0.000000</td>\n",
       "      <td>0.002529</td>\n",
       "      <td>int64</td>\n",
       "    </tr>\n",
       "  </tbody>\n",
       "</table>\n",
       "</div>"
      ],
      "text/plain": [
       "            Columns  Unique Values  % of Missing Values  \\\n",
       "0            gender              3             0.127941   \n",
       "4            income             91             0.127941   \n",
       "1               age             85             0.000000   \n",
       "2                id          17000             0.000000   \n",
       "3  became_member_on           1716             0.000000   \n",
       "\n",
       "   % of Values in One Category Data Type  \n",
       "0                     0.499059    object  \n",
       "4                     0.127941   float64  \n",
       "1                     0.127941     int64  \n",
       "2                     0.000059    object  \n",
       "3                     0.002529     int64  "
      ]
     },
     "execution_count": 356,
     "metadata": {},
     "output_type": "execute_result"
    }
   ],
   "source": [
    "le.data_stats(profile)"
   ]
  },
  {
   "cell_type": "markdown",
   "metadata": {},
   "source": [
    "In `gender` and `income` columns, there are 13% data missing. we need further analysis these missing value.\n",
    "\n",
    "### Inspect missing value"
   ]
  },
  {
   "cell_type": "code",
   "execution_count": 357,
   "metadata": {
    "ExecuteTime": {
     "end_time": "2020-03-06T07:09:12.862260Z",
     "start_time": "2020-03-06T07:09:12.856098Z"
    }
   },
   "outputs": [
    {
     "name": "stdout",
     "output_type": "stream",
     "text": [
      "118    2175\n",
      "58      408\n",
      "53      372\n",
      "51      363\n",
      "54      359\n",
      "Name: age, dtype: int64\n",
      "M    8484\n",
      "F    6129\n",
      "O     212\n",
      "Name: gender, dtype: int64\n"
     ]
    }
   ],
   "source": [
    "print(profile.age.value_counts()[:5])\n",
    "print(profile.gender.value_counts())"
   ]
  },
  {
   "cell_type": "code",
   "execution_count": 358,
   "metadata": {
    "ExecuteTime": {
     "end_time": "2020-03-06T07:09:13.255289Z",
     "start_time": "2020-03-06T07:09:13.229566Z"
    }
   },
   "outputs": [
    {
     "data": {
      "text/html": [
       "<div>\n",
       "<style scoped>\n",
       "    .dataframe tbody tr th:only-of-type {\n",
       "        vertical-align: middle;\n",
       "    }\n",
       "\n",
       "    .dataframe tbody tr th {\n",
       "        vertical-align: top;\n",
       "    }\n",
       "\n",
       "    .dataframe thead th {\n",
       "        text-align: right;\n",
       "    }\n",
       "</style>\n",
       "<table border=\"1\" class=\"dataframe\">\n",
       "  <thead>\n",
       "    <tr style=\"text-align: right;\">\n",
       "      <th></th>\n",
       "      <th>Columns</th>\n",
       "      <th>Unique Values</th>\n",
       "      <th>% of Missing Values</th>\n",
       "      <th>% of Values in One Category</th>\n",
       "      <th>Data Type</th>\n",
       "    </tr>\n",
       "  </thead>\n",
       "  <tbody>\n",
       "    <tr>\n",
       "      <td>0</td>\n",
       "      <td>gender</td>\n",
       "      <td>3</td>\n",
       "      <td>0.0</td>\n",
       "      <td>0.572277</td>\n",
       "      <td>object</td>\n",
       "    </tr>\n",
       "    <tr>\n",
       "      <td>1</td>\n",
       "      <td>age</td>\n",
       "      <td>84</td>\n",
       "      <td>0.0</td>\n",
       "      <td>0.027521</td>\n",
       "      <td>int64</td>\n",
       "    </tr>\n",
       "    <tr>\n",
       "      <td>2</td>\n",
       "      <td>id</td>\n",
       "      <td>14825</td>\n",
       "      <td>0.0</td>\n",
       "      <td>0.000067</td>\n",
       "      <td>object</td>\n",
       "    </tr>\n",
       "    <tr>\n",
       "      <td>3</td>\n",
       "      <td>became_member_on</td>\n",
       "      <td>1707</td>\n",
       "      <td>0.0</td>\n",
       "      <td>0.002631</td>\n",
       "      <td>int64</td>\n",
       "    </tr>\n",
       "    <tr>\n",
       "      <td>4</td>\n",
       "      <td>income</td>\n",
       "      <td>91</td>\n",
       "      <td>0.0</td>\n",
       "      <td>0.021180</td>\n",
       "      <td>float64</td>\n",
       "    </tr>\n",
       "  </tbody>\n",
       "</table>\n",
       "</div>"
      ],
      "text/plain": [
       "            Columns  Unique Values  % of Missing Values  \\\n",
       "0            gender              3                  0.0   \n",
       "1               age             84                  0.0   \n",
       "2                id          14825                  0.0   \n",
       "3  became_member_on           1707                  0.0   \n",
       "4            income             91                  0.0   \n",
       "\n",
       "   % of Values in One Category Data Type  \n",
       "0                     0.572277    object  \n",
       "1                     0.027521     int64  \n",
       "2                     0.000067    object  \n",
       "3                     0.002631     int64  \n",
       "4                     0.021180   float64  "
      ]
     },
     "execution_count": 358,
     "metadata": {},
     "output_type": "execute_result"
    }
   ],
   "source": [
    "le.data_stats(profile[profile.age != 118])"
   ]
  },
  {
   "cell_type": "code",
   "execution_count": 359,
   "metadata": {
    "ExecuteTime": {
     "end_time": "2020-03-06T07:09:13.639647Z",
     "start_time": "2020-03-06T07:09:13.624465Z"
    }
   },
   "outputs": [
    {
     "data": {
      "text/html": [
       "<div>\n",
       "<style scoped>\n",
       "    .dataframe tbody tr th:only-of-type {\n",
       "        vertical-align: middle;\n",
       "    }\n",
       "\n",
       "    .dataframe tbody tr th {\n",
       "        vertical-align: top;\n",
       "    }\n",
       "\n",
       "    .dataframe thead th {\n",
       "        text-align: right;\n",
       "    }\n",
       "</style>\n",
       "<table border=\"1\" class=\"dataframe\">\n",
       "  <thead>\n",
       "    <tr style=\"text-align: right;\">\n",
       "      <th></th>\n",
       "      <th>Columns</th>\n",
       "      <th>Unique Values</th>\n",
       "      <th>% of Missing Values</th>\n",
       "      <th>% of Values in One Category</th>\n",
       "      <th>Data Type</th>\n",
       "    </tr>\n",
       "  </thead>\n",
       "  <tbody>\n",
       "    <tr>\n",
       "      <td>0</td>\n",
       "      <td>gender</td>\n",
       "      <td>0</td>\n",
       "      <td>1.0</td>\n",
       "      <td>1.000000</td>\n",
       "      <td>object</td>\n",
       "    </tr>\n",
       "    <tr>\n",
       "      <td>4</td>\n",
       "      <td>income</td>\n",
       "      <td>0</td>\n",
       "      <td>1.0</td>\n",
       "      <td>1.000000</td>\n",
       "      <td>float64</td>\n",
       "    </tr>\n",
       "    <tr>\n",
       "      <td>1</td>\n",
       "      <td>age</td>\n",
       "      <td>1</td>\n",
       "      <td>0.0</td>\n",
       "      <td>1.000000</td>\n",
       "      <td>int64</td>\n",
       "    </tr>\n",
       "    <tr>\n",
       "      <td>2</td>\n",
       "      <td>id</td>\n",
       "      <td>2175</td>\n",
       "      <td>0.0</td>\n",
       "      <td>0.000460</td>\n",
       "      <td>object</td>\n",
       "    </tr>\n",
       "    <tr>\n",
       "      <td>3</td>\n",
       "      <td>became_member_on</td>\n",
       "      <td>950</td>\n",
       "      <td>0.0</td>\n",
       "      <td>0.005057</td>\n",
       "      <td>int64</td>\n",
       "    </tr>\n",
       "  </tbody>\n",
       "</table>\n",
       "</div>"
      ],
      "text/plain": [
       "            Columns  Unique Values  % of Missing Values  \\\n",
       "0            gender              0                  1.0   \n",
       "4            income              0                  1.0   \n",
       "1               age              1                  0.0   \n",
       "2                id           2175                  0.0   \n",
       "3  became_member_on            950                  0.0   \n",
       "\n",
       "   % of Values in One Category Data Type  \n",
       "0                     1.000000    object  \n",
       "4                     1.000000   float64  \n",
       "1                     1.000000     int64  \n",
       "2                     0.000460    object  \n",
       "3                     0.005057     int64  "
      ]
     },
     "execution_count": 359,
     "metadata": {},
     "output_type": "execute_result"
    }
   ],
   "source": [
    "le.data_stats(profile[profile.age == 118])"
   ]
  },
  {
   "cell_type": "markdown",
   "metadata": {},
   "source": [
    "There are 12.8% All missing value have age as 118. Therefore, we can filter out missing values.\n",
    "\n"
   ]
  },
  {
   "cell_type": "markdown",
   "metadata": {
    "ExecuteTime": {
     "end_time": "2020-02-16T06:18:59.311912Z",
     "start_time": "2020-02-16T06:18:59.308568Z"
    }
   },
   "source": [
    "### Clean Data"
   ]
  },
  {
   "cell_type": "code",
   "execution_count": 360,
   "metadata": {
    "ExecuteTime": {
     "end_time": "2020-03-06T07:09:15.158319Z",
     "start_time": "2020-03-06T07:09:15.134604Z"
    }
   },
   "outputs": [],
   "source": [
    "# Fix Column name\n",
    "profile.rename(columns={\"id\": \"customer_id\"},inplace=True)\n",
    "\n",
    "# Drop custpmers with missing data.\n",
    "profile = profile[profile['gender'].notnull()]\n",
    "profile = profile[profile['income'].notnull()]\n",
    "profile = profile[profile.age != 118]\n",
    "\n",
    "# Convert column data type\n",
    "profile.became_member_on = pd.to_datetime(profile.became_member_on,format='%Y%m%d')\n",
    "profile.replace({'gender': {'F': 0, 'M': 1, 'O': 2}}, inplace=True)\n",
    "profile = profile.astype({'gender':'int32'})"
   ]
  },
  {
   "cell_type": "code",
   "execution_count": 361,
   "metadata": {
    "ExecuteTime": {
     "end_time": "2020-03-06T07:09:16.717990Z",
     "start_time": "2020-03-06T07:09:16.711093Z"
    }
   },
   "outputs": [],
   "source": [
    "profile['became_member_on_dayofweek'] = profile.became_member_on.dt.dayofweek\n",
    "profile['became_member_on_year'] = profile.became_member_on.dt.year\n",
    "profile['became_member_on_month'] = profile.became_member_on.dt.month"
   ]
  },
  {
   "cell_type": "code",
   "execution_count": 362,
   "metadata": {
    "ExecuteTime": {
     "end_time": "2020-03-06T07:09:17.410651Z",
     "start_time": "2020-03-06T07:09:17.357915Z"
    }
   },
   "outputs": [],
   "source": [
    "\n",
    "for i in range(11):\n",
    "    if i != 0:\n",
    "        stage = i * 10\n",
    "        profile[str(stage)+\"'s\"] = profile['age'].apply(lambda x:1 if((x-stage<10)and (x-stage>=0)) else 0)"
   ]
  },
  {
   "cell_type": "markdown",
   "metadata": {},
   "source": [
    "### Profile EDA"
   ]
  },
  {
   "cell_type": "code",
   "execution_count": 363,
   "metadata": {
    "ExecuteTime": {
     "end_time": "2020-03-06T07:09:20.098149Z",
     "start_time": "2020-03-06T07:09:19.343071Z"
    }
   },
   "outputs": [
    {
     "data": {
      "image/png": "[encoded data removed]",
      "text/plain": [
       "<Figure size 720x1872 with 6 Axes>"
      ]
     },
     "metadata": {
      "needs_background": "light"
     },
     "output_type": "display_data"
    }
   ],
   "source": [
    "col_names = ['age', 'gender', 'income','became_member_on_dayofweek','became_member_on_year','became_member_on_month']\n",
    "\n",
    "fig, ax = plt.subplots(len(col_names),1, figsize=(10,26))\n",
    "\n",
    "for i, col_val in enumerate(col_names):\n",
    "    sns.distplot(profile[col_val], hist=True, ax=ax[i]) \n",
    "    ax[i].set_xlabel(col_val)\n",
    "    ax[i].set_ylabel('Count')\n",
    "plt.show()"
   ]
  },
  {
   "cell_type": "markdown",
   "metadata": {},
   "source": [
    "From the graph we can find:\n",
    "1. The distribution of the started week and month is even.\n",
    "1. The number of type O gender is too small. Type O gender will not provide enough information in the model."
   ]
  },
  {
   "cell_type": "code",
   "execution_count": 25,
   "metadata": {
    "ExecuteTime": {
     "end_time": "2020-03-03T05:06:15.680864Z",
     "start_time": "2020-03-03T05:06:15.318630Z"
    },
    "scrolled": true
   },
   "outputs": [
    {
     "data": {
      "image/png": "[encoded data removed]",
      "text/plain": [
       "<Figure size 1008x432 with 3 Axes>"
      ]
     },
     "metadata": {
      "needs_background": "light"
     },
     "output_type": "display_data"
    }
   ],
   "source": [
    "fig, ax = plt.subplots(1,3, figsize=(14,6))\n",
    "\n",
    "male_customers = profile[profile['gender'] == 1]\n",
    "female_customers = profile[profile['gender'] == 0]\n",
    "other_customers = profile[profile['gender'] == 2]\n",
    "\n",
    "sns.distplot(male_customers['income'], hist=True, ax=ax[0]) \n",
    "ax[0].set_xlabel('Male Customer')\n",
    "ax[0].set_ylabel('Count')\n",
    "sns.distplot(female_customers['income'], hist=True, ax=ax[1]) \n",
    "ax[1].set_xlabel('Female Customer')\n",
    "ax[1].set_ylabel('Count')\n",
    "sns.distplot(other_customers['income'], hist=True, ax=ax[2]) \n",
    "ax[2].set_xlabel('Other Customer')\n",
    "ax[2].set_ylabel('Count')\n",
    "\n",
    "plt.show()"
   ]
  },
  {
   "cell_type": "code",
   "execution_count": 26,
   "metadata": {
    "ExecuteTime": {
     "end_time": "2020-03-03T05:06:15.688753Z",
     "start_time": "2020-03-03T05:06:15.683543Z"
    }
   },
   "outputs": [
    {
     "data": {
      "text/plain": [
       "1    8484\n",
       "0    6129\n",
       "2     212\n",
       "Name: gender, dtype: int64"
      ]
     },
     "execution_count": 26,
     "metadata": {},
     "output_type": "execute_result"
    }
   ],
   "source": [
    "profile['gender'].value_counts()"
   ]
  },
  {
   "cell_type": "markdown",
   "metadata": {},
   "source": [
    "After a further analysis with the data, I decide to drop gender marked as 'O' to reduce the unbalance of data."
   ]
  },
  {
   "cell_type": "code",
   "execution_count": 27,
   "metadata": {
    "ExecuteTime": {
     "end_time": "2020-03-03T05:06:15.702317Z",
     "start_time": "2020-03-03T05:06:15.690538Z"
    }
   },
   "outputs": [],
   "source": [
    "profile = profile[profile['gender']!=2]"
   ]
  },
  {
   "cell_type": "markdown",
   "metadata": {},
   "source": [
    "## Transcript"
   ]
  },
  {
   "cell_type": "code",
   "execution_count": 28,
   "metadata": {
    "ExecuteTime": {
     "end_time": "2020-03-03T05:06:17.375458Z",
     "start_time": "2020-03-03T05:06:15.704143Z"
    }
   },
   "outputs": [],
   "source": [
    "transcript = pd.read_json('../data/external/transcript.json', orient='records', lines=True)"
   ]
  },
  {
   "cell_type": "code",
   "execution_count": 29,
   "metadata": {
    "ExecuteTime": {
     "end_time": "2020-03-03T05:06:17.384657Z",
     "start_time": "2020-03-03T05:06:17.376604Z"
    }
   },
   "outputs": [
    {
     "data": {
      "text/html": [
       "<div>\n",
       "<style scoped>\n",
       "    .dataframe tbody tr th:only-of-type {\n",
       "        vertical-align: middle;\n",
       "    }\n",
       "\n",
       "    .dataframe tbody tr th {\n",
       "        vertical-align: top;\n",
       "    }\n",
       "\n",
       "    .dataframe thead th {\n",
       "        text-align: right;\n",
       "    }\n",
       "</style>\n",
       "<table border=\"1\" class=\"dataframe\">\n",
       "  <thead>\n",
       "    <tr style=\"text-align: right;\">\n",
       "      <th></th>\n",
       "      <th>person</th>\n",
       "      <th>event</th>\n",
       "      <th>value</th>\n",
       "      <th>time</th>\n",
       "    </tr>\n",
       "  </thead>\n",
       "  <tbody>\n",
       "    <tr>\n",
       "      <td>0</td>\n",
       "      <td>78afa995795e4d85b5d9ceeca43f5fef</td>\n",
       "      <td>offer received</td>\n",
       "      <td>{'offer id': '9b98b8c7a33c4b65b9aebfe6a799e6d9'}</td>\n",
       "      <td>0</td>\n",
       "    </tr>\n",
       "    <tr>\n",
       "      <td>1</td>\n",
       "      <td>a03223e636434f42ac4c3df47e8bac43</td>\n",
       "      <td>offer received</td>\n",
       "      <td>{'offer id': '0b1e1539f2cc45b7b9fa7c272da2e1d7'}</td>\n",
       "      <td>0</td>\n",
       "    </tr>\n",
       "    <tr>\n",
       "      <td>2</td>\n",
       "      <td>e2127556f4f64592b11af22de27a7932</td>\n",
       "      <td>offer received</td>\n",
       "      <td>{'offer id': '2906b810c7d4411798c6938adc9daaa5'}</td>\n",
       "      <td>0</td>\n",
       "    </tr>\n",
       "    <tr>\n",
       "      <td>3</td>\n",
       "      <td>8ec6ce2a7e7949b1bf142def7d0e0586</td>\n",
       "      <td>offer received</td>\n",
       "      <td>{'offer id': 'fafdcd668e3743c1bb461111dcafc2a4'}</td>\n",
       "      <td>0</td>\n",
       "    </tr>\n",
       "    <tr>\n",
       "      <td>4</td>\n",
       "      <td>68617ca6246f4fbc85e91a2a49552598</td>\n",
       "      <td>offer received</td>\n",
       "      <td>{'offer id': '4d5c57ea9a6940dd891ad53e9dbe8da0'}</td>\n",
       "      <td>0</td>\n",
       "    </tr>\n",
       "  </tbody>\n",
       "</table>\n",
       "</div>"
      ],
      "text/plain": [
       "                             person           event  \\\n",
       "0  78afa995795e4d85b5d9ceeca43f5fef  offer received   \n",
       "1  a03223e636434f42ac4c3df47e8bac43  offer received   \n",
       "2  e2127556f4f64592b11af22de27a7932  offer received   \n",
       "3  8ec6ce2a7e7949b1bf142def7d0e0586  offer received   \n",
       "4  68617ca6246f4fbc85e91a2a49552598  offer received   \n",
       "\n",
       "                                              value  time  \n",
       "0  {'offer id': '9b98b8c7a33c4b65b9aebfe6a799e6d9'}     0  \n",
       "1  {'offer id': '0b1e1539f2cc45b7b9fa7c272da2e1d7'}     0  \n",
       "2  {'offer id': '2906b810c7d4411798c6938adc9daaa5'}     0  \n",
       "3  {'offer id': 'fafdcd668e3743c1bb461111dcafc2a4'}     0  \n",
       "4  {'offer id': '4d5c57ea9a6940dd891ad53e9dbe8da0'}     0  "
      ]
     },
     "metadata": {},
     "output_type": "display_data"
    },
    {
     "name": "stdout",
     "output_type": "stream",
     "text": [
      "(306534, 4)\n"
     ]
    }
   ],
   "source": [
    "display(transcript.head())\n",
    "print(transcript.shape)"
   ]
  },
  {
   "cell_type": "code",
   "execution_count": null,
   "metadata": {},
   "outputs": [],
   "source": []
  },
  {
   "cell_type": "markdown",
   "metadata": {},
   "source": [
    "### Transform Data"
   ]
  },
  {
   "cell_type": "code",
   "execution_count": 30,
   "metadata": {
    "ExecuteTime": {
     "end_time": "2020-03-03T05:06:18.287423Z",
     "start_time": "2020-03-03T05:06:17.386158Z"
    }
   },
   "outputs": [
    {
     "data": {
      "text/html": [
       "<div>\n",
       "<style scoped>\n",
       "    .dataframe tbody tr th:only-of-type {\n",
       "        vertical-align: middle;\n",
       "    }\n",
       "\n",
       "    .dataframe tbody tr th {\n",
       "        vertical-align: top;\n",
       "    }\n",
       "\n",
       "    .dataframe thead th {\n",
       "        text-align: right;\n",
       "    }\n",
       "</style>\n",
       "<table border=\"1\" class=\"dataframe\">\n",
       "  <thead>\n",
       "    <tr style=\"text-align: right;\">\n",
       "      <th></th>\n",
       "      <th>customer_id</th>\n",
       "      <th>event</th>\n",
       "      <th>time</th>\n",
       "      <th>offer_id</th>\n",
       "      <th>amount</th>\n",
       "      <th>reward</th>\n",
       "      <th>completed</th>\n",
       "      <th>received</th>\n",
       "      <th>viewed</th>\n",
       "      <th>transaction</th>\n",
       "    </tr>\n",
       "  </thead>\n",
       "  <tbody>\n",
       "    <tr>\n",
       "      <td>0</td>\n",
       "      <td>78afa995795e4d85b5d9ceeca43f5fef</td>\n",
       "      <td>offer received</td>\n",
       "      <td>0.0</td>\n",
       "      <td>9b98b8c7a33c4b65b9aebfe6a799e6d9</td>\n",
       "      <td>NaN</td>\n",
       "      <td>NaN</td>\n",
       "      <td>0</td>\n",
       "      <td>1</td>\n",
       "      <td>0</td>\n",
       "      <td>0</td>\n",
       "    </tr>\n",
       "    <tr>\n",
       "      <td>1</td>\n",
       "      <td>a03223e636434f42ac4c3df47e8bac43</td>\n",
       "      <td>offer received</td>\n",
       "      <td>0.0</td>\n",
       "      <td>0b1e1539f2cc45b7b9fa7c272da2e1d7</td>\n",
       "      <td>NaN</td>\n",
       "      <td>NaN</td>\n",
       "      <td>0</td>\n",
       "      <td>1</td>\n",
       "      <td>0</td>\n",
       "      <td>0</td>\n",
       "    </tr>\n",
       "    <tr>\n",
       "      <td>2</td>\n",
       "      <td>e2127556f4f64592b11af22de27a7932</td>\n",
       "      <td>offer received</td>\n",
       "      <td>0.0</td>\n",
       "      <td>2906b810c7d4411798c6938adc9daaa5</td>\n",
       "      <td>NaN</td>\n",
       "      <td>NaN</td>\n",
       "      <td>0</td>\n",
       "      <td>1</td>\n",
       "      <td>0</td>\n",
       "      <td>0</td>\n",
       "    </tr>\n",
       "    <tr>\n",
       "      <td>3</td>\n",
       "      <td>8ec6ce2a7e7949b1bf142def7d0e0586</td>\n",
       "      <td>offer received</td>\n",
       "      <td>0.0</td>\n",
       "      <td>fafdcd668e3743c1bb461111dcafc2a4</td>\n",
       "      <td>NaN</td>\n",
       "      <td>NaN</td>\n",
       "      <td>0</td>\n",
       "      <td>1</td>\n",
       "      <td>0</td>\n",
       "      <td>0</td>\n",
       "    </tr>\n",
       "    <tr>\n",
       "      <td>4</td>\n",
       "      <td>68617ca6246f4fbc85e91a2a49552598</td>\n",
       "      <td>offer received</td>\n",
       "      <td>0.0</td>\n",
       "      <td>4d5c57ea9a6940dd891ad53e9dbe8da0</td>\n",
       "      <td>NaN</td>\n",
       "      <td>NaN</td>\n",
       "      <td>0</td>\n",
       "      <td>1</td>\n",
       "      <td>0</td>\n",
       "      <td>0</td>\n",
       "    </tr>\n",
       "  </tbody>\n",
       "</table>\n",
       "</div>"
      ],
      "text/plain": [
       "                        customer_id           event  time  \\\n",
       "0  78afa995795e4d85b5d9ceeca43f5fef  offer received   0.0   \n",
       "1  a03223e636434f42ac4c3df47e8bac43  offer received   0.0   \n",
       "2  e2127556f4f64592b11af22de27a7932  offer received   0.0   \n",
       "3  8ec6ce2a7e7949b1bf142def7d0e0586  offer received   0.0   \n",
       "4  68617ca6246f4fbc85e91a2a49552598  offer received   0.0   \n",
       "\n",
       "                           offer_id  amount  reward  completed  received  \\\n",
       "0  9b98b8c7a33c4b65b9aebfe6a799e6d9     NaN     NaN          0         1   \n",
       "1  0b1e1539f2cc45b7b9fa7c272da2e1d7     NaN     NaN          0         1   \n",
       "2  2906b810c7d4411798c6938adc9daaa5     NaN     NaN          0         1   \n",
       "3  fafdcd668e3743c1bb461111dcafc2a4     NaN     NaN          0         1   \n",
       "4  4d5c57ea9a6940dd891ad53e9dbe8da0     NaN     NaN          0         1   \n",
       "\n",
       "   viewed  transaction  \n",
       "0       0            0  \n",
       "1       0            0  \n",
       "2       0            0  \n",
       "3       0            0  \n",
       "4       0            0  "
      ]
     },
     "execution_count": 30,
     "metadata": {},
     "output_type": "execute_result"
    }
   ],
   "source": [
    "\n",
    "# create a dataframe of the 3 individual value columns\n",
    "values_df = pd.DataFrame(transcript.value.tolist())\n",
    "values_df['offer id'].fillna(values_df['offer_id'],inplace=True)\n",
    "values_df.drop('offer_id', axis=1,inplace=True)\n",
    "values_df.rename(columns={\"offer id\": \"offer_id\"},inplace=True)\n",
    "\n",
    "# concatenate the original dataframe with the new `offer_channels` dataframe\n",
    "transcript = pd.concat([transcript, values_df], axis = 1)\n",
    "\n",
    "# drop the original channels column from `portfolio`\n",
    "transcript = transcript.drop('value',axis=1)\n",
    "\n",
    "# change person to customer_id\n",
    "transcript.rename(columns={\"person\": \"customer_id\"},inplace=True)\n",
    "\n",
    "# change hour to day\n",
    "transcript['time'] /= 24.0\n",
    "\n",
    "# One hot encoding event column\n",
    "offer_event =  pd.get_dummies(transcript['event'])\n",
    "transcript = pd.concat([transcript, offer_event], axis = 1)\n",
    "# transcript = transcript.drop('event',axis=1)\n",
    "transcript.rename(columns={\"offer received\": \"received\",\n",
    "                           \"offer viewed\":\"viewed\",\n",
    "                           \"offer completed\":\"completed\"\n",
    "                          },inplace=True)\n",
    "\n",
    "transcript.head()"
   ]
  },
  {
   "cell_type": "code",
   "execution_count": 31,
   "metadata": {
    "ExecuteTime": {
     "end_time": "2020-03-03T05:06:18.631848Z",
     "start_time": "2020-03-03T05:06:18.288695Z"
    }
   },
   "outputs": [
    {
     "data": {
      "text/html": [
       "<div>\n",
       "<style scoped>\n",
       "    .dataframe tbody tr th:only-of-type {\n",
       "        vertical-align: middle;\n",
       "    }\n",
       "\n",
       "    .dataframe tbody tr th {\n",
       "        vertical-align: top;\n",
       "    }\n",
       "\n",
       "    .dataframe thead th {\n",
       "        text-align: right;\n",
       "    }\n",
       "</style>\n",
       "<table border=\"1\" class=\"dataframe\">\n",
       "  <thead>\n",
       "    <tr style=\"text-align: right;\">\n",
       "      <th></th>\n",
       "      <th>Columns</th>\n",
       "      <th>Unique Values</th>\n",
       "      <th>% of Missing Values</th>\n",
       "      <th>% of Values in One Category</th>\n",
       "      <th>Data Type</th>\n",
       "    </tr>\n",
       "  </thead>\n",
       "  <tbody>\n",
       "    <tr>\n",
       "      <td>5</td>\n",
       "      <td>reward</td>\n",
       "      <td>4</td>\n",
       "      <td>0.890456</td>\n",
       "      <td>0.890456</td>\n",
       "      <td>float64</td>\n",
       "    </tr>\n",
       "    <tr>\n",
       "      <td>4</td>\n",
       "      <td>amount</td>\n",
       "      <td>5103</td>\n",
       "      <td>0.546696</td>\n",
       "      <td>0.546696</td>\n",
       "      <td>float64</td>\n",
       "    </tr>\n",
       "    <tr>\n",
       "      <td>3</td>\n",
       "      <td>offer_id</td>\n",
       "      <td>10</td>\n",
       "      <td>0.453304</td>\n",
       "      <td>0.453304</td>\n",
       "      <td>object</td>\n",
       "    </tr>\n",
       "    <tr>\n",
       "      <td>0</td>\n",
       "      <td>customer_id</td>\n",
       "      <td>17000</td>\n",
       "      <td>0.000000</td>\n",
       "      <td>0.000166</td>\n",
       "      <td>object</td>\n",
       "    </tr>\n",
       "    <tr>\n",
       "      <td>1</td>\n",
       "      <td>event</td>\n",
       "      <td>4</td>\n",
       "      <td>0.000000</td>\n",
       "      <td>0.453304</td>\n",
       "      <td>object</td>\n",
       "    </tr>\n",
       "    <tr>\n",
       "      <td>2</td>\n",
       "      <td>time</td>\n",
       "      <td>120</td>\n",
       "      <td>0.000000</td>\n",
       "      <td>0.055557</td>\n",
       "      <td>float64</td>\n",
       "    </tr>\n",
       "    <tr>\n",
       "      <td>6</td>\n",
       "      <td>completed</td>\n",
       "      <td>2</td>\n",
       "      <td>0.000000</td>\n",
       "      <td>0.890456</td>\n",
       "      <td>uint8</td>\n",
       "    </tr>\n",
       "    <tr>\n",
       "      <td>7</td>\n",
       "      <td>received</td>\n",
       "      <td>2</td>\n",
       "      <td>0.000000</td>\n",
       "      <td>0.751163</td>\n",
       "      <td>uint8</td>\n",
       "    </tr>\n",
       "    <tr>\n",
       "      <td>8</td>\n",
       "      <td>viewed</td>\n",
       "      <td>2</td>\n",
       "      <td>0.000000</td>\n",
       "      <td>0.811685</td>\n",
       "      <td>uint8</td>\n",
       "    </tr>\n",
       "    <tr>\n",
       "      <td>9</td>\n",
       "      <td>transaction</td>\n",
       "      <td>2</td>\n",
       "      <td>0.000000</td>\n",
       "      <td>0.546696</td>\n",
       "      <td>uint8</td>\n",
       "    </tr>\n",
       "  </tbody>\n",
       "</table>\n",
       "</div>"
      ],
      "text/plain": [
       "       Columns  Unique Values  % of Missing Values  \\\n",
       "5       reward              4             0.890456   \n",
       "4       amount           5103             0.546696   \n",
       "3     offer_id             10             0.453304   \n",
       "0  customer_id          17000             0.000000   \n",
       "1        event              4             0.000000   \n",
       "2         time            120             0.000000   \n",
       "6    completed              2             0.000000   \n",
       "7     received              2             0.000000   \n",
       "8       viewed              2             0.000000   \n",
       "9  transaction              2             0.000000   \n",
       "\n",
       "   % of Values in One Category Data Type  \n",
       "5                     0.890456   float64  \n",
       "4                     0.546696   float64  \n",
       "3                     0.453304    object  \n",
       "0                     0.000166    object  \n",
       "1                     0.453304    object  \n",
       "2                     0.055557   float64  \n",
       "6                     0.890456     uint8  \n",
       "7                     0.751163     uint8  \n",
       "8                     0.811685     uint8  \n",
       "9                     0.546696     uint8  "
      ]
     },
     "execution_count": 31,
     "metadata": {},
     "output_type": "execute_result"
    }
   ],
   "source": [
    "le.data_stats(transcript)"
   ]
  },
  {
   "cell_type": "markdown",
   "metadata": {},
   "source": [
    "There are more than 89% data for reward is missing and over half of the amount data is missing. It requires more analysis."
   ]
  },
  {
   "cell_type": "code",
   "execution_count": 32,
   "metadata": {
    "ExecuteTime": {
     "end_time": "2020-03-03T05:06:18.906259Z",
     "start_time": "2020-03-03T05:06:18.633149Z"
    },
    "scrolled": true
   },
   "outputs": [
    {
     "data": {
      "text/html": [
       "<div>\n",
       "<style scoped>\n",
       "    .dataframe tbody tr th:only-of-type {\n",
       "        vertical-align: middle;\n",
       "    }\n",
       "\n",
       "    .dataframe tbody tr th {\n",
       "        vertical-align: top;\n",
       "    }\n",
       "\n",
       "    .dataframe thead th {\n",
       "        text-align: right;\n",
       "    }\n",
       "</style>\n",
       "<table border=\"1\" class=\"dataframe\">\n",
       "  <thead>\n",
       "    <tr style=\"text-align: right;\">\n",
       "      <th></th>\n",
       "      <th>Columns</th>\n",
       "      <th>Unique Values</th>\n",
       "      <th>% of Missing Values</th>\n",
       "      <th>% of Values in One Category</th>\n",
       "      <th>Data Type</th>\n",
       "    </tr>\n",
       "  </thead>\n",
       "  <tbody>\n",
       "    <tr>\n",
       "      <td>4</td>\n",
       "      <td>amount</td>\n",
       "      <td>0</td>\n",
       "      <td>1.000000</td>\n",
       "      <td>1.000000</td>\n",
       "      <td>float64</td>\n",
       "    </tr>\n",
       "    <tr>\n",
       "      <td>5</td>\n",
       "      <td>reward</td>\n",
       "      <td>4</td>\n",
       "      <td>0.799625</td>\n",
       "      <td>0.799625</td>\n",
       "      <td>float64</td>\n",
       "    </tr>\n",
       "    <tr>\n",
       "      <td>0</td>\n",
       "      <td>customer_id</td>\n",
       "      <td>16994</td>\n",
       "      <td>0.000000</td>\n",
       "      <td>0.000107</td>\n",
       "      <td>object</td>\n",
       "    </tr>\n",
       "    <tr>\n",
       "      <td>1</td>\n",
       "      <td>event</td>\n",
       "      <td>3</td>\n",
       "      <td>0.000000</td>\n",
       "      <td>0.455165</td>\n",
       "      <td>object</td>\n",
       "    </tr>\n",
       "    <tr>\n",
       "      <td>2</td>\n",
       "      <td>time</td>\n",
       "      <td>120</td>\n",
       "      <td>0.000000</td>\n",
       "      <td>0.093298</td>\n",
       "      <td>float64</td>\n",
       "    </tr>\n",
       "    <tr>\n",
       "      <td>3</td>\n",
       "      <td>offer_id</td>\n",
       "      <td>10</td>\n",
       "      <td>0.000000</td>\n",
       "      <td>0.120783</td>\n",
       "      <td>object</td>\n",
       "    </tr>\n",
       "    <tr>\n",
       "      <td>6</td>\n",
       "      <td>completed</td>\n",
       "      <td>2</td>\n",
       "      <td>0.000000</td>\n",
       "      <td>0.799625</td>\n",
       "      <td>uint8</td>\n",
       "    </tr>\n",
       "    <tr>\n",
       "      <td>7</td>\n",
       "      <td>received</td>\n",
       "      <td>2</td>\n",
       "      <td>0.000000</td>\n",
       "      <td>0.544835</td>\n",
       "      <td>uint8</td>\n",
       "    </tr>\n",
       "    <tr>\n",
       "      <td>8</td>\n",
       "      <td>viewed</td>\n",
       "      <td>2</td>\n",
       "      <td>0.000000</td>\n",
       "      <td>0.655540</td>\n",
       "      <td>uint8</td>\n",
       "    </tr>\n",
       "    <tr>\n",
       "      <td>9</td>\n",
       "      <td>transaction</td>\n",
       "      <td>1</td>\n",
       "      <td>0.000000</td>\n",
       "      <td>1.000000</td>\n",
       "      <td>uint8</td>\n",
       "    </tr>\n",
       "  </tbody>\n",
       "</table>\n",
       "</div>"
      ],
      "text/plain": [
       "       Columns  Unique Values  % of Missing Values  \\\n",
       "4       amount              0             1.000000   \n",
       "5       reward              4             0.799625   \n",
       "0  customer_id          16994             0.000000   \n",
       "1        event              3             0.000000   \n",
       "2         time            120             0.000000   \n",
       "3     offer_id             10             0.000000   \n",
       "6    completed              2             0.000000   \n",
       "7     received              2             0.000000   \n",
       "8       viewed              2             0.000000   \n",
       "9  transaction              1             0.000000   \n",
       "\n",
       "   % of Values in One Category Data Type  \n",
       "4                     1.000000   float64  \n",
       "5                     0.799625   float64  \n",
       "0                     0.000107    object  \n",
       "1                     0.455165    object  \n",
       "2                     0.093298   float64  \n",
       "3                     0.120783    object  \n",
       "6                     0.799625     uint8  \n",
       "7                     0.544835     uint8  \n",
       "8                     0.655540     uint8  \n",
       "9                     1.000000     uint8  "
      ]
     },
     "execution_count": 32,
     "metadata": {},
     "output_type": "execute_result"
    }
   ],
   "source": [
    "le.data_stats(transcript[transcript.event.isin(['offer received','offer viewed','offer completed'])])"
   ]
  },
  {
   "cell_type": "code",
   "execution_count": 33,
   "metadata": {
    "ExecuteTime": {
     "end_time": "2020-03-03T05:06:18.988376Z",
     "start_time": "2020-03-03T05:06:18.908355Z"
    }
   },
   "outputs": [
    {
     "data": {
      "text/html": [
       "<div>\n",
       "<style scoped>\n",
       "    .dataframe tbody tr th:only-of-type {\n",
       "        vertical-align: middle;\n",
       "    }\n",
       "\n",
       "    .dataframe tbody tr th {\n",
       "        vertical-align: top;\n",
       "    }\n",
       "\n",
       "    .dataframe thead th {\n",
       "        text-align: right;\n",
       "    }\n",
       "</style>\n",
       "<table border=\"1\" class=\"dataframe\">\n",
       "  <thead>\n",
       "    <tr style=\"text-align: right;\">\n",
       "      <th></th>\n",
       "      <th>Columns</th>\n",
       "      <th>Unique Values</th>\n",
       "      <th>% of Missing Values</th>\n",
       "      <th>% of Values in One Category</th>\n",
       "      <th>Data Type</th>\n",
       "    </tr>\n",
       "  </thead>\n",
       "  <tbody>\n",
       "    <tr>\n",
       "      <td>4</td>\n",
       "      <td>amount</td>\n",
       "      <td>0</td>\n",
       "      <td>1.0</td>\n",
       "      <td>1.000000</td>\n",
       "      <td>float64</td>\n",
       "    </tr>\n",
       "    <tr>\n",
       "      <td>0</td>\n",
       "      <td>customer_id</td>\n",
       "      <td>12774</td>\n",
       "      <td>0.0</td>\n",
       "      <td>0.000179</td>\n",
       "      <td>object</td>\n",
       "    </tr>\n",
       "    <tr>\n",
       "      <td>1</td>\n",
       "      <td>event</td>\n",
       "      <td>1</td>\n",
       "      <td>0.0</td>\n",
       "      <td>1.000000</td>\n",
       "      <td>object</td>\n",
       "    </tr>\n",
       "    <tr>\n",
       "      <td>2</td>\n",
       "      <td>time</td>\n",
       "      <td>120</td>\n",
       "      <td>0.0</td>\n",
       "      <td>0.020549</td>\n",
       "      <td>float64</td>\n",
       "    </tr>\n",
       "    <tr>\n",
       "      <td>3</td>\n",
       "      <td>offer_id</td>\n",
       "      <td>8</td>\n",
       "      <td>0.0</td>\n",
       "      <td>0.158343</td>\n",
       "      <td>object</td>\n",
       "    </tr>\n",
       "    <tr>\n",
       "      <td>5</td>\n",
       "      <td>reward</td>\n",
       "      <td>4</td>\n",
       "      <td>0.0</td>\n",
       "      <td>0.359451</td>\n",
       "      <td>float64</td>\n",
       "    </tr>\n",
       "    <tr>\n",
       "      <td>6</td>\n",
       "      <td>completed</td>\n",
       "      <td>1</td>\n",
       "      <td>0.0</td>\n",
       "      <td>1.000000</td>\n",
       "      <td>uint8</td>\n",
       "    </tr>\n",
       "    <tr>\n",
       "      <td>7</td>\n",
       "      <td>received</td>\n",
       "      <td>1</td>\n",
       "      <td>0.0</td>\n",
       "      <td>1.000000</td>\n",
       "      <td>uint8</td>\n",
       "    </tr>\n",
       "    <tr>\n",
       "      <td>8</td>\n",
       "      <td>viewed</td>\n",
       "      <td>1</td>\n",
       "      <td>0.0</td>\n",
       "      <td>1.000000</td>\n",
       "      <td>uint8</td>\n",
       "    </tr>\n",
       "    <tr>\n",
       "      <td>9</td>\n",
       "      <td>transaction</td>\n",
       "      <td>1</td>\n",
       "      <td>0.0</td>\n",
       "      <td>1.000000</td>\n",
       "      <td>uint8</td>\n",
       "    </tr>\n",
       "  </tbody>\n",
       "</table>\n",
       "</div>"
      ],
      "text/plain": [
       "       Columns  Unique Values  % of Missing Values  \\\n",
       "4       amount              0                  1.0   \n",
       "0  customer_id          12774                  0.0   \n",
       "1        event              1                  0.0   \n",
       "2         time            120                  0.0   \n",
       "3     offer_id              8                  0.0   \n",
       "5       reward              4                  0.0   \n",
       "6    completed              1                  0.0   \n",
       "7     received              1                  0.0   \n",
       "8       viewed              1                  0.0   \n",
       "9  transaction              1                  0.0   \n",
       "\n",
       "   % of Values in One Category Data Type  \n",
       "4                     1.000000   float64  \n",
       "0                     0.000179    object  \n",
       "1                     1.000000    object  \n",
       "2                     0.020549   float64  \n",
       "3                     0.158343    object  \n",
       "5                     0.359451   float64  \n",
       "6                     1.000000     uint8  \n",
       "7                     1.000000     uint8  \n",
       "8                     1.000000     uint8  \n",
       "9                     1.000000     uint8  "
      ]
     },
     "execution_count": 33,
     "metadata": {},
     "output_type": "execute_result"
    }
   ],
   "source": [
    "le.data_stats(transcript[transcript.event =='offer completed' ])"
   ]
  },
  {
   "cell_type": "code",
   "execution_count": 34,
   "metadata": {
    "ExecuteTime": {
     "end_time": "2020-03-03T05:06:19.169762Z",
     "start_time": "2020-03-03T05:06:18.989403Z"
    },
    "scrolled": true
   },
   "outputs": [
    {
     "data": {
      "text/html": [
       "<div>\n",
       "<style scoped>\n",
       "    .dataframe tbody tr th:only-of-type {\n",
       "        vertical-align: middle;\n",
       "    }\n",
       "\n",
       "    .dataframe tbody tr th {\n",
       "        vertical-align: top;\n",
       "    }\n",
       "\n",
       "    .dataframe thead th {\n",
       "        text-align: right;\n",
       "    }\n",
       "</style>\n",
       "<table border=\"1\" class=\"dataframe\">\n",
       "  <thead>\n",
       "    <tr style=\"text-align: right;\">\n",
       "      <th></th>\n",
       "      <th>Columns</th>\n",
       "      <th>Unique Values</th>\n",
       "      <th>% of Missing Values</th>\n",
       "      <th>% of Values in One Category</th>\n",
       "      <th>Data Type</th>\n",
       "    </tr>\n",
       "  </thead>\n",
       "  <tbody>\n",
       "    <tr>\n",
       "      <td>3</td>\n",
       "      <td>offer_id</td>\n",
       "      <td>0</td>\n",
       "      <td>1.0</td>\n",
       "      <td>1.000000</td>\n",
       "      <td>object</td>\n",
       "    </tr>\n",
       "    <tr>\n",
       "      <td>5</td>\n",
       "      <td>reward</td>\n",
       "      <td>0</td>\n",
       "      <td>1.0</td>\n",
       "      <td>1.000000</td>\n",
       "      <td>float64</td>\n",
       "    </tr>\n",
       "    <tr>\n",
       "      <td>0</td>\n",
       "      <td>customer_id</td>\n",
       "      <td>16578</td>\n",
       "      <td>0.0</td>\n",
       "      <td>0.000259</td>\n",
       "      <td>object</td>\n",
       "    </tr>\n",
       "    <tr>\n",
       "      <td>1</td>\n",
       "      <td>event</td>\n",
       "      <td>1</td>\n",
       "      <td>0.0</td>\n",
       "      <td>1.000000</td>\n",
       "      <td>object</td>\n",
       "    </tr>\n",
       "    <tr>\n",
       "      <td>2</td>\n",
       "      <td>time</td>\n",
       "      <td>120</td>\n",
       "      <td>0.0</td>\n",
       "      <td>0.010997</td>\n",
       "      <td>float64</td>\n",
       "    </tr>\n",
       "    <tr>\n",
       "      <td>4</td>\n",
       "      <td>amount</td>\n",
       "      <td>5103</td>\n",
       "      <td>0.0</td>\n",
       "      <td>0.003102</td>\n",
       "      <td>float64</td>\n",
       "    </tr>\n",
       "    <tr>\n",
       "      <td>6</td>\n",
       "      <td>completed</td>\n",
       "      <td>1</td>\n",
       "      <td>0.0</td>\n",
       "      <td>1.000000</td>\n",
       "      <td>uint8</td>\n",
       "    </tr>\n",
       "    <tr>\n",
       "      <td>7</td>\n",
       "      <td>received</td>\n",
       "      <td>1</td>\n",
       "      <td>0.0</td>\n",
       "      <td>1.000000</td>\n",
       "      <td>uint8</td>\n",
       "    </tr>\n",
       "    <tr>\n",
       "      <td>8</td>\n",
       "      <td>viewed</td>\n",
       "      <td>1</td>\n",
       "      <td>0.0</td>\n",
       "      <td>1.000000</td>\n",
       "      <td>uint8</td>\n",
       "    </tr>\n",
       "    <tr>\n",
       "      <td>9</td>\n",
       "      <td>transaction</td>\n",
       "      <td>1</td>\n",
       "      <td>0.0</td>\n",
       "      <td>1.000000</td>\n",
       "      <td>uint8</td>\n",
       "    </tr>\n",
       "  </tbody>\n",
       "</table>\n",
       "</div>"
      ],
      "text/plain": [
       "       Columns  Unique Values  % of Missing Values  \\\n",
       "3     offer_id              0                  1.0   \n",
       "5       reward              0                  1.0   \n",
       "0  customer_id          16578                  0.0   \n",
       "1        event              1                  0.0   \n",
       "2         time            120                  0.0   \n",
       "4       amount           5103                  0.0   \n",
       "6    completed              1                  0.0   \n",
       "7     received              1                  0.0   \n",
       "8       viewed              1                  0.0   \n",
       "9  transaction              1                  0.0   \n",
       "\n",
       "   % of Values in One Category Data Type  \n",
       "3                     1.000000    object  \n",
       "5                     1.000000   float64  \n",
       "0                     0.000259    object  \n",
       "1                     1.000000    object  \n",
       "2                     0.010997   float64  \n",
       "4                     0.003102   float64  \n",
       "6                     1.000000     uint8  \n",
       "7                     1.000000     uint8  \n",
       "8                     1.000000     uint8  \n",
       "9                     1.000000     uint8  "
      ]
     },
     "execution_count": 34,
     "metadata": {},
     "output_type": "execute_result"
    }
   ],
   "source": [
    "le.data_stats(transcript[transcript.event =='transaction' ])"
   ]
  },
  {
   "cell_type": "markdown",
   "metadata": {},
   "source": [
    "We can find that:\n",
    "1. the reward data only appears when event is 'offer complete'.\n",
    "1. offer_id only appear when event is 'transaction'.\n",
    "\n",
    "Thus, we can split the transcript into two dataset."
   ]
  },
  {
   "cell_type": "code",
   "execution_count": 35,
   "metadata": {
    "ExecuteTime": {
     "end_time": "2020-03-03T05:06:19.255229Z",
     "start_time": "2020-03-03T05:06:19.170705Z"
    }
   },
   "outputs": [],
   "source": [
    "offer = transcript[transcript.event.isin(['offer received','offer viewed','offer completed'])][['event','offer_id','customer_id','time','received','viewed','completed']]\n",
    "transaction = transcript[transcript.event =='transaction' ][['customer_id','time','amount']]"
   ]
  },
  {
   "cell_type": "code",
   "execution_count": 36,
   "metadata": {
    "ExecuteTime": {
     "end_time": "2020-03-03T05:06:19.266470Z",
     "start_time": "2020-03-03T05:06:19.256193Z"
    }
   },
   "outputs": [
    {
     "data": {
      "text/html": [
       "<div>\n",
       "<style scoped>\n",
       "    .dataframe tbody tr th:only-of-type {\n",
       "        vertical-align: middle;\n",
       "    }\n",
       "\n",
       "    .dataframe tbody tr th {\n",
       "        vertical-align: top;\n",
       "    }\n",
       "\n",
       "    .dataframe thead th {\n",
       "        text-align: right;\n",
       "    }\n",
       "</style>\n",
       "<table border=\"1\" class=\"dataframe\">\n",
       "  <thead>\n",
       "    <tr style=\"text-align: right;\">\n",
       "      <th></th>\n",
       "      <th>event</th>\n",
       "      <th>offer_id</th>\n",
       "      <th>customer_id</th>\n",
       "      <th>time</th>\n",
       "      <th>received</th>\n",
       "      <th>viewed</th>\n",
       "      <th>completed</th>\n",
       "    </tr>\n",
       "  </thead>\n",
       "  <tbody>\n",
       "    <tr>\n",
       "      <td>0</td>\n",
       "      <td>offer received</td>\n",
       "      <td>9b98b8c7a33c4b65b9aebfe6a799e6d9</td>\n",
       "      <td>78afa995795e4d85b5d9ceeca43f5fef</td>\n",
       "      <td>0.0</td>\n",
       "      <td>1</td>\n",
       "      <td>0</td>\n",
       "      <td>0</td>\n",
       "    </tr>\n",
       "    <tr>\n",
       "      <td>1</td>\n",
       "      <td>offer received</td>\n",
       "      <td>0b1e1539f2cc45b7b9fa7c272da2e1d7</td>\n",
       "      <td>a03223e636434f42ac4c3df47e8bac43</td>\n",
       "      <td>0.0</td>\n",
       "      <td>1</td>\n",
       "      <td>0</td>\n",
       "      <td>0</td>\n",
       "    </tr>\n",
       "  </tbody>\n",
       "</table>\n",
       "</div>"
      ],
      "text/plain": [
       "            event                          offer_id  \\\n",
       "0  offer received  9b98b8c7a33c4b65b9aebfe6a799e6d9   \n",
       "1  offer received  0b1e1539f2cc45b7b9fa7c272da2e1d7   \n",
       "\n",
       "                        customer_id  time  received  viewed  completed  \n",
       "0  78afa995795e4d85b5d9ceeca43f5fef   0.0         1       0          0  \n",
       "1  a03223e636434f42ac4c3df47e8bac43   0.0         1       0          0  "
      ]
     },
     "metadata": {},
     "output_type": "display_data"
    },
    {
     "data": {
      "text/html": [
       "<div>\n",
       "<style scoped>\n",
       "    .dataframe tbody tr th:only-of-type {\n",
       "        vertical-align: middle;\n",
       "    }\n",
       "\n",
       "    .dataframe tbody tr th {\n",
       "        vertical-align: top;\n",
       "    }\n",
       "\n",
       "    .dataframe thead th {\n",
       "        text-align: right;\n",
       "    }\n",
       "</style>\n",
       "<table border=\"1\" class=\"dataframe\">\n",
       "  <thead>\n",
       "    <tr style=\"text-align: right;\">\n",
       "      <th></th>\n",
       "      <th>customer_id</th>\n",
       "      <th>time</th>\n",
       "      <th>amount</th>\n",
       "    </tr>\n",
       "  </thead>\n",
       "  <tbody>\n",
       "    <tr>\n",
       "      <td>12654</td>\n",
       "      <td>02c083884c7d45b39cc68e1314fec56c</td>\n",
       "      <td>0.0</td>\n",
       "      <td>0.83</td>\n",
       "    </tr>\n",
       "    <tr>\n",
       "      <td>12657</td>\n",
       "      <td>9fa9ae8f57894cc9a3b8a9bbe0fc1b2f</td>\n",
       "      <td>0.0</td>\n",
       "      <td>34.56</td>\n",
       "    </tr>\n",
       "  </tbody>\n",
       "</table>\n",
       "</div>"
      ],
      "text/plain": [
       "                            customer_id  time  amount\n",
       "12654  02c083884c7d45b39cc68e1314fec56c   0.0    0.83\n",
       "12657  9fa9ae8f57894cc9a3b8a9bbe0fc1b2f   0.0   34.56"
      ]
     },
     "metadata": {},
     "output_type": "display_data"
    }
   ],
   "source": [
    "display(offer.head(2))\n",
    "display(transaction.head(2))"
   ]
  },
  {
   "cell_type": "code",
   "execution_count": 56,
   "metadata": {
    "ExecuteTime": {
     "end_time": "2020-03-03T05:20:53.077289Z",
     "start_time": "2020-03-03T05:20:52.974115Z"
    }
   },
   "outputs": [
    {
     "data": {
      "text/html": [
       "<div>\n",
       "<style scoped>\n",
       "    .dataframe tbody tr th:only-of-type {\n",
       "        vertical-align: middle;\n",
       "    }\n",
       "\n",
       "    .dataframe tbody tr th {\n",
       "        vertical-align: top;\n",
       "    }\n",
       "\n",
       "    .dataframe thead th {\n",
       "        text-align: right;\n",
       "    }\n",
       "</style>\n",
       "<table border=\"1\" class=\"dataframe\">\n",
       "  <thead>\n",
       "    <tr style=\"text-align: right;\">\n",
       "      <th></th>\n",
       "      <th></th>\n",
       "      <th>time</th>\n",
       "      <th>received</th>\n",
       "      <th>viewed</th>\n",
       "      <th>completed</th>\n",
       "    </tr>\n",
       "    <tr>\n",
       "      <th>customer_id</th>\n",
       "      <th>offer_id</th>\n",
       "      <th></th>\n",
       "      <th></th>\n",
       "      <th></th>\n",
       "      <th></th>\n",
       "    </tr>\n",
       "  </thead>\n",
       "  <tbody>\n",
       "    <tr>\n",
       "      <td rowspan=\"5\" valign=\"top\">0009655768c64bdeb2e877511632db8f</td>\n",
       "      <td>2906b810c7d4411798c6938adc9daaa5</td>\n",
       "      <td>24.00</td>\n",
       "      <td>1</td>\n",
       "      <td>0</td>\n",
       "      <td>1</td>\n",
       "    </tr>\n",
       "    <tr>\n",
       "      <td>3f207df678b143eea3cee63160fa8bed</td>\n",
       "      <td>15.50</td>\n",
       "      <td>1</td>\n",
       "      <td>1</td>\n",
       "      <td>0</td>\n",
       "    </tr>\n",
       "    <tr>\n",
       "      <td>5a8bc65990b245e5a138643cd4eb9837</td>\n",
       "      <td>8.00</td>\n",
       "      <td>1</td>\n",
       "      <td>1</td>\n",
       "      <td>0</td>\n",
       "    </tr>\n",
       "    <tr>\n",
       "      <td>f19421c1d4aa40978ebb69ca19b0e20d</td>\n",
       "      <td>19.00</td>\n",
       "      <td>1</td>\n",
       "      <td>1</td>\n",
       "      <td>1</td>\n",
       "    </tr>\n",
       "    <tr>\n",
       "      <td>fafdcd668e3743c1bb461111dcafc2a4</td>\n",
       "      <td>22.50</td>\n",
       "      <td>1</td>\n",
       "      <td>1</td>\n",
       "      <td>1</td>\n",
       "    </tr>\n",
       "    <tr>\n",
       "      <td>...</td>\n",
       "      <td>...</td>\n",
       "      <td>...</td>\n",
       "      <td>...</td>\n",
       "      <td>...</td>\n",
       "      <td>...</td>\n",
       "    </tr>\n",
       "    <tr>\n",
       "      <td>fffad4f4828548d1b5583907f2e9906b</td>\n",
       "      <td>f19421c1d4aa40978ebb69ca19b0e20d</td>\n",
       "      <td>21.50</td>\n",
       "      <td>2</td>\n",
       "      <td>2</td>\n",
       "      <td>2</td>\n",
       "    </tr>\n",
       "    <tr>\n",
       "      <td rowspan=\"4\" valign=\"top\">ffff82501cea40309d5fdd7edcca4a07</td>\n",
       "      <td>0b1e1539f2cc45b7b9fa7c272da2e1d7</td>\n",
       "      <td>8.25</td>\n",
       "      <td>1</td>\n",
       "      <td>1</td>\n",
       "      <td>1</td>\n",
       "    </tr>\n",
       "    <tr>\n",
       "      <td>2906b810c7d4411798c6938adc9daaa5</td>\n",
       "      <td>24.25</td>\n",
       "      <td>3</td>\n",
       "      <td>3</td>\n",
       "      <td>3</td>\n",
       "    </tr>\n",
       "    <tr>\n",
       "      <td>9b98b8c7a33c4b65b9aebfe6a799e6d9</td>\n",
       "      <td>22.25</td>\n",
       "      <td>1</td>\n",
       "      <td>1</td>\n",
       "      <td>1</td>\n",
       "    </tr>\n",
       "    <tr>\n",
       "      <td>fafdcd668e3743c1bb461111dcafc2a4</td>\n",
       "      <td>2.50</td>\n",
       "      <td>1</td>\n",
       "      <td>1</td>\n",
       "      <td>1</td>\n",
       "    </tr>\n",
       "  </tbody>\n",
       "</table>\n",
       "<p>63288 rows × 4 columns</p>\n",
       "</div>"
      ],
      "text/plain": [
       "                                                                    time  \\\n",
       "customer_id                      offer_id                                  \n",
       "0009655768c64bdeb2e877511632db8f 2906b810c7d4411798c6938adc9daaa5  24.00   \n",
       "                                 3f207df678b143eea3cee63160fa8bed  15.50   \n",
       "                                 5a8bc65990b245e5a138643cd4eb9837   8.00   \n",
       "                                 f19421c1d4aa40978ebb69ca19b0e20d  19.00   \n",
       "                                 fafdcd668e3743c1bb461111dcafc2a4  22.50   \n",
       "...                                                                  ...   \n",
       "fffad4f4828548d1b5583907f2e9906b f19421c1d4aa40978ebb69ca19b0e20d  21.50   \n",
       "ffff82501cea40309d5fdd7edcca4a07 0b1e1539f2cc45b7b9fa7c272da2e1d7   8.25   \n",
       "                                 2906b810c7d4411798c6938adc9daaa5  24.25   \n",
       "                                 9b98b8c7a33c4b65b9aebfe6a799e6d9  22.25   \n",
       "                                 fafdcd668e3743c1bb461111dcafc2a4   2.50   \n",
       "\n",
       "                                                                   received  \\\n",
       "customer_id                      offer_id                                     \n",
       "0009655768c64bdeb2e877511632db8f 2906b810c7d4411798c6938adc9daaa5         1   \n",
       "                                 3f207df678b143eea3cee63160fa8bed         1   \n",
       "                                 5a8bc65990b245e5a138643cd4eb9837         1   \n",
       "                                 f19421c1d4aa40978ebb69ca19b0e20d         1   \n",
       "                                 fafdcd668e3743c1bb461111dcafc2a4         1   \n",
       "...                                                                     ...   \n",
       "fffad4f4828548d1b5583907f2e9906b f19421c1d4aa40978ebb69ca19b0e20d         2   \n",
       "ffff82501cea40309d5fdd7edcca4a07 0b1e1539f2cc45b7b9fa7c272da2e1d7         1   \n",
       "                                 2906b810c7d4411798c6938adc9daaa5         3   \n",
       "                                 9b98b8c7a33c4b65b9aebfe6a799e6d9         1   \n",
       "                                 fafdcd668e3743c1bb461111dcafc2a4         1   \n",
       "\n",
       "                                                                   viewed  \\\n",
       "customer_id                      offer_id                                   \n",
       "0009655768c64bdeb2e877511632db8f 2906b810c7d4411798c6938adc9daaa5       0   \n",
       "                                 3f207df678b143eea3cee63160fa8bed       1   \n",
       "                                 5a8bc65990b245e5a138643cd4eb9837       1   \n",
       "                                 f19421c1d4aa40978ebb69ca19b0e20d       1   \n",
       "                                 fafdcd668e3743c1bb461111dcafc2a4       1   \n",
       "...                                                                   ...   \n",
       "fffad4f4828548d1b5583907f2e9906b f19421c1d4aa40978ebb69ca19b0e20d       2   \n",
       "ffff82501cea40309d5fdd7edcca4a07 0b1e1539f2cc45b7b9fa7c272da2e1d7       1   \n",
       "                                 2906b810c7d4411798c6938adc9daaa5       3   \n",
       "                                 9b98b8c7a33c4b65b9aebfe6a799e6d9       1   \n",
       "                                 fafdcd668e3743c1bb461111dcafc2a4       1   \n",
       "\n",
       "                                                                   completed  \n",
       "customer_id                      offer_id                                     \n",
       "0009655768c64bdeb2e877511632db8f 2906b810c7d4411798c6938adc9daaa5          1  \n",
       "                                 3f207df678b143eea3cee63160fa8bed          0  \n",
       "                                 5a8bc65990b245e5a138643cd4eb9837          0  \n",
       "                                 f19421c1d4aa40978ebb69ca19b0e20d          1  \n",
       "                                 fafdcd668e3743c1bb461111dcafc2a4          1  \n",
       "...                                                                      ...  \n",
       "fffad4f4828548d1b5583907f2e9906b f19421c1d4aa40978ebb69ca19b0e20d          2  \n",
       "ffff82501cea40309d5fdd7edcca4a07 0b1e1539f2cc45b7b9fa7c272da2e1d7          1  \n",
       "                                 2906b810c7d4411798c6938adc9daaa5          3  \n",
       "                                 9b98b8c7a33c4b65b9aebfe6a799e6d9          1  \n",
       "                                 fafdcd668e3743c1bb461111dcafc2a4          1  \n",
       "\n",
       "[63288 rows x 4 columns]"
      ]
     },
     "execution_count": 56,
     "metadata": {},
     "output_type": "execute_result"
    }
   ],
   "source": [
    "transcript.groupby(['customer_id','offer_id']).agg({\n",
    "                                                 'time':'last',\n",
    "                                                  'received':'sum',\n",
    "                                                  'viewed':'sum',\n",
    "                                                  'completed':'sum'\n",
    "                                                 })"
   ]
  },
  {
   "cell_type": "markdown",
   "metadata": {},
   "source": [
    "## Combine Data"
   ]
  },
  {
   "cell_type": "markdown",
   "metadata": {
    "ExecuteTime": {
     "end_time": "2020-03-06T21:29:10.126883Z",
     "start_time": "2020-03-06T21:29:10.124028Z"
    }
   },
   "source": [
    "### Combine data"
   ]
  },
  {
   "cell_type": "code",
   "execution_count": 411,
   "metadata": {
    "ExecuteTime": {
     "end_time": "2020-03-06T21:29:28.117106Z",
     "start_time": "2020-03-06T21:29:25.063762Z"
    }
   },
   "outputs": [],
   "source": [
    "# Read and process data\n",
    "portfolio = helper.process_portfolio('../data/external/portfolio.json')\n",
    "profile = helper.process_profile('../data/external/profile.json')\n",
    "offer,transaction = helper.process_transcript('../data/external/transcript.json')"
   ]
  },
  {
   "cell_type": "code",
   "execution_count": 412,
   "metadata": {
    "ExecuteTime": {
     "end_time": "2020-03-06T21:29:28.531210Z",
     "start_time": "2020-03-06T21:29:28.509131Z"
    }
   },
   "outputs": [
    {
     "data": {
      "text/html": [
       "<div>\n",
       "<style scoped>\n",
       "    .dataframe tbody tr th:only-of-type {\n",
       "        vertical-align: middle;\n",
       "    }\n",
       "\n",
       "    .dataframe tbody tr th {\n",
       "        vertical-align: top;\n",
       "    }\n",
       "\n",
       "    .dataframe thead th {\n",
       "        text-align: right;\n",
       "    }\n",
       "</style>\n",
       "<table border=\"1\" class=\"dataframe\">\n",
       "  <thead>\n",
       "    <tr style=\"text-align: right;\">\n",
       "      <th></th>\n",
       "      <th>reward</th>\n",
       "      <th>difficulty</th>\n",
       "      <th>duration</th>\n",
       "      <th>offer_type</th>\n",
       "      <th>offer_id</th>\n",
       "      <th>email</th>\n",
       "      <th>mobile</th>\n",
       "      <th>social</th>\n",
       "      <th>web</th>\n",
       "    </tr>\n",
       "  </thead>\n",
       "  <tbody>\n",
       "    <tr>\n",
       "      <td>0</td>\n",
       "      <td>10</td>\n",
       "      <td>10</td>\n",
       "      <td>7</td>\n",
       "      <td>bogo</td>\n",
       "      <td>ae264e3637204a6fb9bb56bc8210ddfd</td>\n",
       "      <td>1</td>\n",
       "      <td>1</td>\n",
       "      <td>1</td>\n",
       "      <td>0</td>\n",
       "    </tr>\n",
       "  </tbody>\n",
       "</table>\n",
       "</div>"
      ],
      "text/plain": [
       "   reward  difficulty  duration offer_type                          offer_id  \\\n",
       "0      10          10         7       bogo  ae264e3637204a6fb9bb56bc8210ddfd   \n",
       "\n",
       "   email  mobile  social  web  \n",
       "0      1       1       1    0  "
      ]
     },
     "metadata": {},
     "output_type": "display_data"
    },
    {
     "data": {
      "text/html": [
       "<div>\n",
       "<style scoped>\n",
       "    .dataframe tbody tr th:only-of-type {\n",
       "        vertical-align: middle;\n",
       "    }\n",
       "\n",
       "    .dataframe tbody tr th {\n",
       "        vertical-align: top;\n",
       "    }\n",
       "\n",
       "    .dataframe thead th {\n",
       "        text-align: right;\n",
       "    }\n",
       "</style>\n",
       "<table border=\"1\" class=\"dataframe\">\n",
       "  <thead>\n",
       "    <tr style=\"text-align: right;\">\n",
       "      <th></th>\n",
       "      <th>gender</th>\n",
       "      <th>age</th>\n",
       "      <th>customer_id</th>\n",
       "      <th>became_member_on</th>\n",
       "      <th>income</th>\n",
       "      <th>became_member_on_dayofweek</th>\n",
       "      <th>became_member_on_year</th>\n",
       "      <th>became_member_on_month</th>\n",
       "      <th>10's</th>\n",
       "      <th>20's</th>\n",
       "      <th>30's</th>\n",
       "      <th>40's</th>\n",
       "      <th>50's</th>\n",
       "      <th>60's</th>\n",
       "      <th>70's</th>\n",
       "      <th>80's</th>\n",
       "      <th>90's</th>\n",
       "      <th>100's</th>\n",
       "    </tr>\n",
       "  </thead>\n",
       "  <tbody>\n",
       "    <tr>\n",
       "      <td>1</td>\n",
       "      <td>0</td>\n",
       "      <td>55</td>\n",
       "      <td>0610b486422d4921ae7d2bf64640c50b</td>\n",
       "      <td>2017-07-15</td>\n",
       "      <td>112000.0</td>\n",
       "      <td>5</td>\n",
       "      <td>2017</td>\n",
       "      <td>7</td>\n",
       "      <td>0</td>\n",
       "      <td>0</td>\n",
       "      <td>0</td>\n",
       "      <td>0</td>\n",
       "      <td>1</td>\n",
       "      <td>0</td>\n",
       "      <td>0</td>\n",
       "      <td>0</td>\n",
       "      <td>0</td>\n",
       "      <td>0</td>\n",
       "    </tr>\n",
       "  </tbody>\n",
       "</table>\n",
       "</div>"
      ],
      "text/plain": [
       "   gender  age                       customer_id became_member_on    income  \\\n",
       "1       0   55  0610b486422d4921ae7d2bf64640c50b       2017-07-15  112000.0   \n",
       "\n",
       "   became_member_on_dayofweek  became_member_on_year  became_member_on_month  \\\n",
       "1                           5                   2017                       7   \n",
       "\n",
       "   10's  20's  30's  40's  50's  60's  70's  80's  90's  100's  \n",
       "1     0     0     0     0     1     0     0     0     0      0  "
      ]
     },
     "metadata": {},
     "output_type": "display_data"
    },
    {
     "data": {
      "text/html": [
       "<div>\n",
       "<style scoped>\n",
       "    .dataframe tbody tr th:only-of-type {\n",
       "        vertical-align: middle;\n",
       "    }\n",
       "\n",
       "    .dataframe tbody tr th {\n",
       "        vertical-align: top;\n",
       "    }\n",
       "\n",
       "    .dataframe thead th {\n",
       "        text-align: right;\n",
       "    }\n",
       "</style>\n",
       "<table border=\"1\" class=\"dataframe\">\n",
       "  <thead>\n",
       "    <tr style=\"text-align: right;\">\n",
       "      <th></th>\n",
       "      <th>event</th>\n",
       "      <th>offer_id</th>\n",
       "      <th>customer_id</th>\n",
       "      <th>time</th>\n",
       "      <th>received</th>\n",
       "      <th>viewed</th>\n",
       "      <th>completed</th>\n",
       "    </tr>\n",
       "  </thead>\n",
       "  <tbody>\n",
       "    <tr>\n",
       "      <td>0</td>\n",
       "      <td>offer received</td>\n",
       "      <td>9b98b8c7a33c4b65b9aebfe6a799e6d9</td>\n",
       "      <td>78afa995795e4d85b5d9ceeca43f5fef</td>\n",
       "      <td>0.0</td>\n",
       "      <td>1</td>\n",
       "      <td>0</td>\n",
       "      <td>0</td>\n",
       "    </tr>\n",
       "  </tbody>\n",
       "</table>\n",
       "</div>"
      ],
      "text/plain": [
       "            event                          offer_id  \\\n",
       "0  offer received  9b98b8c7a33c4b65b9aebfe6a799e6d9   \n",
       "\n",
       "                        customer_id  time  received  viewed  completed  \n",
       "0  78afa995795e4d85b5d9ceeca43f5fef   0.0         1       0          0  "
      ]
     },
     "metadata": {},
     "output_type": "display_data"
    },
    {
     "data": {
      "text/html": [
       "<div>\n",
       "<style scoped>\n",
       "    .dataframe tbody tr th:only-of-type {\n",
       "        vertical-align: middle;\n",
       "    }\n",
       "\n",
       "    .dataframe tbody tr th {\n",
       "        vertical-align: top;\n",
       "    }\n",
       "\n",
       "    .dataframe thead th {\n",
       "        text-align: right;\n",
       "    }\n",
       "</style>\n",
       "<table border=\"1\" class=\"dataframe\">\n",
       "  <thead>\n",
       "    <tr style=\"text-align: right;\">\n",
       "      <th></th>\n",
       "      <th>customer_id</th>\n",
       "      <th>time</th>\n",
       "      <th>amount</th>\n",
       "    </tr>\n",
       "  </thead>\n",
       "  <tbody>\n",
       "    <tr>\n",
       "      <td>12654</td>\n",
       "      <td>02c083884c7d45b39cc68e1314fec56c</td>\n",
       "      <td>0.0</td>\n",
       "      <td>0.83</td>\n",
       "    </tr>\n",
       "  </tbody>\n",
       "</table>\n",
       "</div>"
      ],
      "text/plain": [
       "                            customer_id  time  amount\n",
       "12654  02c083884c7d45b39cc68e1314fec56c   0.0    0.83"
      ]
     },
     "metadata": {},
     "output_type": "display_data"
    }
   ],
   "source": [
    "# Check dataset\n",
    "display(portfolio.head(1))\n",
    "display(profile.head(1))\n",
    "display(offer.head(1))\n",
    "display(transaction.head(1))"
   ]
  },
  {
   "cell_type": "markdown",
   "metadata": {},
   "source": [
    "We care more about whether the offer was successful. Therefore we only combin offer, portfolio, and profile data."
   ]
  },
  {
   "cell_type": "code",
   "execution_count": 413,
   "metadata": {
    "ExecuteTime": {
     "end_time": "2020-03-06T21:29:29.035769Z",
     "start_time": "2020-03-06T21:29:28.920606Z"
    }
   },
   "outputs": [],
   "source": [
    "merge_df_1 = pd.merge(offer,portfolio,how='inner',on = 'offer_id')\n",
    "merge_df = pd.merge(merge_df_1,profile,how='inner',on = 'customer_id')"
   ]
  },
  {
   "cell_type": "code",
   "execution_count": 414,
   "metadata": {
    "ExecuteTime": {
     "end_time": "2020-03-06T21:29:29.634058Z",
     "start_time": "2020-03-06T21:29:29.630875Z"
    }
   },
   "outputs": [
    {
     "data": {
      "text/plain": [
       "(146615, 32)"
      ]
     },
     "execution_count": 414,
     "metadata": {},
     "output_type": "execute_result"
    }
   ],
   "source": [
    "merge_df.shape"
   ]
  },
  {
   "cell_type": "code",
   "execution_count": 415,
   "metadata": {
    "ExecuteTime": {
     "end_time": "2020-03-06T21:29:30.249763Z",
     "start_time": "2020-03-06T21:29:30.237058Z"
    }
   },
   "outputs": [
    {
     "data": {
      "text/html": [
       "<div>\n",
       "<style scoped>\n",
       "    .dataframe tbody tr th:only-of-type {\n",
       "        vertical-align: middle;\n",
       "    }\n",
       "\n",
       "    .dataframe tbody tr th {\n",
       "        vertical-align: top;\n",
       "    }\n",
       "\n",
       "    .dataframe thead th {\n",
       "        text-align: right;\n",
       "    }\n",
       "</style>\n",
       "<table border=\"1\" class=\"dataframe\">\n",
       "  <thead>\n",
       "    <tr style=\"text-align: right;\">\n",
       "      <th></th>\n",
       "      <th>event</th>\n",
       "      <th>offer_id</th>\n",
       "      <th>customer_id</th>\n",
       "      <th>time</th>\n",
       "      <th>received</th>\n",
       "      <th>viewed</th>\n",
       "      <th>completed</th>\n",
       "      <th>reward</th>\n",
       "      <th>difficulty</th>\n",
       "      <th>duration</th>\n",
       "      <th>...</th>\n",
       "      <th>10's</th>\n",
       "      <th>20's</th>\n",
       "      <th>30's</th>\n",
       "      <th>40's</th>\n",
       "      <th>50's</th>\n",
       "      <th>60's</th>\n",
       "      <th>70's</th>\n",
       "      <th>80's</th>\n",
       "      <th>90's</th>\n",
       "      <th>100's</th>\n",
       "    </tr>\n",
       "  </thead>\n",
       "  <tbody>\n",
       "    <tr>\n",
       "      <td>0</td>\n",
       "      <td>offer received</td>\n",
       "      <td>9b98b8c7a33c4b65b9aebfe6a799e6d9</td>\n",
       "      <td>78afa995795e4d85b5d9ceeca43f5fef</td>\n",
       "      <td>0.00</td>\n",
       "      <td>1</td>\n",
       "      <td>0</td>\n",
       "      <td>0</td>\n",
       "      <td>5</td>\n",
       "      <td>5</td>\n",
       "      <td>7</td>\n",
       "      <td>...</td>\n",
       "      <td>0</td>\n",
       "      <td>0</td>\n",
       "      <td>0</td>\n",
       "      <td>0</td>\n",
       "      <td>0</td>\n",
       "      <td>0</td>\n",
       "      <td>1</td>\n",
       "      <td>0</td>\n",
       "      <td>0</td>\n",
       "      <td>0</td>\n",
       "    </tr>\n",
       "    <tr>\n",
       "      <td>1</td>\n",
       "      <td>offer viewed</td>\n",
       "      <td>9b98b8c7a33c4b65b9aebfe6a799e6d9</td>\n",
       "      <td>78afa995795e4d85b5d9ceeca43f5fef</td>\n",
       "      <td>0.25</td>\n",
       "      <td>0</td>\n",
       "      <td>1</td>\n",
       "      <td>0</td>\n",
       "      <td>5</td>\n",
       "      <td>5</td>\n",
       "      <td>7</td>\n",
       "      <td>...</td>\n",
       "      <td>0</td>\n",
       "      <td>0</td>\n",
       "      <td>0</td>\n",
       "      <td>0</td>\n",
       "      <td>0</td>\n",
       "      <td>0</td>\n",
       "      <td>1</td>\n",
       "      <td>0</td>\n",
       "      <td>0</td>\n",
       "      <td>0</td>\n",
       "    </tr>\n",
       "    <tr>\n",
       "      <td>2</td>\n",
       "      <td>offer completed</td>\n",
       "      <td>9b98b8c7a33c4b65b9aebfe6a799e6d9</td>\n",
       "      <td>78afa995795e4d85b5d9ceeca43f5fef</td>\n",
       "      <td>5.50</td>\n",
       "      <td>0</td>\n",
       "      <td>0</td>\n",
       "      <td>1</td>\n",
       "      <td>5</td>\n",
       "      <td>5</td>\n",
       "      <td>7</td>\n",
       "      <td>...</td>\n",
       "      <td>0</td>\n",
       "      <td>0</td>\n",
       "      <td>0</td>\n",
       "      <td>0</td>\n",
       "      <td>0</td>\n",
       "      <td>0</td>\n",
       "      <td>1</td>\n",
       "      <td>0</td>\n",
       "      <td>0</td>\n",
       "      <td>0</td>\n",
       "    </tr>\n",
       "    <tr>\n",
       "      <td>3</td>\n",
       "      <td>offer received</td>\n",
       "      <td>f19421c1d4aa40978ebb69ca19b0e20d</td>\n",
       "      <td>78afa995795e4d85b5d9ceeca43f5fef</td>\n",
       "      <td>21.00</td>\n",
       "      <td>1</td>\n",
       "      <td>0</td>\n",
       "      <td>0</td>\n",
       "      <td>5</td>\n",
       "      <td>5</td>\n",
       "      <td>5</td>\n",
       "      <td>...</td>\n",
       "      <td>0</td>\n",
       "      <td>0</td>\n",
       "      <td>0</td>\n",
       "      <td>0</td>\n",
       "      <td>0</td>\n",
       "      <td>0</td>\n",
       "      <td>1</td>\n",
       "      <td>0</td>\n",
       "      <td>0</td>\n",
       "      <td>0</td>\n",
       "    </tr>\n",
       "    <tr>\n",
       "      <td>4</td>\n",
       "      <td>offer completed</td>\n",
       "      <td>f19421c1d4aa40978ebb69ca19b0e20d</td>\n",
       "      <td>78afa995795e4d85b5d9ceeca43f5fef</td>\n",
       "      <td>21.25</td>\n",
       "      <td>0</td>\n",
       "      <td>0</td>\n",
       "      <td>1</td>\n",
       "      <td>5</td>\n",
       "      <td>5</td>\n",
       "      <td>5</td>\n",
       "      <td>...</td>\n",
       "      <td>0</td>\n",
       "      <td>0</td>\n",
       "      <td>0</td>\n",
       "      <td>0</td>\n",
       "      <td>0</td>\n",
       "      <td>0</td>\n",
       "      <td>1</td>\n",
       "      <td>0</td>\n",
       "      <td>0</td>\n",
       "      <td>0</td>\n",
       "    </tr>\n",
       "  </tbody>\n",
       "</table>\n",
       "<p>5 rows × 32 columns</p>\n",
       "</div>"
      ],
      "text/plain": [
       "             event                          offer_id  \\\n",
       "0   offer received  9b98b8c7a33c4b65b9aebfe6a799e6d9   \n",
       "1     offer viewed  9b98b8c7a33c4b65b9aebfe6a799e6d9   \n",
       "2  offer completed  9b98b8c7a33c4b65b9aebfe6a799e6d9   \n",
       "3   offer received  f19421c1d4aa40978ebb69ca19b0e20d   \n",
       "4  offer completed  f19421c1d4aa40978ebb69ca19b0e20d   \n",
       "\n",
       "                        customer_id   time  received  viewed  completed  \\\n",
       "0  78afa995795e4d85b5d9ceeca43f5fef   0.00         1       0          0   \n",
       "1  78afa995795e4d85b5d9ceeca43f5fef   0.25         0       1          0   \n",
       "2  78afa995795e4d85b5d9ceeca43f5fef   5.50         0       0          1   \n",
       "3  78afa995795e4d85b5d9ceeca43f5fef  21.00         1       0          0   \n",
       "4  78afa995795e4d85b5d9ceeca43f5fef  21.25         0       0          1   \n",
       "\n",
       "   reward  difficulty  duration  ... 10's  20's  30's  40's  50's  60's  70's  \\\n",
       "0       5           5         7  ...    0     0     0     0     0     0     1   \n",
       "1       5           5         7  ...    0     0     0     0     0     0     1   \n",
       "2       5           5         7  ...    0     0     0     0     0     0     1   \n",
       "3       5           5         5  ...    0     0     0     0     0     0     1   \n",
       "4       5           5         5  ...    0     0     0     0     0     0     1   \n",
       "\n",
       "  80's  90's  100's  \n",
       "0    0     0      0  \n",
       "1    0     0      0  \n",
       "2    0     0      0  \n",
       "3    0     0      0  \n",
       "4    0     0      0  \n",
       "\n",
       "[5 rows x 32 columns]"
      ]
     },
     "execution_count": 415,
     "metadata": {},
     "output_type": "execute_result"
    }
   ],
   "source": [
    "merge_df.head()"
   ]
  },
  {
   "cell_type": "code",
   "execution_count": 417,
   "metadata": {
    "ExecuteTime": {
     "end_time": "2020-03-06T21:31:07.642215Z",
     "start_time": "2020-03-06T21:31:07.433623Z"
    }
   },
   "outputs": [],
   "source": [
    "received = merge_df[merge_df.event == 'offer received']\n",
    "viewed = merge_df[merge_df.event == 'offer viewed']\n",
    "completed = merge_df[merge_df.event == 'offer completed']"
   ]
  },
  {
   "cell_type": "markdown",
   "metadata": {},
   "source": [
    "### Feature Engineering"
   ]
  },
  {
   "cell_type": "code",
   "execution_count": 418,
   "metadata": {
    "ExecuteTime": {
     "end_time": "2020-03-06T21:59:32.065199Z",
     "start_time": "2020-03-06T21:31:08.535245Z"
    }
   },
   "outputs": [
    {
     "data": {
      "application/vnd.jupyter.widget-view+json": {
       "model_id": "e91520d88f0544c0be4bb777c80a92e8",
       "version_major": 2,
       "version_minor": 0
      },
      "text/plain": [
       "HBox(children=(IntProgress(value=0, max=65585), HTML(value='')))"
      ]
     },
     "metadata": {},
     "output_type": "display_data"
    },
    {
     "name": "stdout",
     "output_type": "stream",
     "text": [
      "\n"
     ]
    }
   ],
   "source": [
    "# add compete, view, and success flags\n",
    "from tqdm import tqdm_notebook\n",
    "results = list()\n",
    "for idx, row in tqdm_notebook(received.iterrows(), total=received.shape[0]):\n",
    "    record = dict()\n",
    "    \n",
    "    # Identify the record\n",
    "    record['time'] = row.time\n",
    "    record['offer_id'] = row.offer_id\n",
    "    record['customer_id'] = row.customer_id\n",
    "\n",
    "    record['expected_finish'] = row.time + row.duration\n",
    "    completion = completed[(completed.offer_id == row.offer_id) &\n",
    "                           (completed.customer_id == row.customer_id) &\n",
    "                           (completed.time >= row.time) &\n",
    "                           (completed.time <= record['expected_finish'])]\n",
    "    \n",
    "    views = viewed[(viewed.offer_id == row.offer_id) &\n",
    "                   (viewed.customer_id == row.customer_id) &\n",
    "                   (viewed.time >= row.time) &\n",
    "                   (viewed.time <= record['expected_finish'])]\n",
    "    \n",
    "    if completion.shape[0] > 0:\n",
    "        record['offer_completed'] = 1\n",
    "        record['finish_time'] = completion.time.iloc[0]\n",
    "    else:\n",
    "        record['offer_completed'] = 0\n",
    "        record['finish_time'] = record['expected_finish']\n",
    "        \n",
    "    if views.shape[0] > 0:\n",
    "        record['offer_viewed'] = 1\n",
    "        record['view_time'] = views.time.iloc[0]\n",
    "        if (record['finish_time'] <= record['expected_finish']) and  (record['offer_completed'] == 1):\n",
    "            record['success'] = 1\n",
    "        else:\n",
    "            record['success'] = 0\n",
    "    else:\n",
    "        record['offer_viewed'] = 0\n",
    "        record['view_time'] = np.nan\n",
    "        record['success'] = 0\n",
    "\n",
    "    results.append(record)\n",
    "    \n",
    "received_processed = received.merge(pd.DataFrame(results), on=['time', 'offer_id','customer_id'],\n",
    "                          how='left')"
   ]
  },
  {
   "cell_type": "code",
   "execution_count": 419,
   "metadata": {
    "ExecuteTime": {
     "end_time": "2020-03-06T21:59:33.339682Z",
     "start_time": "2020-03-06T21:59:33.321407Z"
    }
   },
   "outputs": [
    {
     "data": {
      "text/html": [
       "<div>\n",
       "<style scoped>\n",
       "    .dataframe tbody tr th:only-of-type {\n",
       "        vertical-align: middle;\n",
       "    }\n",
       "\n",
       "    .dataframe tbody tr th {\n",
       "        vertical-align: top;\n",
       "    }\n",
       "\n",
       "    .dataframe thead th {\n",
       "        text-align: right;\n",
       "    }\n",
       "</style>\n",
       "<table border=\"1\" class=\"dataframe\">\n",
       "  <thead>\n",
       "    <tr style=\"text-align: right;\">\n",
       "      <th></th>\n",
       "      <th>event</th>\n",
       "      <th>offer_id</th>\n",
       "      <th>customer_id</th>\n",
       "      <th>time</th>\n",
       "      <th>received</th>\n",
       "      <th>viewed</th>\n",
       "      <th>completed</th>\n",
       "      <th>reward</th>\n",
       "      <th>difficulty</th>\n",
       "      <th>duration</th>\n",
       "      <th>...</th>\n",
       "      <th>70's</th>\n",
       "      <th>80's</th>\n",
       "      <th>90's</th>\n",
       "      <th>100's</th>\n",
       "      <th>expected_finish</th>\n",
       "      <th>offer_completed</th>\n",
       "      <th>finish_time</th>\n",
       "      <th>offer_viewed</th>\n",
       "      <th>view_time</th>\n",
       "      <th>success</th>\n",
       "    </tr>\n",
       "  </thead>\n",
       "  <tbody>\n",
       "    <tr>\n",
       "      <td>0</td>\n",
       "      <td>offer received</td>\n",
       "      <td>9b98b8c7a33c4b65b9aebfe6a799e6d9</td>\n",
       "      <td>78afa995795e4d85b5d9ceeca43f5fef</td>\n",
       "      <td>0.0</td>\n",
       "      <td>1</td>\n",
       "      <td>0</td>\n",
       "      <td>0</td>\n",
       "      <td>5</td>\n",
       "      <td>5</td>\n",
       "      <td>7</td>\n",
       "      <td>...</td>\n",
       "      <td>1</td>\n",
       "      <td>0</td>\n",
       "      <td>0</td>\n",
       "      <td>0</td>\n",
       "      <td>7.0</td>\n",
       "      <td>1</td>\n",
       "      <td>5.50</td>\n",
       "      <td>1</td>\n",
       "      <td>0.25</td>\n",
       "      <td>1</td>\n",
       "    </tr>\n",
       "    <tr>\n",
       "      <td>1</td>\n",
       "      <td>offer received</td>\n",
       "      <td>f19421c1d4aa40978ebb69ca19b0e20d</td>\n",
       "      <td>78afa995795e4d85b5d9ceeca43f5fef</td>\n",
       "      <td>21.0</td>\n",
       "      <td>1</td>\n",
       "      <td>0</td>\n",
       "      <td>0</td>\n",
       "      <td>5</td>\n",
       "      <td>5</td>\n",
       "      <td>5</td>\n",
       "      <td>...</td>\n",
       "      <td>1</td>\n",
       "      <td>0</td>\n",
       "      <td>0</td>\n",
       "      <td>0</td>\n",
       "      <td>26.0</td>\n",
       "      <td>1</td>\n",
       "      <td>21.25</td>\n",
       "      <td>1</td>\n",
       "      <td>24.25</td>\n",
       "      <td>1</td>\n",
       "    </tr>\n",
       "    <tr>\n",
       "      <td>2</td>\n",
       "      <td>offer received</td>\n",
       "      <td>ae264e3637204a6fb9bb56bc8210ddfd</td>\n",
       "      <td>78afa995795e4d85b5d9ceeca43f5fef</td>\n",
       "      <td>17.0</td>\n",
       "      <td>1</td>\n",
       "      <td>0</td>\n",
       "      <td>0</td>\n",
       "      <td>10</td>\n",
       "      <td>10</td>\n",
       "      <td>7</td>\n",
       "      <td>...</td>\n",
       "      <td>1</td>\n",
       "      <td>0</td>\n",
       "      <td>0</td>\n",
       "      <td>0</td>\n",
       "      <td>24.0</td>\n",
       "      <td>1</td>\n",
       "      <td>21.25</td>\n",
       "      <td>1</td>\n",
       "      <td>17.00</td>\n",
       "      <td>1</td>\n",
       "    </tr>\n",
       "    <tr>\n",
       "      <td>3</td>\n",
       "      <td>offer received</td>\n",
       "      <td>5a8bc65990b245e5a138643cd4eb9837</td>\n",
       "      <td>78afa995795e4d85b5d9ceeca43f5fef</td>\n",
       "      <td>7.0</td>\n",
       "      <td>1</td>\n",
       "      <td>0</td>\n",
       "      <td>0</td>\n",
       "      <td>0</td>\n",
       "      <td>0</td>\n",
       "      <td>3</td>\n",
       "      <td>...</td>\n",
       "      <td>1</td>\n",
       "      <td>0</td>\n",
       "      <td>0</td>\n",
       "      <td>0</td>\n",
       "      <td>10.0</td>\n",
       "      <td>0</td>\n",
       "      <td>10.00</td>\n",
       "      <td>1</td>\n",
       "      <td>9.00</td>\n",
       "      <td>0</td>\n",
       "    </tr>\n",
       "    <tr>\n",
       "      <td>4</td>\n",
       "      <td>offer received</td>\n",
       "      <td>9b98b8c7a33c4b65b9aebfe6a799e6d9</td>\n",
       "      <td>ebe7ef46ea6f4963a7dd49f501b26779</td>\n",
       "      <td>0.0</td>\n",
       "      <td>1</td>\n",
       "      <td>0</td>\n",
       "      <td>0</td>\n",
       "      <td>5</td>\n",
       "      <td>5</td>\n",
       "      <td>7</td>\n",
       "      <td>...</td>\n",
       "      <td>0</td>\n",
       "      <td>0</td>\n",
       "      <td>0</td>\n",
       "      <td>0</td>\n",
       "      <td>7.0</td>\n",
       "      <td>0</td>\n",
       "      <td>7.00</td>\n",
       "      <td>0</td>\n",
       "      <td>NaN</td>\n",
       "      <td>0</td>\n",
       "    </tr>\n",
       "  </tbody>\n",
       "</table>\n",
       "<p>5 rows × 38 columns</p>\n",
       "</div>"
      ],
      "text/plain": [
       "            event                          offer_id  \\\n",
       "0  offer received  9b98b8c7a33c4b65b9aebfe6a799e6d9   \n",
       "1  offer received  f19421c1d4aa40978ebb69ca19b0e20d   \n",
       "2  offer received  ae264e3637204a6fb9bb56bc8210ddfd   \n",
       "3  offer received  5a8bc65990b245e5a138643cd4eb9837   \n",
       "4  offer received  9b98b8c7a33c4b65b9aebfe6a799e6d9   \n",
       "\n",
       "                        customer_id  time  received  viewed  completed  \\\n",
       "0  78afa995795e4d85b5d9ceeca43f5fef   0.0         1       0          0   \n",
       "1  78afa995795e4d85b5d9ceeca43f5fef  21.0         1       0          0   \n",
       "2  78afa995795e4d85b5d9ceeca43f5fef  17.0         1       0          0   \n",
       "3  78afa995795e4d85b5d9ceeca43f5fef   7.0         1       0          0   \n",
       "4  ebe7ef46ea6f4963a7dd49f501b26779   0.0         1       0          0   \n",
       "\n",
       "   reward  difficulty  duration  ... 70's  80's  90's  100's  expected_finish  \\\n",
       "0       5           5         7  ...    1     0     0      0              7.0   \n",
       "1       5           5         5  ...    1     0     0      0             26.0   \n",
       "2      10          10         7  ...    1     0     0      0             24.0   \n",
       "3       0           0         3  ...    1     0     0      0             10.0   \n",
       "4       5           5         7  ...    0     0     0      0              7.0   \n",
       "\n",
       "   offer_completed  finish_time offer_viewed  view_time  success  \n",
       "0                1         5.50            1       0.25        1  \n",
       "1                1        21.25            1      24.25        1  \n",
       "2                1        21.25            1      17.00        1  \n",
       "3                0        10.00            1       9.00        0  \n",
       "4                0         7.00            0        NaN        0  \n",
       "\n",
       "[5 rows x 38 columns]"
      ]
     },
     "execution_count": 419,
     "metadata": {},
     "output_type": "execute_result"
    }
   ],
   "source": [
    "received_processed.head()"
   ]
  },
  {
   "cell_type": "code",
   "execution_count": 131,
   "metadata": {
    "ExecuteTime": {
     "end_time": "2020-03-04T07:51:02.151051Z",
     "start_time": "2020-03-04T07:51:00.092302Z"
    }
   },
   "outputs": [],
   "source": [
    "received_processed.to_csv('../data/processed/received_processed.csv')"
   ]
  },
  {
   "cell_type": "markdown",
   "metadata": {},
   "source": [
    "### EDA\n",
    "#### correlation"
   ]
  },
  {
   "cell_type": "code",
   "execution_count": 132,
   "metadata": {
    "ExecuteTime": {
     "end_time": "2020-03-04T07:51:28.734882Z",
     "start_time": "2020-03-04T07:51:28.471181Z"
    }
   },
   "outputs": [],
   "source": [
    "received_processed = pd.read_csv('../data/processed/received_processed.csv')"
   ]
  },
  {
   "cell_type": "code",
   "execution_count": 71,
   "metadata": {
    "ExecuteTime": {
     "end_time": "2020-03-04T06:35:50.043510Z",
     "start_time": "2020-03-04T06:35:49.873576Z"
    }
   },
   "outputs": [],
   "source": [
    "corr = received_processed.corr()"
   ]
  },
  {
   "cell_type": "code",
   "execution_count": 72,
   "metadata": {
    "ExecuteTime": {
     "end_time": "2020-03-04T06:35:53.521440Z",
     "start_time": "2020-03-04T06:35:53.129946Z"
    }
   },
   "outputs": [
    {
     "data": {
      "text/plain": [
       "<matplotlib.axes._subplots.AxesSubplot at 0x7f63f4945890>"
      ]
     },
     "execution_count": 72,
     "metadata": {},
     "output_type": "execute_result"
    },
    {
     "data": {
      "image/png": "[encoded data removed]",
      "text/plain": [
       "<Figure size 792x648 with 2 Axes>"
      ]
     },
     "metadata": {
      "needs_background": "light"
     },
     "output_type": "display_data"
    }
   ],
   "source": [
    "f, ax = plt.subplots(figsize=(11, 9))\n",
    "cmap = sns.diverging_palette(220, 10, as_cmap=True)\n",
    "sns.heatmap(corr, cmap=cmap, vmax=.3, center=0,\n",
    "            square=True, linewidths=.5, cbar_kws={\"shrink\": .5})"
   ]
  },
  {
   "cell_type": "markdown",
   "metadata": {},
   "source": [
    "#### customer demographic"
   ]
  },
  {
   "cell_type": "code",
   "execution_count": 365,
   "metadata": {
    "ExecuteTime": {
     "end_time": "2020-02-23T07:08:13.368430Z",
     "start_time": "2020-02-23T07:08:11.101055Z"
    }
   },
   "outputs": [
    {
     "data": {
      "text/plain": [
       "(array([0, 1, 2, 3, 4, 5, 6, 7, 8, 9]), <a list of 10 Text xticklabel objects>)"
      ]
     },
     "execution_count": 365,
     "metadata": {},
     "output_type": "execute_result"
    },
    {
     "data": {
      "image/png": "[encoded data removed]",
      "text/plain": [
       "<Figure size 432x288 with 1 Axes>"
      ]
     },
     "metadata": {
      "needs_background": "light"
     },
     "output_type": "display_data"
    }
   ],
   "source": [
    "sns.violinplot(x='offer_id',y='income',data = merge_df[merge_df['gender'] != 2],split=True,hue=\"gender\",inner=\"quartile\")\n",
    "plt.xticks(rotation=90)"
   ]
  },
  {
   "cell_type": "markdown",
   "metadata": {},
   "source": [
    "#### offer success rate"
   ]
  },
  {
   "cell_type": "code",
   "execution_count": 126,
   "metadata": {
    "ExecuteTime": {
     "end_time": "2020-03-04T07:13:48.655266Z",
     "start_time": "2020-03-04T07:13:48.613364Z"
    }
   },
   "outputs": [],
   "source": [
    "success_count = received_processed[['offer_id','success']].groupby('offer_id').sum().reset_index()\n",
    "offer_count = received_processed[['offer_id','success']].groupby('offer_id').count().reset_index()\n",
    "offer_count.rename(columns={\"success\": \"count\"},inplace=True)\n",
    "success_percent = pd.merge(offer_count, success_count, on=\"offer_id\")\n",
    "success_percent['rate'] = success_percent['success'] / success_percent['count']\n",
    "success_percent = pd.merge(success_percent,portfolio,on=\"offer_id\")\n",
    "success_percent= success_percent.sort_values('rate',ascending=False).reset_index()"
   ]
  },
  {
   "cell_type": "code",
   "execution_count": 128,
   "metadata": {
    "ExecuteTime": {
     "end_time": "2020-03-04T07:13:50.168637Z",
     "start_time": "2020-03-04T07:13:49.942120Z"
    }
   },
   "outputs": [
    {
     "data": {
      "text/plain": [
       "Text(0.5, 0, 'Offer')"
      ]
     },
     "execution_count": 128,
     "metadata": {},
     "output_type": "execute_result"
    },
    {
     "data": {
      "image/png": "[encoded data removed]",
      "text/plain": [
       "<Figure size 720x288 with 2 Axes>"
      ]
     },
     "metadata": {
      "needs_background": "light"
     },
     "output_type": "display_data"
    }
   ],
   "source": [
    "fig, ax = plt.subplots(1,2, figsize=(10,4))\n",
    "sns.barplot(success_percent.index + 1, success_percent['count'], ax=ax[0])\n",
    "sns.lineplot(success_percent.index + 1, success_percent['rate'], ax=ax[1]) \n",
    "ax[0].set_xlabel('Offer')\n",
    "ax[1].set_xlabel('Offer')"
   ]
  },
  {
   "cell_type": "markdown",
   "metadata": {},
   "source": [
    "# Build Model"
   ]
  },
  {
   "cell_type": "markdown",
   "metadata": {},
   "source": [
    "## Choose Model\n",
    "There are several reasons to choose LightGBM as the model to predict the offer success.\n",
    "1. LightGBM is a gradient boosting framework based on tree algorithms.\n",
    "1. It has faster training speed.\n",
    "1. It works great for the dataset contains many categorical data. \n",
    "\n",
    "\n",
    "## Prepare Dataset"
   ]
  },
  {
   "cell_type": "code",
   "execution_count": 74,
   "metadata": {
    "ExecuteTime": {
     "end_time": "2020-03-05T07:19:55.016759Z",
     "start_time": "2020-03-05T07:19:54.734794Z"
    }
   },
   "outputs": [],
   "source": [
    "received_processed = pd.read_csv('../data/processed/received_processed.csv')"
   ]
  },
  {
   "cell_type": "code",
   "execution_count": 75,
   "metadata": {
    "ExecuteTime": {
     "end_time": "2020-03-05T07:19:55.275534Z",
     "start_time": "2020-03-05T07:19:55.271697Z"
    }
   },
   "outputs": [],
   "source": [
    "received_processed['diff_time'] = received_processed['finish_time'] - received_processed['time']"
   ]
  },
  {
   "cell_type": "code",
   "execution_count": 76,
   "metadata": {
    "ExecuteTime": {
     "end_time": "2020-03-05T07:19:55.573258Z",
     "start_time": "2020-03-05T07:19:55.535728Z"
    }
   },
   "outputs": [
    {
     "data": {
      "text/html": [
       "<div>\n",
       "<style scoped>\n",
       "    .dataframe tbody tr th:only-of-type {\n",
       "        vertical-align: middle;\n",
       "    }\n",
       "\n",
       "    .dataframe tbody tr th {\n",
       "        vertical-align: top;\n",
       "    }\n",
       "\n",
       "    .dataframe thead th {\n",
       "        text-align: right;\n",
       "    }\n",
       "</style>\n",
       "<table border=\"1\" class=\"dataframe\">\n",
       "  <thead>\n",
       "    <tr style=\"text-align: right;\">\n",
       "      <th></th>\n",
       "      <th>Unnamed: 0</th>\n",
       "      <th>event</th>\n",
       "      <th>offer_id</th>\n",
       "      <th>customer_id</th>\n",
       "      <th>time</th>\n",
       "      <th>received</th>\n",
       "      <th>viewed</th>\n",
       "      <th>completed</th>\n",
       "      <th>reward</th>\n",
       "      <th>difficulty</th>\n",
       "      <th>...</th>\n",
       "      <th>80's</th>\n",
       "      <th>90's</th>\n",
       "      <th>100's</th>\n",
       "      <th>expected_finish</th>\n",
       "      <th>offer_completed</th>\n",
       "      <th>finish_time</th>\n",
       "      <th>offer_viewed</th>\n",
       "      <th>view_time</th>\n",
       "      <th>success</th>\n",
       "      <th>diff_time</th>\n",
       "    </tr>\n",
       "  </thead>\n",
       "  <tbody>\n",
       "    <tr>\n",
       "      <td>0</td>\n",
       "      <td>0</td>\n",
       "      <td>offer received</td>\n",
       "      <td>9b98b8c7a33c4b65b9aebfe6a799e6d9</td>\n",
       "      <td>78afa995795e4d85b5d9ceeca43f5fef</td>\n",
       "      <td>0.0</td>\n",
       "      <td>1</td>\n",
       "      <td>0</td>\n",
       "      <td>0</td>\n",
       "      <td>5</td>\n",
       "      <td>5</td>\n",
       "      <td>...</td>\n",
       "      <td>0</td>\n",
       "      <td>0</td>\n",
       "      <td>0</td>\n",
       "      <td>7.0</td>\n",
       "      <td>1</td>\n",
       "      <td>5.50</td>\n",
       "      <td>1</td>\n",
       "      <td>0.25</td>\n",
       "      <td>1</td>\n",
       "      <td>5.50</td>\n",
       "    </tr>\n",
       "    <tr>\n",
       "      <td>1</td>\n",
       "      <td>1</td>\n",
       "      <td>offer received</td>\n",
       "      <td>f19421c1d4aa40978ebb69ca19b0e20d</td>\n",
       "      <td>78afa995795e4d85b5d9ceeca43f5fef</td>\n",
       "      <td>21.0</td>\n",
       "      <td>1</td>\n",
       "      <td>0</td>\n",
       "      <td>0</td>\n",
       "      <td>5</td>\n",
       "      <td>5</td>\n",
       "      <td>...</td>\n",
       "      <td>0</td>\n",
       "      <td>0</td>\n",
       "      <td>0</td>\n",
       "      <td>26.0</td>\n",
       "      <td>1</td>\n",
       "      <td>21.25</td>\n",
       "      <td>1</td>\n",
       "      <td>24.25</td>\n",
       "      <td>1</td>\n",
       "      <td>0.25</td>\n",
       "    </tr>\n",
       "    <tr>\n",
       "      <td>2</td>\n",
       "      <td>2</td>\n",
       "      <td>offer received</td>\n",
       "      <td>ae264e3637204a6fb9bb56bc8210ddfd</td>\n",
       "      <td>78afa995795e4d85b5d9ceeca43f5fef</td>\n",
       "      <td>17.0</td>\n",
       "      <td>1</td>\n",
       "      <td>0</td>\n",
       "      <td>0</td>\n",
       "      <td>10</td>\n",
       "      <td>10</td>\n",
       "      <td>...</td>\n",
       "      <td>0</td>\n",
       "      <td>0</td>\n",
       "      <td>0</td>\n",
       "      <td>24.0</td>\n",
       "      <td>1</td>\n",
       "      <td>21.25</td>\n",
       "      <td>1</td>\n",
       "      <td>17.00</td>\n",
       "      <td>1</td>\n",
       "      <td>4.25</td>\n",
       "    </tr>\n",
       "    <tr>\n",
       "      <td>3</td>\n",
       "      <td>3</td>\n",
       "      <td>offer received</td>\n",
       "      <td>5a8bc65990b245e5a138643cd4eb9837</td>\n",
       "      <td>78afa995795e4d85b5d9ceeca43f5fef</td>\n",
       "      <td>7.0</td>\n",
       "      <td>1</td>\n",
       "      <td>0</td>\n",
       "      <td>0</td>\n",
       "      <td>0</td>\n",
       "      <td>0</td>\n",
       "      <td>...</td>\n",
       "      <td>0</td>\n",
       "      <td>0</td>\n",
       "      <td>0</td>\n",
       "      <td>10.0</td>\n",
       "      <td>0</td>\n",
       "      <td>10.00</td>\n",
       "      <td>1</td>\n",
       "      <td>9.00</td>\n",
       "      <td>0</td>\n",
       "      <td>3.00</td>\n",
       "    </tr>\n",
       "    <tr>\n",
       "      <td>4</td>\n",
       "      <td>4</td>\n",
       "      <td>offer received</td>\n",
       "      <td>9b98b8c7a33c4b65b9aebfe6a799e6d9</td>\n",
       "      <td>ebe7ef46ea6f4963a7dd49f501b26779</td>\n",
       "      <td>0.0</td>\n",
       "      <td>1</td>\n",
       "      <td>0</td>\n",
       "      <td>0</td>\n",
       "      <td>5</td>\n",
       "      <td>5</td>\n",
       "      <td>...</td>\n",
       "      <td>0</td>\n",
       "      <td>0</td>\n",
       "      <td>0</td>\n",
       "      <td>7.0</td>\n",
       "      <td>0</td>\n",
       "      <td>7.00</td>\n",
       "      <td>0</td>\n",
       "      <td>NaN</td>\n",
       "      <td>0</td>\n",
       "      <td>7.00</td>\n",
       "    </tr>\n",
       "    <tr>\n",
       "      <td>...</td>\n",
       "      <td>...</td>\n",
       "      <td>...</td>\n",
       "      <td>...</td>\n",
       "      <td>...</td>\n",
       "      <td>...</td>\n",
       "      <td>...</td>\n",
       "      <td>...</td>\n",
       "      <td>...</td>\n",
       "      <td>...</td>\n",
       "      <td>...</td>\n",
       "      <td>...</td>\n",
       "      <td>...</td>\n",
       "      <td>...</td>\n",
       "      <td>...</td>\n",
       "      <td>...</td>\n",
       "      <td>...</td>\n",
       "      <td>...</td>\n",
       "      <td>...</td>\n",
       "      <td>...</td>\n",
       "      <td>...</td>\n",
       "      <td>...</td>\n",
       "    </tr>\n",
       "    <tr>\n",
       "      <td>65580</td>\n",
       "      <td>65580</td>\n",
       "      <td>offer received</td>\n",
       "      <td>5a8bc65990b245e5a138643cd4eb9837</td>\n",
       "      <td>838772a672304524a86cf9b465b9bd5d</td>\n",
       "      <td>14.0</td>\n",
       "      <td>1</td>\n",
       "      <td>0</td>\n",
       "      <td>0</td>\n",
       "      <td>0</td>\n",
       "      <td>0</td>\n",
       "      <td>...</td>\n",
       "      <td>0</td>\n",
       "      <td>0</td>\n",
       "      <td>0</td>\n",
       "      <td>17.0</td>\n",
       "      <td>0</td>\n",
       "      <td>17.00</td>\n",
       "      <td>1</td>\n",
       "      <td>14.75</td>\n",
       "      <td>0</td>\n",
       "      <td>3.00</td>\n",
       "    </tr>\n",
       "    <tr>\n",
       "      <td>65581</td>\n",
       "      <td>65581</td>\n",
       "      <td>offer received</td>\n",
       "      <td>5a8bc65990b245e5a138643cd4eb9837</td>\n",
       "      <td>838772a672304524a86cf9b465b9bd5d</td>\n",
       "      <td>17.0</td>\n",
       "      <td>1</td>\n",
       "      <td>0</td>\n",
       "      <td>0</td>\n",
       "      <td>0</td>\n",
       "      <td>0</td>\n",
       "      <td>...</td>\n",
       "      <td>0</td>\n",
       "      <td>0</td>\n",
       "      <td>0</td>\n",
       "      <td>20.0</td>\n",
       "      <td>0</td>\n",
       "      <td>20.00</td>\n",
       "      <td>1</td>\n",
       "      <td>17.00</td>\n",
       "      <td>0</td>\n",
       "      <td>3.00</td>\n",
       "    </tr>\n",
       "    <tr>\n",
       "      <td>65582</td>\n",
       "      <td>65582</td>\n",
       "      <td>offer received</td>\n",
       "      <td>5a8bc65990b245e5a138643cd4eb9837</td>\n",
       "      <td>d1f3cc62def540c8951561f6da22e88a</td>\n",
       "      <td>17.0</td>\n",
       "      <td>1</td>\n",
       "      <td>0</td>\n",
       "      <td>0</td>\n",
       "      <td>0</td>\n",
       "      <td>0</td>\n",
       "      <td>...</td>\n",
       "      <td>0</td>\n",
       "      <td>0</td>\n",
       "      <td>0</td>\n",
       "      <td>20.0</td>\n",
       "      <td>0</td>\n",
       "      <td>20.00</td>\n",
       "      <td>1</td>\n",
       "      <td>19.25</td>\n",
       "      <td>0</td>\n",
       "      <td>3.00</td>\n",
       "    </tr>\n",
       "    <tr>\n",
       "      <td>65583</td>\n",
       "      <td>65583</td>\n",
       "      <td>offer received</td>\n",
       "      <td>5a8bc65990b245e5a138643cd4eb9837</td>\n",
       "      <td>d1f3cc62def540c8951561f6da22e88a</td>\n",
       "      <td>21.0</td>\n",
       "      <td>1</td>\n",
       "      <td>0</td>\n",
       "      <td>0</td>\n",
       "      <td>0</td>\n",
       "      <td>0</td>\n",
       "      <td>...</td>\n",
       "      <td>0</td>\n",
       "      <td>0</td>\n",
       "      <td>0</td>\n",
       "      <td>24.0</td>\n",
       "      <td>0</td>\n",
       "      <td>24.00</td>\n",
       "      <td>1</td>\n",
       "      <td>23.25</td>\n",
       "      <td>0</td>\n",
       "      <td>3.00</td>\n",
       "    </tr>\n",
       "    <tr>\n",
       "      <td>65584</td>\n",
       "      <td>65584</td>\n",
       "      <td>offer received</td>\n",
       "      <td>5a8bc65990b245e5a138643cd4eb9837</td>\n",
       "      <td>01fe5ec668f241608eb2f7ec374cb1b7</td>\n",
       "      <td>24.0</td>\n",
       "      <td>1</td>\n",
       "      <td>0</td>\n",
       "      <td>0</td>\n",
       "      <td>0</td>\n",
       "      <td>0</td>\n",
       "      <td>...</td>\n",
       "      <td>0</td>\n",
       "      <td>0</td>\n",
       "      <td>0</td>\n",
       "      <td>27.0</td>\n",
       "      <td>0</td>\n",
       "      <td>27.00</td>\n",
       "      <td>1</td>\n",
       "      <td>24.75</td>\n",
       "      <td>0</td>\n",
       "      <td>3.00</td>\n",
       "    </tr>\n",
       "  </tbody>\n",
       "</table>\n",
       "<p>65585 rows × 40 columns</p>\n",
       "</div>"
      ],
      "text/plain": [
       "       Unnamed: 0           event                          offer_id  \\\n",
       "0               0  offer received  9b98b8c7a33c4b65b9aebfe6a799e6d9   \n",
       "1               1  offer received  f19421c1d4aa40978ebb69ca19b0e20d   \n",
       "2               2  offer received  ae264e3637204a6fb9bb56bc8210ddfd   \n",
       "3               3  offer received  5a8bc65990b245e5a138643cd4eb9837   \n",
       "4               4  offer received  9b98b8c7a33c4b65b9aebfe6a799e6d9   \n",
       "...           ...             ...                               ...   \n",
       "65580       65580  offer received  5a8bc65990b245e5a138643cd4eb9837   \n",
       "65581       65581  offer received  5a8bc65990b245e5a138643cd4eb9837   \n",
       "65582       65582  offer received  5a8bc65990b245e5a138643cd4eb9837   \n",
       "65583       65583  offer received  5a8bc65990b245e5a138643cd4eb9837   \n",
       "65584       65584  offer received  5a8bc65990b245e5a138643cd4eb9837   \n",
       "\n",
       "                            customer_id  time  received  viewed  completed  \\\n",
       "0      78afa995795e4d85b5d9ceeca43f5fef   0.0         1       0          0   \n",
       "1      78afa995795e4d85b5d9ceeca43f5fef  21.0         1       0          0   \n",
       "2      78afa995795e4d85b5d9ceeca43f5fef  17.0         1       0          0   \n",
       "3      78afa995795e4d85b5d9ceeca43f5fef   7.0         1       0          0   \n",
       "4      ebe7ef46ea6f4963a7dd49f501b26779   0.0         1       0          0   \n",
       "...                                 ...   ...       ...     ...        ...   \n",
       "65580  838772a672304524a86cf9b465b9bd5d  14.0         1       0          0   \n",
       "65581  838772a672304524a86cf9b465b9bd5d  17.0         1       0          0   \n",
       "65582  d1f3cc62def540c8951561f6da22e88a  17.0         1       0          0   \n",
       "65583  d1f3cc62def540c8951561f6da22e88a  21.0         1       0          0   \n",
       "65584  01fe5ec668f241608eb2f7ec374cb1b7  24.0         1       0          0   \n",
       "\n",
       "       reward  difficulty  ...  80's 90's  100's  expected_finish  \\\n",
       "0           5           5  ...     0    0      0              7.0   \n",
       "1           5           5  ...     0    0      0             26.0   \n",
       "2          10          10  ...     0    0      0             24.0   \n",
       "3           0           0  ...     0    0      0             10.0   \n",
       "4           5           5  ...     0    0      0              7.0   \n",
       "...       ...         ...  ...   ...  ...    ...              ...   \n",
       "65580       0           0  ...     0    0      0             17.0   \n",
       "65581       0           0  ...     0    0      0             20.0   \n",
       "65582       0           0  ...     0    0      0             20.0   \n",
       "65583       0           0  ...     0    0      0             24.0   \n",
       "65584       0           0  ...     0    0      0             27.0   \n",
       "\n",
       "       offer_completed  finish_time  offer_viewed  view_time success  \\\n",
       "0                    1         5.50             1       0.25       1   \n",
       "1                    1        21.25             1      24.25       1   \n",
       "2                    1        21.25             1      17.00       1   \n",
       "3                    0        10.00             1       9.00       0   \n",
       "4                    0         7.00             0        NaN       0   \n",
       "...                ...          ...           ...        ...     ...   \n",
       "65580                0        17.00             1      14.75       0   \n",
       "65581                0        20.00             1      17.00       0   \n",
       "65582                0        20.00             1      19.25       0   \n",
       "65583                0        24.00             1      23.25       0   \n",
       "65584                0        27.00             1      24.75       0   \n",
       "\n",
       "       diff_time  \n",
       "0           5.50  \n",
       "1           0.25  \n",
       "2           4.25  \n",
       "3           3.00  \n",
       "4           7.00  \n",
       "...          ...  \n",
       "65580       3.00  \n",
       "65581       3.00  \n",
       "65582       3.00  \n",
       "65583       3.00  \n",
       "65584       3.00  \n",
       "\n",
       "[65585 rows x 40 columns]"
      ]
     },
     "execution_count": 76,
     "metadata": {},
     "output_type": "execute_result"
    }
   ],
   "source": [
    "received_processed"
   ]
  },
  {
   "cell_type": "code",
   "execution_count": 197,
   "metadata": {
    "ExecuteTime": {
     "end_time": "2020-03-06T04:28:28.648197Z",
     "start_time": "2020-03-06T04:28:28.643515Z"
    }
   },
   "outputs": [],
   "source": [
    "feature_col = ['event', 'offer_id', 'time', 'reward', 'difficulty', \n",
    "                             'duration', 'offer_type', 'email',\n",
    "                               'mobile', 'social', 'web', 'gender', 'age',\n",
    "                               'income', 'became_member_on_dayofweek', 'became_member_on_year',\n",
    "                               'became_member_on_month', 'expected_finish',\n",
    "                               'offer_completed', 'offer_viewed', 'view_time']"
   ]
  },
  {
   "cell_type": "code",
   "execution_count": 370,
   "metadata": {
    "ExecuteTime": {
     "end_time": "2020-03-06T20:28:39.006773Z",
     "start_time": "2020-03-06T20:28:38.999672Z"
    }
   },
   "outputs": [],
   "source": [
    "target = received_processed['success']\n",
    "feature = received_processed[feature_col]"
   ]
  },
  {
   "cell_type": "code",
   "execution_count": 371,
   "metadata": {
    "ExecuteTime": {
     "end_time": "2020-03-06T20:28:39.436968Z",
     "start_time": "2020-03-06T20:28:39.432715Z"
    }
   },
   "outputs": [],
   "source": [
    "dtype={'event':'category',\n",
    "       'offer_id':'category',\n",
    "       'time':'float64',\n",
    "       'reward':'category',\n",
    "       'difficulty':'category',\n",
    "       'duration':'float64',\n",
    "       'offer_type':'category',\n",
    "       'email':'category',\n",
    "       'mobile':'category',\n",
    "       'social':'category',\n",
    "       'web':'category',\n",
    "       'gender':'category',\n",
    "       'age':'int64',\n",
    "       'income':'float64',\n",
    "       'became_member_on_dayofweek':'category',\n",
    "       'became_member_on_year':'category',\n",
    "       'became_member_on_month':'category',\n",
    "       'expected_finish':'float64',\n",
    "       'offer_completed':'category',\n",
    "       'offer_viewed':'category',\n",
    "       'view_time':'float64'\n",
    "      }"
   ]
  },
  {
   "cell_type": "code",
   "execution_count": 394,
   "metadata": {
    "ExecuteTime": {
     "end_time": "2020-03-06T20:30:24.253361Z",
     "start_time": "2020-03-06T20:30:24.244733Z"
    }
   },
   "outputs": [],
   "source": [
    "feature = feature.astype(dtype)\n",
    "target = target.astype('bool')\n",
    "categorical_features = [key  for (key, value) in dtype.items() if value == 'category']"
   ]
  },
  {
   "cell_type": "code",
   "execution_count": 395,
   "metadata": {
    "ExecuteTime": {
     "end_time": "2020-03-06T20:30:24.709861Z",
     "start_time": "2020-03-06T20:30:24.672527Z"
    }
   },
   "outputs": [],
   "source": [
    "mm_scaler = MinMaxScaler()\n",
    "feature[numrical_col] = mm_scaler.fit_transform(feature[numrical_col])"
   ]
  },
  {
   "cell_type": "code",
   "execution_count": 396,
   "metadata": {
    "ExecuteTime": {
     "end_time": "2020-03-06T20:30:25.159797Z",
     "start_time": "2020-03-06T20:30:25.100954Z"
    }
   },
   "outputs": [],
   "source": [
    "X_train, X_test, y_train, y_test = train_test_split(feature, target, test_size=0.2, random_state=42, stratify=target)\n",
    "X_train, X_val, y_train, y_val = train_test_split(X_train, y_train, test_size=0.2, random_state=42,stratify=y_train)\n"
   ]
  },
  {
   "cell_type": "markdown",
   "metadata": {},
   "source": [
    "## Build model"
   ]
  },
  {
   "cell_type": "code",
   "execution_count": 397,
   "metadata": {
    "ExecuteTime": {
     "end_time": "2020-03-06T20:30:25.615591Z",
     "start_time": "2020-03-06T20:30:25.611761Z"
    }
   },
   "outputs": [],
   "source": [
    "train_data = lgb.Dataset(X_train, label=y_train, categorical_feature=categorical_features)\n",
    "val_data = lgb.Dataset(X_val, label=y_val)"
   ]
  },
  {
   "cell_type": "code",
   "execution_count": 398,
   "metadata": {
    "ExecuteTime": {
     "end_time": "2020-03-06T20:30:26.134341Z",
     "start_time": "2020-03-06T20:30:26.130996Z"
    }
   },
   "outputs": [],
   "source": [
    "param = {'objective':'regression',\n",
    "         'learning_rate': 0.01,\n",
    "         \"boosting\": \"gbdt\",\n",
    "         \"feature_fraction\": 0.9,\n",
    "         \"bagging_fraction\": 0.9 ,\n",
    "         \"bagging_seed\": 11,\n",
    "         \"metric\": ['rmse'],\n",
    "         \"random_state\": 4590}"
   ]
  },
  {
   "cell_type": "code",
   "execution_count": 399,
   "metadata": {
    "ExecuteTime": {
     "end_time": "2020-03-06T20:30:34.445207Z",
     "start_time": "2020-03-06T20:30:26.740250Z"
    }
   },
   "outputs": [
    {
     "name": "stderr",
     "output_type": "stream",
     "text": [
      "/home/johnny/anaconda3/lib/python3.7/site-packages/lightgbm/basic.py:1243: UserWarning: Using categorical_feature in Dataset.\n",
      "  warnings.warn('Using categorical_feature in Dataset.')\n",
      "/home/johnny/anaconda3/lib/python3.7/site-packages/lightgbm/basic.py:1247: UserWarning: categorical_feature in Dataset is overridden.\n",
      "New categorical_feature is ['became_member_on_dayofweek', 'became_member_on_month', 'became_member_on_year', 'difficulty', 'email', 'event', 'gender', 'mobile', 'offer_completed', 'offer_id', 'offer_type', 'offer_viewed', 'reward', 'social', 'web']\n",
      "  'New categorical_feature is {}'.format(sorted(list(categorical_feature))))\n"
     ]
    },
    {
     "name": "stdout",
     "output_type": "stream",
     "text": [
      "Training until validation scores don't improve for 1000 rounds\n",
      "[100]\tvalid_0's rmse: 0.185902\n",
      "[200]\tvalid_0's rmse: 0.0710414\n",
      "[300]\tvalid_0's rmse: 0.0277341\n",
      "[400]\tvalid_0's rmse: 0.0111184\n",
      "[500]\tvalid_0's rmse: 0.00499958\n",
      "[600]\tvalid_0's rmse: 0.00260131\n",
      "[700]\tvalid_0's rmse: 0.00167831\n",
      "[800]\tvalid_0's rmse: 0.00132814\n",
      "[900]\tvalid_0's rmse: 0.00119049\n",
      "[1000]\tvalid_0's rmse: 0.00110889\n",
      "[1100]\tvalid_0's rmse: 0.00105082\n",
      "[1200]\tvalid_0's rmse: 0.00100427\n",
      "[1300]\tvalid_0's rmse: 0.000967031\n",
      "[1400]\tvalid_0's rmse: 0.000936111\n",
      "[1500]\tvalid_0's rmse: 0.000910571\n",
      "[1600]\tvalid_0's rmse: 0.000880487\n",
      "[1700]\tvalid_0's rmse: 0.000856599\n",
      "[1800]\tvalid_0's rmse: 0.000833453\n",
      "[1900]\tvalid_0's rmse: 0.000813912\n",
      "[2000]\tvalid_0's rmse: 0.000797798\n",
      "[2100]\tvalid_0's rmse: 0.000783298\n",
      "[2200]\tvalid_0's rmse: 0.000770281\n",
      "[2300]\tvalid_0's rmse: 0.000757898\n",
      "[2400]\tvalid_0's rmse: 0.00074457\n",
      "[2500]\tvalid_0's rmse: 0.000731629\n",
      "[2600]\tvalid_0's rmse: 0.000720137\n",
      "[2700]\tvalid_0's rmse: 0.000707642\n",
      "[2800]\tvalid_0's rmse: 0.000694916\n",
      "[2900]\tvalid_0's rmse: 0.000682081\n",
      "[3000]\tvalid_0's rmse: 0.000672727\n",
      "[3100]\tvalid_0's rmse: 0.000663923\n",
      "[3200]\tvalid_0's rmse: 0.000657188\n",
      "[3300]\tvalid_0's rmse: 0.000651622\n",
      "[3400]\tvalid_0's rmse: 0.000644442\n",
      "[3500]\tvalid_0's rmse: 0.00063729\n",
      "[3600]\tvalid_0's rmse: 0.000630771\n",
      "[3700]\tvalid_0's rmse: 0.000623388\n",
      "[3800]\tvalid_0's rmse: 0.00061783\n",
      "[3900]\tvalid_0's rmse: 0.00061333\n",
      "[4000]\tvalid_0's rmse: 0.000609106\n",
      "[4100]\tvalid_0's rmse: 0.000604171\n",
      "[4200]\tvalid_0's rmse: 0.000600487\n",
      "[4300]\tvalid_0's rmse: 0.000596382\n",
      "[4400]\tvalid_0's rmse: 0.000592499\n",
      "[4500]\tvalid_0's rmse: 0.00058934\n",
      "[4600]\tvalid_0's rmse: 0.000586433\n",
      "[4700]\tvalid_0's rmse: 0.000582555\n",
      "[4800]\tvalid_0's rmse: 0.000578839\n",
      "[4900]\tvalid_0's rmse: 0.000576132\n",
      "[5000]\tvalid_0's rmse: 0.000573761\n",
      "Did not meet early stopping. Best iteration is:\n",
      "[4999]\tvalid_0's rmse: 0.000573759\n"
     ]
    }
   ],
   "source": [
    "model = lgb.train(param,\n",
    "                 train_data,\n",
    "                 valid_sets=val_data,\n",
    "                 num_boost_round=5000,\n",
    "                 early_stopping_rounds=1000,\n",
    "                 verbose_eval=100)"
   ]
  },
  {
   "cell_type": "code",
   "execution_count": 400,
   "metadata": {
    "ExecuteTime": {
     "end_time": "2020-03-06T20:30:38.952364Z",
     "start_time": "2020-03-06T20:30:35.493555Z"
    }
   },
   "outputs": [],
   "source": [
    "predsValid = model.predict(X_val, num_iteration=model.best_iteration)\n",
    "predsTrain = model.predict(X_train, num_iteration=model.best_iteration)\n",
    "predsTest = model.predict(X_test, num_iteration=model.best_iteration)"
   ]
  },
  {
   "cell_type": "code",
   "execution_count": 401,
   "metadata": {
    "ExecuteTime": {
     "end_time": "2020-03-06T20:30:39.374431Z",
     "start_time": "2020-03-06T20:30:39.370044Z"
    }
   },
   "outputs": [
    {
     "name": "stdout",
     "output_type": "stream",
     "text": [
      "The rmse of valdation prediction is: 0.000573758791686633\n",
      "The rmse of taain prediction is: 0.000415653599003932\n",
      "The rmse of test prediction is: 0.0005556242411459438\n"
     ]
    }
   ],
   "source": [
    "print('The rmse of valdation prediction is:', mean_squared_error(y_val, predsValid) ** 0.5)\n",
    "print('The rmse of taain prediction is:', mean_squared_error(y_train, predsTrain) ** 0.5)\n",
    "print('The rmse of test prediction is:', mean_squared_error(y_test, predsTest) ** 0.5)"
   ]
  },
  {
   "cell_type": "code",
   "execution_count": 402,
   "metadata": {
    "ExecuteTime": {
     "end_time": "2020-03-06T20:30:39.767911Z",
     "start_time": "2020-03-06T20:30:39.756356Z"
    }
   },
   "outputs": [
    {
     "name": "stdout",
     "output_type": "stream",
     "text": [
      "log_loss 0.00016560754659984274\n"
     ]
    },
    {
     "name": "stderr",
     "output_type": "stream",
     "text": [
      "/home/johnny/anaconda3/lib/python3.7/site-packages/ipykernel_launcher.py:4: UserWarning: Pandas doesn't allow columns to be created via a new attribute name - see https://pandas.pydata.org/pandas-docs/stable/indexing.html#attribute-access\n",
      "  after removing the cwd from sys.path.\n"
     ]
    }
   ],
   "source": [
    "loss = pd.DataFrame()\n",
    "loss['success'] = list(y_test)\n",
    "loss['preds']=predsTest\n",
    "loss.is_trade = loss['success'].astype(np.float64)\n",
    "print('log_loss', metrics.log_loss(loss.success, loss.preds))"
   ]
  },
  {
   "cell_type": "code",
   "execution_count": 403,
   "metadata": {
    "ExecuteTime": {
     "end_time": "2020-03-06T20:30:40.440498Z",
     "start_time": "2020-03-06T20:30:40.152687Z"
    }
   },
   "outputs": [
    {
     "data": {
      "image/png": "[encoded data removed]",
      "text/plain": [
       "<Figure size 432x288 with 1 Axes>"
      ]
     },
     "metadata": {
      "needs_background": "light"
     },
     "output_type": "display_data"
    },
    {
     "data": {
      "image/png": "[encoded data removed]",
      "text/plain": [
       "<Figure size 432x288 with 1 Axes>"
      ]
     },
     "metadata": {
      "needs_background": "light"
     },
     "output_type": "display_data"
    },
    {
     "name": "stdout",
     "output_type": "stream",
     "text": [
      "[    0 12553  2385   756   248  8460  5745     0  1633  3448  2722 12668\n",
      "     0 35616  1609 14093 12076  4409  7827  3636 20059]\n",
      "[0.00000000e+00 7.10937220e+02 3.78996819e+01 3.98358862e-01\n",
      " 1.34238853e+00 5.87799713e+03 6.73968062e+01 0.00000000e+00\n",
      " 4.55407487e-01 6.62814138e+02 1.81433585e+01 2.60894763e+02\n",
      " 0.00000000e+00 5.37126784e+02 1.31725614e-01 1.84203839e+03\n",
      " 4.18116496e+02 8.48538822e+00 3.48858074e+05 1.39391650e+05\n",
      " 8.56311288e+03]\n"
     ]
    }
   ],
   "source": [
    "# Plot importance\n",
    "lgb.plot_importance(model, importance_type=\"split\", title=\"split\")\n",
    "plt.show()\n",
    "\n",
    "lgb.plot_importance(model, importance_type=\"gain\", title='gain')\n",
    "plt.show()\n",
    "\n",
    "# Importance values are also available in:\n",
    "print(model.feature_importance(\"split\"))\n",
    "print(model.feature_importance(\"gain\"))"
   ]
  },
  {
   "cell_type": "markdown",
   "metadata": {
    "ExecuteTime": {
     "end_time": "2020-03-06T20:31:02.487595Z",
     "start_time": "2020-03-06T20:31:02.482254Z"
    }
   },
   "source": [
    "# Conclusion\n",
    "\n",
    "My goal of this project is to build a predict model to find out whether a customer will respond to an certain offer based on the simulated. The model I choose is LighGBM and the result is great. After several round of tunning the result of RMSE for test data reaches 0.000556 and the log_loss is lower than 0.000166.\n",
    "From the model we can tell that the top 5 important features for split are:\n",
    "1. Customers' income\n",
    "2. Offer view time\n",
    "3. The year of the customer becomes the member\n",
    "\n",
    "the top 5 important features for gain are:\n",
    "1. whether the offer is complete\n",
    "2. whether the offer is viewed\n",
    "3. Offer view time"
   ]
  }
 ],
 "metadata": {
  "kernelspec": {
   "display_name": "Python 3",
   "language": "python",
   "name": "python3"
  },
  "language_info": {
   "codemirror_mode": {
    "name": "ipython",
    "version": 3
   },
   "file_extension": ".py",
   "mimetype": "text/x-python",
   "name": "python",
   "nbconvert_exporter": "python",
   "pygments_lexer": "ipython3",
   "version": "3.7.3"
  },
  "toc": {
   "base_numbering": "1",
   "nav_menu": {},
   "number_sections": true,
   "sideBar": true,
   "skip_h1_title": false,
   "title_cell": "Table of Contents",
   "title_sidebar": "Contents",
   "toc_cell": true,
   "toc_position": {},
   "toc_section_display": true,
   "toc_window_display": true
  },
  "varInspector": {
   "cols": {
    "lenName": 16,
    "lenType": 16,
    "lenVar": 40
   },
   "kernels_config": {
    "python": {
     "delete_cmd_postfix": "",
     "delete_cmd_prefix": "del ",
     "library": "var_list.py",
     "varRefreshCmd": "print(var_dic_list())"
    },
    "r": {
     "delete_cmd_postfix": ") ",
     "delete_cmd_prefix": "rm(",
     "library": "var_list.r",
     "varRefreshCmd": "cat(var_dic_list()) "
    }
   },
   "types_to_exclude": [
    "module",
    "function",
    "builtin_function_or_method",
    "instance",
    "_Feature"
   ],
   "window_display": false
  }
 },
 "nbformat": 4,
 "nbformat_minor": 2
}
